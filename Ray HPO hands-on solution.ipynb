{
 "cells": [
  {
   "cell_type": "markdown",
   "metadata": {},
   "source": [
    "<a target=\"_blank\" href=\"https://colab.research.google.com/github/RaphaelMaser/Ray_Tune/blob/main/Ray%20HPO%20hands-on%20solution.ipynb\">\n",
    "  <img src=\"https://colab.research.google.com/assets/colab-badge.svg\" alt=\"Open In Colab\"/>\n",
    "</a>"
   ]
  },
  {
   "cell_type": "code",
   "execution_count": 1,
   "metadata": {},
   "outputs": [],
   "source": [
    "%%capture\n",
    "%pip install ray[tune]==2.2.0\n",
    "%pip install tensorboardx==2.5.1\n",
    "%pip install matplotlib==3.6.3"
   ]
  },
  {
   "cell_type": "code",
   "execution_count": 2,
   "metadata": {},
   "outputs": [],
   "source": [
    "import ray\n",
    "from ray import air, tune\n",
    "from ray.air import session"
   ]
  },
  {
   "attachments": {},
   "cell_type": "markdown",
   "metadata": {},
   "source": [
    "# HPO with Ray Tune"
   ]
  },
  {
   "attachments": {},
   "cell_type": "markdown",
   "metadata": {},
   "source": [
    "The task in this notebook is to use Ray Tune to optimize the hyperparameters, namely \"a\" and \"b\", of the function \"objective_function\" in order to maximize \"metric\". Possible values for \"a\" and \"b\" are in the range from 0 to 1."
   ]
  },
  {
   "cell_type": "code",
   "execution_count": 3,
   "metadata": {},
   "outputs": [],
   "source": [
    "def objective_function(a, b):\n",
    "  for i in range(10):\n",
    "    metric = a*i + b"
   ]
  },
  {
   "attachments": {},
   "cell_type": "markdown",
   "metadata": {},
   "source": [
    "## Random Search"
   ]
  },
  {
   "attachments": {},
   "cell_type": "markdown",
   "metadata": {},
   "source": [
    "Try to use Ray Tune with the random hyperparameter search. For that purpose you need to modify the function so that it is compatible with Ray Tune, e.g. change the input argument (needs to take a dictionary as input) and report the training progress to Ray. Furthermore you need to define a tuner and run it. If the return value is named \"results\" the training results can be displayed in the following cell.\n",
    "\n",
    "Hint: Ray automatically uses random search if you do not specify any search algorithm"
   ]
  },
  {
   "cell_type": "code",
   "execution_count": 4,
   "metadata": {},
   "outputs": [
    {
     "name": "stderr",
     "output_type": "stream",
     "text": [
      "2023-01-25 00:00:58,486\tINFO worker.py:1538 -- Started a local Ray instance.\n"
     ]
    },
    {
     "data": {
      "text/html": [
       "<div class=\"tuneStatus\">\n",
       "  <div style=\"display: flex;flex-direction: row\">\n",
       "    <div style=\"display: flex;flex-direction: column;\">\n",
       "      <h3>Tune Status</h3>\n",
       "      <table>\n",
       "<tbody>\n",
       "<tr><td>Current time:</td><td>2023-01-25 00:01:04</td></tr>\n",
       "<tr><td>Running for: </td><td>00:00:03.71        </td></tr>\n",
       "<tr><td>Memory:      </td><td>18.2/30.6 GiB      </td></tr>\n",
       "</tbody>\n",
       "</table>\n",
       "    </div>\n",
       "    <div class=\"vDivider\"></div>\n",
       "    <div class=\"systemInfo\">\n",
       "      <h3>System Info</h3>\n",
       "      Using FIFO scheduling algorithm.<br>Resources requested: 0/16 CPUs, 0/0 GPUs, 0.0/8.93 GiB heap, 0.0/4.47 GiB objects\n",
       "    </div>\n",
       "    \n",
       "  </div>\n",
       "  <div class=\"hDivider\"></div>\n",
       "  <div class=\"trialStatus\">\n",
       "    <h3>Trial Status</h3>\n",
       "    <table>\n",
       "<thead>\n",
       "<tr><th>Trial name                         </th><th>status    </th><th>loc                  </th><th style=\"text-align: right;\">        a</th><th style=\"text-align: right;\">        b</th><th style=\"text-align: right;\">  iter</th><th style=\"text-align: right;\">  total time (s)</th><th style=\"text-align: right;\">  metric</th></tr>\n",
       "</thead>\n",
       "<tbody>\n",
       "<tr><td>objective_function_tune_f7e4f_00000</td><td>TERMINATED</td><td>192.168.188.20:447937</td><td style=\"text-align: right;\">0.43706  </td><td style=\"text-align: right;\">0.924445 </td><td style=\"text-align: right;\">    10</td><td style=\"text-align: right;\">       0.0573442</td><td style=\"text-align: right;\">4.85798 </td></tr>\n",
       "<tr><td>objective_function_tune_f7e4f_00001</td><td>TERMINATED</td><td>192.168.188.20:448017</td><td style=\"text-align: right;\">0.0111365</td><td style=\"text-align: right;\">0.586872 </td><td style=\"text-align: right;\">    10</td><td style=\"text-align: right;\">       0.0731134</td><td style=\"text-align: right;\">0.687101</td></tr>\n",
       "<tr><td>objective_function_tune_f7e4f_00002</td><td>TERMINATED</td><td>192.168.188.20:448019</td><td style=\"text-align: right;\">0.23865  </td><td style=\"text-align: right;\">0.0531251</td><td style=\"text-align: right;\">    10</td><td style=\"text-align: right;\">       0.0672703</td><td style=\"text-align: right;\">2.20097 </td></tr>\n",
       "<tr><td>objective_function_tune_f7e4f_00003</td><td>TERMINATED</td><td>192.168.188.20:448021</td><td style=\"text-align: right;\">0.101826 </td><td style=\"text-align: right;\">0.599487 </td><td style=\"text-align: right;\">    10</td><td style=\"text-align: right;\">       0.0687931</td><td style=\"text-align: right;\">1.51592 </td></tr>\n",
       "<tr><td>objective_function_tune_f7e4f_00004</td><td>TERMINATED</td><td>192.168.188.20:448023</td><td style=\"text-align: right;\">0.0285705</td><td style=\"text-align: right;\">0.959282 </td><td style=\"text-align: right;\">    10</td><td style=\"text-align: right;\">       0.0510025</td><td style=\"text-align: right;\">1.21642 </td></tr>\n",
       "</tbody>\n",
       "</table>\n",
       "  </div>\n",
       "</div>\n",
       "<style>\n",
       ".tuneStatus {\n",
       "  color: var(--jp-ui-font-color1);\n",
       "}\n",
       ".tuneStatus .systemInfo {\n",
       "  display: flex;\n",
       "  flex-direction: column;\n",
       "}\n",
       ".tuneStatus td {\n",
       "  white-space: nowrap;\n",
       "}\n",
       ".tuneStatus .trialStatus {\n",
       "  display: flex;\n",
       "  flex-direction: column;\n",
       "}\n",
       ".tuneStatus h3 {\n",
       "  font-weight: bold;\n",
       "}\n",
       ".tuneStatus .hDivider {\n",
       "  border-bottom-width: var(--jp-border-width);\n",
       "  border-bottom-color: var(--jp-border-color0);\n",
       "  border-bottom-style: solid;\n",
       "}\n",
       ".tuneStatus .vDivider {\n",
       "  border-left-width: var(--jp-border-width);\n",
       "  border-left-color: var(--jp-border-color0);\n",
       "  border-left-style: solid;\n",
       "  margin: 0.5em 1em 0.5em 1em;\n",
       "}\n",
       "</style>\n"
      ],
      "text/plain": [
       "<IPython.core.display.HTML object>"
      ]
     },
     "metadata": {},
     "output_type": "display_data"
    },
    {
     "data": {
      "text/html": [
       "<div class=\"trialProgress\">\n",
       "  <h3>Trial Progress</h3>\n",
       "  <table>\n",
       "<thead>\n",
       "<tr><th>Trial name                         </th><th>date               </th><th>done  </th><th>episodes_total  </th><th>experiment_id                   </th><th>experiment_tag     </th><th>hostname          </th><th style=\"text-align: right;\">  iterations_since_restore</th><th style=\"text-align: right;\">  metric</th><th>node_ip       </th><th style=\"text-align: right;\">   pid</th><th style=\"text-align: right;\">  time_since_restore</th><th style=\"text-align: right;\">  time_this_iter_s</th><th style=\"text-align: right;\">  time_total_s</th><th style=\"text-align: right;\">  timestamp</th><th style=\"text-align: right;\">  timesteps_since_restore</th><th>timesteps_total  </th><th style=\"text-align: right;\">  training_iteration</th><th>trial_id   </th><th style=\"text-align: right;\">  warmup_time</th></tr>\n",
       "</thead>\n",
       "<tbody>\n",
       "<tr><td>objective_function_tune_f7e4f_00000</td><td>2023-01-25_00-01-02</td><td>True  </td><td>                </td><td>0ce92b29167f461991d7ee738b8a7293</td><td>0_a=0.4371,b=0.9244</td><td>raphael-20ujs00k00</td><td style=\"text-align: right;\">                        10</td><td style=\"text-align: right;\">4.85798 </td><td>192.168.188.20</td><td style=\"text-align: right;\">447937</td><td style=\"text-align: right;\">           0.0573442</td><td style=\"text-align: right;\">        0.00341702</td><td style=\"text-align: right;\">     0.0573442</td><td style=\"text-align: right;\"> 1674601262</td><td style=\"text-align: right;\">                        0</td><td>                 </td><td style=\"text-align: right;\">                  10</td><td>f7e4f_00000</td><td style=\"text-align: right;\">   0.00274801</td></tr>\n",
       "<tr><td>objective_function_tune_f7e4f_00001</td><td>2023-01-25_00-01-04</td><td>True  </td><td>                </td><td>2f3c7fade4644676896de033c746f4c8</td><td>1_a=0.0111,b=0.5869</td><td>raphael-20ujs00k00</td><td style=\"text-align: right;\">                        10</td><td style=\"text-align: right;\">0.687101</td><td>192.168.188.20</td><td style=\"text-align: right;\">448017</td><td style=\"text-align: right;\">           0.0731134</td><td style=\"text-align: right;\">        0.00379753</td><td style=\"text-align: right;\">     0.0731134</td><td style=\"text-align: right;\"> 1674601264</td><td style=\"text-align: right;\">                        0</td><td>                 </td><td style=\"text-align: right;\">                  10</td><td>f7e4f_00001</td><td style=\"text-align: right;\">   0.00540185</td></tr>\n",
       "<tr><td>objective_function_tune_f7e4f_00002</td><td>2023-01-25_00-01-04</td><td>True  </td><td>                </td><td>e23674a1714144c6a44f2e3565662f10</td><td>2_a=0.2386,b=0.0531</td><td>raphael-20ujs00k00</td><td style=\"text-align: right;\">                        10</td><td style=\"text-align: right;\">2.20097 </td><td>192.168.188.20</td><td style=\"text-align: right;\">448019</td><td style=\"text-align: right;\">           0.0672703</td><td style=\"text-align: right;\">        0.00521922</td><td style=\"text-align: right;\">     0.0672703</td><td style=\"text-align: right;\"> 1674601264</td><td style=\"text-align: right;\">                        0</td><td>                 </td><td style=\"text-align: right;\">                  10</td><td>f7e4f_00002</td><td style=\"text-align: right;\">   0.0047853 </td></tr>\n",
       "<tr><td>objective_function_tune_f7e4f_00003</td><td>2023-01-25_00-01-04</td><td>True  </td><td>                </td><td>cd8acccb496b468d9b75663fcaa60d8c</td><td>3_a=0.1018,b=0.5995</td><td>raphael-20ujs00k00</td><td style=\"text-align: right;\">                        10</td><td style=\"text-align: right;\">1.51592 </td><td>192.168.188.20</td><td style=\"text-align: right;\">448021</td><td style=\"text-align: right;\">           0.0687931</td><td style=\"text-align: right;\">        0.0104306 </td><td style=\"text-align: right;\">     0.0687931</td><td style=\"text-align: right;\"> 1674601264</td><td style=\"text-align: right;\">                        0</td><td>                 </td><td style=\"text-align: right;\">                  10</td><td>f7e4f_00003</td><td style=\"text-align: right;\">   0.00415063</td></tr>\n",
       "<tr><td>objective_function_tune_f7e4f_00004</td><td>2023-01-25_00-01-04</td><td>True  </td><td>                </td><td>492c21f0b1424e2096e913c67d734cf8</td><td>4_a=0.0286,b=0.9593</td><td>raphael-20ujs00k00</td><td style=\"text-align: right;\">                        10</td><td style=\"text-align: right;\">1.21642 </td><td>192.168.188.20</td><td style=\"text-align: right;\">448023</td><td style=\"text-align: right;\">           0.0510025</td><td style=\"text-align: right;\">        0.0045135 </td><td style=\"text-align: right;\">     0.0510025</td><td style=\"text-align: right;\"> 1674601264</td><td style=\"text-align: right;\">                        0</td><td>                 </td><td style=\"text-align: right;\">                  10</td><td>f7e4f_00004</td><td style=\"text-align: right;\">   0.007061  </td></tr>\n",
       "</tbody>\n",
       "</table>\n",
       "</div>\n",
       "<style>\n",
       ".trialProgress {\n",
       "  display: flex;\n",
       "  flex-direction: column;\n",
       "  color: var(--jp-ui-font-color1);\n",
       "}\n",
       ".trialProgress h3 {\n",
       "  font-weight: bold;\n",
       "}\n",
       ".trialProgress td {\n",
       "  white-space: nowrap;\n",
       "}\n",
       "</style>\n"
      ],
      "text/plain": [
       "<IPython.core.display.HTML object>"
      ]
     },
     "metadata": {},
     "output_type": "display_data"
    },
    {
     "name": "stderr",
     "output_type": "stream",
     "text": [
      "2023-01-25 00:01:04,512\tINFO tune.py:762 -- Total run time: 4.58 seconds (3.70 seconds for the tuning loop).\n"
     ]
    }
   ],
   "source": [
    "def objective_function_tune(config):\n",
    "  a = config[\"a\"]\n",
    "  b = config[\"b\"]\n",
    "\n",
    "  for i in range(10):\n",
    "    metric = a*i + b\n",
    "    session.report({\"metric\": metric})\n",
    "\n",
    "param_space = {\n",
    "    \"a\": tune.uniform(0,1),\n",
    "    \"b\": tune.uniform(0,1)\n",
    "}\n",
    "\n",
    "tuner = tune.Tuner(\n",
    "    objective_function_tune,\n",
    "    param_space = param_space,\n",
    "    tune_config = tune.TuneConfig(\n",
    "        num_samples = 5,\n",
    "        metric=\"metric\",\n",
    "        mode=\"max\",\n",
    "        )\n",
    "    )\n",
    "\n",
    "results = tuner.fit()"
   ]
  },
  {
   "cell_type": "code",
   "execution_count": 5,
   "metadata": {},
   "outputs": [
    {
     "name": "stdout",
     "output_type": "stream",
     "text": [
      "{'a': 0.4370595506419941, 'b': 0.9244450810219726}\n"
     ]
    },
    {
     "data": {
      "text/plain": [
       "Text(0, 0.5, 'Mean accuracy')"
      ]
     },
     "execution_count": 5,
     "metadata": {},
     "output_type": "execute_result"
    },
    {
     "data": {
      "image/png": "[encoded data removed]",
      "text/plain": [
       "<Figure size 432x288 with 1 Axes>"
      ]
     },
     "metadata": {
      "needs_background": "light"
     },
     "output_type": "display_data"
    }
   ],
   "source": [
    "print(results.get_best_result().config)\n",
    "\n",
    "ax = None\n",
    "dfs = {result.log_dir: result.metrics_dataframe for result in results}\n",
    "for d in dfs.values():\n",
    "    ax = d.plot(ax=ax, y=\"metric\", legend=False)\n",
    "ax.set_xlabel(\"Epochs\")\n",
    "ax.set_ylabel(\"Mean accuracy\")"
   ]
  },
  {
   "attachments": {},
   "cell_type": "markdown",
   "metadata": {},
   "source": [
    "## Random Search with ASAH"
   ]
  },
  {
   "attachments": {},
   "cell_type": "markdown",
   "metadata": {},
   "source": [
    "This time add the ASAH scheduler to the random search."
   ]
  },
  {
   "cell_type": "code",
   "execution_count": 6,
   "metadata": {},
   "outputs": [
    {
     "data": {
      "text/html": [
       "<div class=\"tuneStatus\">\n",
       "  <div style=\"display: flex;flex-direction: row\">\n",
       "    <div style=\"display: flex;flex-direction: column;\">\n",
       "      <h3>Tune Status</h3>\n",
       "      <table>\n",
       "<tbody>\n",
       "<tr><td>Current time:</td><td>2023-01-25 00:01:11</td></tr>\n",
       "<tr><td>Running for: </td><td>00:00:06.61        </td></tr>\n",
       "<tr><td>Memory:      </td><td>17.5/30.6 GiB      </td></tr>\n",
       "</tbody>\n",
       "</table>\n",
       "    </div>\n",
       "    <div class=\"vDivider\"></div>\n",
       "    <div class=\"systemInfo\">\n",
       "      <h3>System Info</h3>\n",
       "      Using AsyncHyperBand: num_stopped=20<br>Bracket: Iter 3.000: 2.0058865630424627<br>Resources requested: 0/16 CPUs, 0/0 GPUs, 0.0/8.93 GiB heap, 0.0/4.47 GiB objects\n",
       "    </div>\n",
       "    \n",
       "  </div>\n",
       "  <div class=\"hDivider\"></div>\n",
       "  <div class=\"trialStatus\">\n",
       "    <h3>Trial Status</h3>\n",
       "    <table>\n",
       "<thead>\n",
       "<tr><th>Trial name                         </th><th>status    </th><th>loc                  </th><th style=\"text-align: right;\">        a</th><th style=\"text-align: right;\">        b</th><th style=\"text-align: right;\">  iter</th><th style=\"text-align: right;\">  total time (s)</th><th style=\"text-align: right;\">  metric</th></tr>\n",
       "</thead>\n",
       "<tbody>\n",
       "<tr><td>objective_function_asah_fb06e_00000</td><td>TERMINATED</td><td>192.168.188.20:448365</td><td style=\"text-align: right;\">0.890048 </td><td style=\"text-align: right;\">0.922388 </td><td style=\"text-align: right;\">    10</td><td style=\"text-align: right;\">       0.972294 </td><td style=\"text-align: right;\">8.93282 </td></tr>\n",
       "<tr><td>objective_function_asah_fb06e_00001</td><td>TERMINATED</td><td>192.168.188.20:448446</td><td style=\"text-align: right;\">0.528953 </td><td style=\"text-align: right;\">0.208876 </td><td style=\"text-align: right;\">     3</td><td style=\"text-align: right;\">       0.818475 </td><td style=\"text-align: right;\">1.26678 </td></tr>\n",
       "<tr><td>objective_function_asah_fb06e_00002</td><td>TERMINATED</td><td>192.168.188.20:448448</td><td style=\"text-align: right;\">0.925403 </td><td style=\"text-align: right;\">0.816588 </td><td style=\"text-align: right;\">    10</td><td style=\"text-align: right;\">       0.655627 </td><td style=\"text-align: right;\">9.14522 </td></tr>\n",
       "<tr><td>objective_function_asah_fb06e_00003</td><td>TERMINATED</td><td>192.168.188.20:448450</td><td style=\"text-align: right;\">0.0806858</td><td style=\"text-align: right;\">0.71505  </td><td style=\"text-align: right;\">     3</td><td style=\"text-align: right;\">       0.695515 </td><td style=\"text-align: right;\">0.876422</td></tr>\n",
       "<tr><td>objective_function_asah_fb06e_00004</td><td>TERMINATED</td><td>192.168.188.20:448452</td><td style=\"text-align: right;\">0.617291 </td><td style=\"text-align: right;\">0.246679 </td><td style=\"text-align: right;\">     3</td><td style=\"text-align: right;\">       0.689029 </td><td style=\"text-align: right;\">1.48126 </td></tr>\n",
       "<tr><td>objective_function_asah_fb06e_00005</td><td>TERMINATED</td><td>192.168.188.20:448454</td><td style=\"text-align: right;\">0.8904   </td><td style=\"text-align: right;\">0.254019 </td><td style=\"text-align: right;\">     3</td><td style=\"text-align: right;\">       0.30663  </td><td style=\"text-align: right;\">2.03482 </td></tr>\n",
       "<tr><td>objective_function_asah_fb06e_00006</td><td>TERMINATED</td><td>192.168.188.20:448456</td><td style=\"text-align: right;\">0.628125 </td><td style=\"text-align: right;\">0.942427 </td><td style=\"text-align: right;\">    10</td><td style=\"text-align: right;\">       0.992512 </td><td style=\"text-align: right;\">6.59555 </td></tr>\n",
       "<tr><td>objective_function_asah_fb06e_00007</td><td>TERMINATED</td><td>192.168.188.20:448458</td><td style=\"text-align: right;\">0.896625 </td><td style=\"text-align: right;\">0.202991 </td><td style=\"text-align: right;\">     3</td><td style=\"text-align: right;\">       0.665044 </td><td style=\"text-align: right;\">1.99624 </td></tr>\n",
       "<tr><td>objective_function_asah_fb06e_00008</td><td>TERMINATED</td><td>192.168.188.20:448460</td><td style=\"text-align: right;\">0.663791 </td><td style=\"text-align: right;\">0.948015 </td><td style=\"text-align: right;\">    10</td><td style=\"text-align: right;\">       0.797923 </td><td style=\"text-align: right;\">6.92213 </td></tr>\n",
       "<tr><td>objective_function_asah_fb06e_00009</td><td>TERMINATED</td><td>192.168.188.20:448462</td><td style=\"text-align: right;\">0.15223  </td><td style=\"text-align: right;\">0.16475  </td><td style=\"text-align: right;\">     3</td><td style=\"text-align: right;\">       0.329827 </td><td style=\"text-align: right;\">0.469209</td></tr>\n",
       "<tr><td>objective_function_asah_fb06e_00010</td><td>TERMINATED</td><td>192.168.188.20:448464</td><td style=\"text-align: right;\">0.490662 </td><td style=\"text-align: right;\">0.955449 </td><td style=\"text-align: right;\">     3</td><td style=\"text-align: right;\">       0.365964 </td><td style=\"text-align: right;\">1.93677 </td></tr>\n",
       "<tr><td>objective_function_asah_fb06e_00011</td><td>TERMINATED</td><td>192.168.188.20:448465</td><td style=\"text-align: right;\">0.223358 </td><td style=\"text-align: right;\">0.0907412</td><td style=\"text-align: right;\">     3</td><td style=\"text-align: right;\">       0.468187 </td><td style=\"text-align: right;\">0.537457</td></tr>\n",
       "<tr><td>objective_function_asah_fb06e_00012</td><td>TERMINATED</td><td>192.168.188.20:448498</td><td style=\"text-align: right;\">0.5854   </td><td style=\"text-align: right;\">0.819876 </td><td style=\"text-align: right;\">     3</td><td style=\"text-align: right;\">       0.168254 </td><td style=\"text-align: right;\">1.99068 </td></tr>\n",
       "<tr><td>objective_function_asah_fb06e_00013</td><td>TERMINATED</td><td>192.168.188.20:448515</td><td style=\"text-align: right;\">0.689142 </td><td style=\"text-align: right;\">0.0882988</td><td style=\"text-align: right;\">     3</td><td style=\"text-align: right;\">       0.0559177</td><td style=\"text-align: right;\">1.46658 </td></tr>\n",
       "<tr><td>objective_function_asah_fb06e_00014</td><td>TERMINATED</td><td>192.168.188.20:448532</td><td style=\"text-align: right;\">0.0232865</td><td style=\"text-align: right;\">0.866702 </td><td style=\"text-align: right;\">     3</td><td style=\"text-align: right;\">       0.30238  </td><td style=\"text-align: right;\">0.913275</td></tr>\n",
       "<tr><td>objective_function_asah_fb06e_00015</td><td>TERMINATED</td><td>192.168.188.20:448534</td><td style=\"text-align: right;\">0.398679 </td><td style=\"text-align: right;\">0.11252  </td><td style=\"text-align: right;\">     3</td><td style=\"text-align: right;\">       0.594943 </td><td style=\"text-align: right;\">0.909878</td></tr>\n",
       "<tr><td>objective_function_asah_fb06e_00016</td><td>TERMINATED</td><td>192.168.188.20:448365</td><td style=\"text-align: right;\">0.316211 </td><td style=\"text-align: right;\">0.370621 </td><td style=\"text-align: right;\">     3</td><td style=\"text-align: right;\">       0.193107 </td><td style=\"text-align: right;\">1.00304 </td></tr>\n",
       "<tr><td>objective_function_asah_fb06e_00017</td><td>TERMINATED</td><td>192.168.188.20:448365</td><td style=\"text-align: right;\">0.025697 </td><td style=\"text-align: right;\">0.251917 </td><td style=\"text-align: right;\">     3</td><td style=\"text-align: right;\">       0.0500841</td><td style=\"text-align: right;\">0.30331 </td></tr>\n",
       "<tr><td>objective_function_asah_fb06e_00018</td><td>TERMINATED</td><td>192.168.188.20:448365</td><td style=\"text-align: right;\">0.469027 </td><td style=\"text-align: right;\">0.311757 </td><td style=\"text-align: right;\">     3</td><td style=\"text-align: right;\">       0.454715 </td><td style=\"text-align: right;\">1.24981 </td></tr>\n",
       "<tr><td>objective_function_asah_fb06e_00019</td><td>TERMINATED</td><td>192.168.188.20:448365</td><td style=\"text-align: right;\">0.190537 </td><td style=\"text-align: right;\">0.655382 </td><td style=\"text-align: right;\">     3</td><td style=\"text-align: right;\">       0.344381 </td><td style=\"text-align: right;\">1.03646 </td></tr>\n",
       "</tbody>\n",
       "</table>\n",
       "  </div>\n",
       "</div>\n",
       "<style>\n",
       ".tuneStatus {\n",
       "  color: var(--jp-ui-font-color1);\n",
       "}\n",
       ".tuneStatus .systemInfo {\n",
       "  display: flex;\n",
       "  flex-direction: column;\n",
       "}\n",
       ".tuneStatus td {\n",
       "  white-space: nowrap;\n",
       "}\n",
       ".tuneStatus .trialStatus {\n",
       "  display: flex;\n",
       "  flex-direction: column;\n",
       "}\n",
       ".tuneStatus h3 {\n",
       "  font-weight: bold;\n",
       "}\n",
       ".tuneStatus .hDivider {\n",
       "  border-bottom-width: var(--jp-border-width);\n",
       "  border-bottom-color: var(--jp-border-color0);\n",
       "  border-bottom-style: solid;\n",
       "}\n",
       ".tuneStatus .vDivider {\n",
       "  border-left-width: var(--jp-border-width);\n",
       "  border-left-color: var(--jp-border-color0);\n",
       "  border-left-style: solid;\n",
       "  margin: 0.5em 1em 0.5em 1em;\n",
       "}\n",
       "</style>\n"
      ],
      "text/plain": [
       "<IPython.core.display.HTML object>"
      ]
     },
     "metadata": {},
     "output_type": "display_data"
    },
    {
     "data": {
      "text/html": [
       "<div class=\"trialProgress\">\n",
       "  <h3>Trial Progress</h3>\n",
       "  <table>\n",
       "<thead>\n",
       "<tr><th>Trial name                         </th><th>date               </th><th>done  </th><th>episodes_total  </th><th>experiment_id                   </th><th>hostname          </th><th style=\"text-align: right;\">  iterations_since_restore</th><th style=\"text-align: right;\">  metric</th><th>node_ip       </th><th style=\"text-align: right;\">   pid</th><th style=\"text-align: right;\">  time_since_restore</th><th style=\"text-align: right;\">  time_this_iter_s</th><th style=\"text-align: right;\">  time_total_s</th><th style=\"text-align: right;\">  timestamp</th><th style=\"text-align: right;\">  timesteps_since_restore</th><th>timesteps_total  </th><th style=\"text-align: right;\">  training_iteration</th><th>trial_id   </th><th style=\"text-align: right;\">  warmup_time</th></tr>\n",
       "</thead>\n",
       "<tbody>\n",
       "<tr><td>objective_function_asah_fb06e_00000</td><td>2023-01-25_00-01-07</td><td>True  </td><td>                </td><td>a3d70f815c3c4928ac56ada4dcdf1a43</td><td>raphael-20ujs00k00</td><td style=\"text-align: right;\">                        10</td><td style=\"text-align: right;\">8.93282 </td><td>192.168.188.20</td><td style=\"text-align: right;\">448365</td><td style=\"text-align: right;\">           0.972294 </td><td style=\"text-align: right;\">        0.0482814 </td><td style=\"text-align: right;\">     0.972294 </td><td style=\"text-align: right;\"> 1674601267</td><td style=\"text-align: right;\">                        0</td><td>                 </td><td style=\"text-align: right;\">                  10</td><td>fb06e_00000</td><td style=\"text-align: right;\">   0.00418258</td></tr>\n",
       "<tr><td>objective_function_asah_fb06e_00001</td><td>2023-01-25_00-01-11</td><td>True  </td><td>                </td><td>f7d27ce2edc94a73bd2377503e5165c5</td><td>raphael-20ujs00k00</td><td style=\"text-align: right;\">                         3</td><td style=\"text-align: right;\">1.26678 </td><td>192.168.188.20</td><td style=\"text-align: right;\">448446</td><td style=\"text-align: right;\">           0.818475 </td><td style=\"text-align: right;\">        0.268718  </td><td style=\"text-align: right;\">     0.818475 </td><td style=\"text-align: right;\"> 1674601271</td><td style=\"text-align: right;\">                        0</td><td>                 </td><td style=\"text-align: right;\">                   3</td><td>fb06e_00001</td><td style=\"text-align: right;\">   0.00548077</td></tr>\n",
       "<tr><td>objective_function_asah_fb06e_00002</td><td>2023-01-25_00-01-11</td><td>True  </td><td>                </td><td>75571769803344958f8ee2cd64d8621b</td><td>raphael-20ujs00k00</td><td style=\"text-align: right;\">                        10</td><td style=\"text-align: right;\">9.14522 </td><td>192.168.188.20</td><td style=\"text-align: right;\">448448</td><td style=\"text-align: right;\">           0.655627 </td><td style=\"text-align: right;\">        0.0145235 </td><td style=\"text-align: right;\">     0.655627 </td><td style=\"text-align: right;\"> 1674601271</td><td style=\"text-align: right;\">                        0</td><td>                 </td><td style=\"text-align: right;\">                  10</td><td>fb06e_00002</td><td style=\"text-align: right;\">   0.0112495 </td></tr>\n",
       "<tr><td>objective_function_asah_fb06e_00003</td><td>2023-01-25_00-01-11</td><td>True  </td><td>                </td><td>e1ce0150cf2c43ba83f9d47ea31852c7</td><td>raphael-20ujs00k00</td><td style=\"text-align: right;\">                         3</td><td style=\"text-align: right;\">0.876422</td><td>192.168.188.20</td><td style=\"text-align: right;\">448450</td><td style=\"text-align: right;\">           0.695515 </td><td style=\"text-align: right;\">        0.00583005</td><td style=\"text-align: right;\">     0.695515 </td><td style=\"text-align: right;\"> 1674601271</td><td style=\"text-align: right;\">                        0</td><td>                 </td><td style=\"text-align: right;\">                   3</td><td>fb06e_00003</td><td style=\"text-align: right;\">   0.00730014</td></tr>\n",
       "<tr><td>objective_function_asah_fb06e_00004</td><td>2023-01-25_00-01-11</td><td>True  </td><td>                </td><td>26a7b70fc7d6421e911eea09fb92be07</td><td>raphael-20ujs00k00</td><td style=\"text-align: right;\">                         3</td><td style=\"text-align: right;\">1.48126 </td><td>192.168.188.20</td><td style=\"text-align: right;\">448452</td><td style=\"text-align: right;\">           0.689029 </td><td style=\"text-align: right;\">        0.66636   </td><td style=\"text-align: right;\">     0.689029 </td><td style=\"text-align: right;\"> 1674601271</td><td style=\"text-align: right;\">                        0</td><td>                 </td><td style=\"text-align: right;\">                   3</td><td>fb06e_00004</td><td style=\"text-align: right;\">   0.00977492</td></tr>\n",
       "<tr><td>objective_function_asah_fb06e_00005</td><td>2023-01-25_00-01-11</td><td>True  </td><td>                </td><td>c72252bffde746a3966a4cebee07dd9c</td><td>raphael-20ujs00k00</td><td style=\"text-align: right;\">                         3</td><td style=\"text-align: right;\">2.03482 </td><td>192.168.188.20</td><td style=\"text-align: right;\">448454</td><td style=\"text-align: right;\">           0.30663  </td><td style=\"text-align: right;\">        0.0691023 </td><td style=\"text-align: right;\">     0.30663  </td><td style=\"text-align: right;\"> 1674601271</td><td style=\"text-align: right;\">                        0</td><td>                 </td><td style=\"text-align: right;\">                   3</td><td>fb06e_00005</td><td style=\"text-align: right;\">   0.0121415 </td></tr>\n",
       "<tr><td>objective_function_asah_fb06e_00006</td><td>2023-01-25_00-01-11</td><td>True  </td><td>                </td><td>cf595d8f562441b1ba9ef7e50c7f0834</td><td>raphael-20ujs00k00</td><td style=\"text-align: right;\">                        10</td><td style=\"text-align: right;\">6.59555 </td><td>192.168.188.20</td><td style=\"text-align: right;\">448456</td><td style=\"text-align: right;\">           0.992512 </td><td style=\"text-align: right;\">        0.0040679 </td><td style=\"text-align: right;\">     0.992512 </td><td style=\"text-align: right;\"> 1674601271</td><td style=\"text-align: right;\">                        0</td><td>                 </td><td style=\"text-align: right;\">                  10</td><td>fb06e_00006</td><td style=\"text-align: right;\">   0.00715137</td></tr>\n",
       "<tr><td>objective_function_asah_fb06e_00007</td><td>2023-01-25_00-01-11</td><td>True  </td><td>                </td><td>c41d5bb9f31f473c9fefce2a0c316c32</td><td>raphael-20ujs00k00</td><td style=\"text-align: right;\">                         3</td><td style=\"text-align: right;\">1.99624 </td><td>192.168.188.20</td><td style=\"text-align: right;\">448458</td><td style=\"text-align: right;\">           0.665044 </td><td style=\"text-align: right;\">        0.0642936 </td><td style=\"text-align: right;\">     0.665044 </td><td style=\"text-align: right;\"> 1674601271</td><td style=\"text-align: right;\">                        0</td><td>                 </td><td style=\"text-align: right;\">                   3</td><td>fb06e_00007</td><td style=\"text-align: right;\">   0.00589299</td></tr>\n",
       "<tr><td>objective_function_asah_fb06e_00008</td><td>2023-01-25_00-01-11</td><td>True  </td><td>                </td><td>f67a51f6c910446fa21328e0f8b0e70c</td><td>raphael-20ujs00k00</td><td style=\"text-align: right;\">                        10</td><td style=\"text-align: right;\">6.92213 </td><td>192.168.188.20</td><td style=\"text-align: right;\">448460</td><td style=\"text-align: right;\">           0.797923 </td><td style=\"text-align: right;\">        0.00445938</td><td style=\"text-align: right;\">     0.797923 </td><td style=\"text-align: right;\"> 1674601271</td><td style=\"text-align: right;\">                        0</td><td>                 </td><td style=\"text-align: right;\">                  10</td><td>fb06e_00008</td><td style=\"text-align: right;\">   0.00466943</td></tr>\n",
       "<tr><td>objective_function_asah_fb06e_00009</td><td>2023-01-25_00-01-11</td><td>True  </td><td>                </td><td>46ef1714e6444f4eb17ff1b0ebdb262d</td><td>raphael-20ujs00k00</td><td style=\"text-align: right;\">                         3</td><td style=\"text-align: right;\">0.469209</td><td>192.168.188.20</td><td style=\"text-align: right;\">448462</td><td style=\"text-align: right;\">           0.329827 </td><td style=\"text-align: right;\">        0.102531  </td><td style=\"text-align: right;\">     0.329827 </td><td style=\"text-align: right;\"> 1674601271</td><td style=\"text-align: right;\">                        0</td><td>                 </td><td style=\"text-align: right;\">                   3</td><td>fb06e_00009</td><td style=\"text-align: right;\">   0.00527811</td></tr>\n",
       "<tr><td>objective_function_asah_fb06e_00010</td><td>2023-01-25_00-01-11</td><td>True  </td><td>                </td><td>db9c6ff5a774451d972d850388be6595</td><td>raphael-20ujs00k00</td><td style=\"text-align: right;\">                         3</td><td style=\"text-align: right;\">1.93677 </td><td>192.168.188.20</td><td style=\"text-align: right;\">448464</td><td style=\"text-align: right;\">           0.365964 </td><td style=\"text-align: right;\">        0.00492692</td><td style=\"text-align: right;\">     0.365964 </td><td style=\"text-align: right;\"> 1674601271</td><td style=\"text-align: right;\">                        0</td><td>                 </td><td style=\"text-align: right;\">                   3</td><td>fb06e_00010</td><td style=\"text-align: right;\">   0.00433946</td></tr>\n",
       "<tr><td>objective_function_asah_fb06e_00011</td><td>2023-01-25_00-01-11</td><td>True  </td><td>                </td><td>fa0566b0132641c780be0cc11d36a2f8</td><td>raphael-20ujs00k00</td><td style=\"text-align: right;\">                         3</td><td style=\"text-align: right;\">0.537457</td><td>192.168.188.20</td><td style=\"text-align: right;\">448465</td><td style=\"text-align: right;\">           0.468187 </td><td style=\"text-align: right;\">        0.0311286 </td><td style=\"text-align: right;\">     0.468187 </td><td style=\"text-align: right;\"> 1674601271</td><td style=\"text-align: right;\">                        0</td><td>                 </td><td style=\"text-align: right;\">                   3</td><td>fb06e_00011</td><td style=\"text-align: right;\">   0.0168118 </td></tr>\n",
       "<tr><td>objective_function_asah_fb06e_00012</td><td>2023-01-25_00-01-11</td><td>True  </td><td>                </td><td>666da405a84348fca7390d10bbfd8ddc</td><td>raphael-20ujs00k00</td><td style=\"text-align: right;\">                         3</td><td style=\"text-align: right;\">1.99068 </td><td>192.168.188.20</td><td style=\"text-align: right;\">448498</td><td style=\"text-align: right;\">           0.168254 </td><td style=\"text-align: right;\">        0.128713  </td><td style=\"text-align: right;\">     0.168254 </td><td style=\"text-align: right;\"> 1674601271</td><td style=\"text-align: right;\">                        0</td><td>                 </td><td style=\"text-align: right;\">                   3</td><td>fb06e_00012</td><td style=\"text-align: right;\">   0.00302601</td></tr>\n",
       "<tr><td>objective_function_asah_fb06e_00013</td><td>2023-01-25_00-01-11</td><td>True  </td><td>                </td><td>3e42d39a671b4ff88e4b333b92585432</td><td>raphael-20ujs00k00</td><td style=\"text-align: right;\">                         3</td><td style=\"text-align: right;\">1.46658 </td><td>192.168.188.20</td><td style=\"text-align: right;\">448515</td><td style=\"text-align: right;\">           0.0559177</td><td style=\"text-align: right;\">        0.0234776 </td><td style=\"text-align: right;\">     0.0559177</td><td style=\"text-align: right;\"> 1674601271</td><td style=\"text-align: right;\">                        0</td><td>                 </td><td style=\"text-align: right;\">                   3</td><td>fb06e_00013</td><td style=\"text-align: right;\">   0.00407004</td></tr>\n",
       "<tr><td>objective_function_asah_fb06e_00014</td><td>2023-01-25_00-01-11</td><td>True  </td><td>                </td><td>afe7fd62ab3a411682cb2dae59004612</td><td>raphael-20ujs00k00</td><td style=\"text-align: right;\">                         3</td><td style=\"text-align: right;\">0.913275</td><td>192.168.188.20</td><td style=\"text-align: right;\">448532</td><td style=\"text-align: right;\">           0.30238  </td><td style=\"text-align: right;\">        0.00365567</td><td style=\"text-align: right;\">     0.30238  </td><td style=\"text-align: right;\"> 1674601271</td><td style=\"text-align: right;\">                        0</td><td>                 </td><td style=\"text-align: right;\">                   3</td><td>fb06e_00014</td><td style=\"text-align: right;\">   0.00592613</td></tr>\n",
       "<tr><td>objective_function_asah_fb06e_00015</td><td>2023-01-25_00-01-11</td><td>True  </td><td>                </td><td>5b7e4a31299741bda5f81164b9c811ab</td><td>raphael-20ujs00k00</td><td style=\"text-align: right;\">                         3</td><td style=\"text-align: right;\">0.909878</td><td>192.168.188.20</td><td style=\"text-align: right;\">448534</td><td style=\"text-align: right;\">           0.594943 </td><td style=\"text-align: right;\">        0.0393093 </td><td style=\"text-align: right;\">     0.594943 </td><td style=\"text-align: right;\"> 1674601271</td><td style=\"text-align: right;\">                        0</td><td>                 </td><td style=\"text-align: right;\">                   3</td><td>fb06e_00015</td><td style=\"text-align: right;\">   0.00754356</td></tr>\n",
       "<tr><td>objective_function_asah_fb06e_00016</td><td>2023-01-25_00-01-07</td><td>True  </td><td>                </td><td>a3d70f815c3c4928ac56ada4dcdf1a43</td><td>raphael-20ujs00k00</td><td style=\"text-align: right;\">                         3</td><td style=\"text-align: right;\">1.00304 </td><td>192.168.188.20</td><td style=\"text-align: right;\">448365</td><td style=\"text-align: right;\">           0.193107 </td><td style=\"text-align: right;\">        0.00634074</td><td style=\"text-align: right;\">     0.193107 </td><td style=\"text-align: right;\"> 1674601267</td><td style=\"text-align: right;\">                        0</td><td>                 </td><td style=\"text-align: right;\">                   3</td><td>fb06e_00016</td><td style=\"text-align: right;\">   0.00418258</td></tr>\n",
       "<tr><td>objective_function_asah_fb06e_00017</td><td>2023-01-25_00-01-08</td><td>True  </td><td>                </td><td>a3d70f815c3c4928ac56ada4dcdf1a43</td><td>raphael-20ujs00k00</td><td style=\"text-align: right;\">                         3</td><td style=\"text-align: right;\">0.30331 </td><td>192.168.188.20</td><td style=\"text-align: right;\">448365</td><td style=\"text-align: right;\">           0.0500841</td><td style=\"text-align: right;\">        0.0113511 </td><td style=\"text-align: right;\">     0.0500841</td><td style=\"text-align: right;\"> 1674601268</td><td style=\"text-align: right;\">                        0</td><td>                 </td><td style=\"text-align: right;\">                   3</td><td>fb06e_00017</td><td style=\"text-align: right;\">   0.00418258</td></tr>\n",
       "<tr><td>objective_function_asah_fb06e_00018</td><td>2023-01-25_00-01-08</td><td>True  </td><td>                </td><td>a3d70f815c3c4928ac56ada4dcdf1a43</td><td>raphael-20ujs00k00</td><td style=\"text-align: right;\">                         3</td><td style=\"text-align: right;\">1.24981 </td><td>192.168.188.20</td><td style=\"text-align: right;\">448365</td><td style=\"text-align: right;\">           0.454715 </td><td style=\"text-align: right;\">        0.0503719 </td><td style=\"text-align: right;\">     0.454715 </td><td style=\"text-align: right;\"> 1674601268</td><td style=\"text-align: right;\">                        0</td><td>                 </td><td style=\"text-align: right;\">                   3</td><td>fb06e_00018</td><td style=\"text-align: right;\">   0.00418258</td></tr>\n",
       "<tr><td>objective_function_asah_fb06e_00019</td><td>2023-01-25_00-01-09</td><td>True  </td><td>                </td><td>a3d70f815c3c4928ac56ada4dcdf1a43</td><td>raphael-20ujs00k00</td><td style=\"text-align: right;\">                         3</td><td style=\"text-align: right;\">1.03646 </td><td>192.168.188.20</td><td style=\"text-align: right;\">448365</td><td style=\"text-align: right;\">           0.344381 </td><td style=\"text-align: right;\">        0.018785  </td><td style=\"text-align: right;\">     0.344381 </td><td style=\"text-align: right;\"> 1674601269</td><td style=\"text-align: right;\">                        0</td><td>                 </td><td style=\"text-align: right;\">                   3</td><td>fb06e_00019</td><td style=\"text-align: right;\">   0.00418258</td></tr>\n",
       "</tbody>\n",
       "</table>\n",
       "</div>\n",
       "<style>\n",
       ".trialProgress {\n",
       "  display: flex;\n",
       "  flex-direction: column;\n",
       "  color: var(--jp-ui-font-color1);\n",
       "}\n",
       ".trialProgress h3 {\n",
       "  font-weight: bold;\n",
       "}\n",
       ".trialProgress td {\n",
       "  white-space: nowrap;\n",
       "}\n",
       "</style>\n"
      ],
      "text/plain": [
       "<IPython.core.display.HTML object>"
      ]
     },
     "metadata": {},
     "output_type": "display_data"
    },
    {
     "name": "stderr",
     "output_type": "stream",
     "text": [
      "2023-01-25 00:01:12,019\tINFO tune.py:762 -- Total run time: 6.83 seconds (6.57 seconds for the tuning loop).\n"
     ]
    }
   ],
   "source": [
    "def objective_function_asah(config):\n",
    "  a = config[\"a\"]\n",
    "  b = config[\"b\"]\n",
    "\n",
    "  for i in range(10):\n",
    "    metric = a*i + b\n",
    "    session.report({\"metric\": metric})\n",
    "\n",
    "scheduler = tune.schedulers.ASHAScheduler(\n",
    "    max_t = 10,\n",
    "    time_attr = \"training_iteration\",\n",
    "    grace_period = 3\n",
    ")\n",
    "\n",
    "param_space = {\n",
    "    \"a\": tune.uniform(0,1),\n",
    "    \"b\": tune.uniform(0,1)\n",
    "}\n",
    "\n",
    "tuner = tune.Tuner(\n",
    "    objective_function_asah,\n",
    "    param_space = param_space,\n",
    "    tune_config = tune.TuneConfig(\n",
    "        num_samples = 20,\n",
    "        metric=\"metric\",\n",
    "        mode=\"max\",\n",
    "        scheduler = scheduler,\n",
    "        )\n",
    "    )\n",
    "\n",
    "results_asah = tuner.fit()"
   ]
  },
  {
   "cell_type": "code",
   "execution_count": 7,
   "metadata": {},
   "outputs": [
    {
     "name": "stdout",
     "output_type": "stream",
     "text": [
      "{'a': 0.9254033093605166, 'b': 0.8165877934577149}\n"
     ]
    },
    {
     "data": {
      "text/plain": [
       "Text(0, 0.5, 'Mean accuracy')"
      ]
     },
     "execution_count": 7,
     "metadata": {},
     "output_type": "execute_result"
    },
    {
     "data": {
      "image/png": "[encoded data removed]",
      "text/plain": [
       "<Figure size 432x288 with 1 Axes>"
      ]
     },
     "metadata": {
      "needs_background": "light"
     },
     "output_type": "display_data"
    }
   ],
   "source": [
    "print(results_asah.get_best_result().config)\n",
    "\n",
    "ax = None\n",
    "dfs = {result.log_dir: result.metrics_dataframe for result in results_asah}\n",
    "for d in dfs.values():\n",
    "    ax = d.plot(ax=ax, y=\"metric\", legend=False)\n",
    "ax.set_xlabel(\"Epochs\")\n",
    "ax.set_ylabel(\"Mean accuracy\")"
   ]
  }
 ],
 "metadata": {
  "kernelspec": {
   "display_name": "Ray_Tune",
   "language": "python",
   "name": "python3"
  },
  "language_info": {
   "codemirror_mode": {
    "name": "ipython",
    "version": 3
   },
   "file_extension": ".py",
   "mimetype": "text/x-python",
   "name": "python",
   "nbconvert_exporter": "python",
   "pygments_lexer": "ipython3",
   "version": "3.10.8"
  },
  "orig_nbformat": 4,
  "vscode": {
   "interpreter": {
    "hash": "12b5708e47bcce2ed9c7c0871afac25011cce35a7f95a435508fd0065dc55843"
   }
  }
 },
 "nbformat": 4,
 "nbformat_minor": 2
}
