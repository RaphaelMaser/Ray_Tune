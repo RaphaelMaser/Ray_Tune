{
 "cells": [
  {
   "cell_type": "code",
   "execution_count": 2,
   "metadata": {},
   "outputs": [],
   "source": [
    "%%capture\n",
    "%pip install ray\n",
    "%pip install tensorboardx\n",
    "%pip install matplotlib"
   ]
  },
  {
   "cell_type": "code",
   "execution_count": 3,
   "metadata": {},
   "outputs": [],
   "source": [
    "import ray\n",
    "from ray import air, tune\n",
    "from ray.air import session"
   ]
  },
  {
   "attachments": {},
   "cell_type": "markdown",
   "metadata": {},
   "source": [
    "# HPO with Ray Tune"
   ]
  },
  {
   "attachments": {},
   "cell_type": "markdown",
   "metadata": {},
   "source": [
    "The task in this notebook is to use Ray Tune to optimize the hyperparameters, namely \"a\" and \"b\", of the function \"objective_function\"."
   ]
  },
  {
   "cell_type": "code",
   "execution_count": 4,
   "metadata": {},
   "outputs": [],
   "source": [
    "def objective_function(a, b):\n",
    "  for i in range(10):\n",
    "    a = a*b"
   ]
  },
  {
   "attachments": {},
   "cell_type": "markdown",
   "metadata": {},
   "source": [
    "## Random Search"
   ]
  },
  {
   "attachments": {},
   "cell_type": "markdown",
   "metadata": {},
   "source": [
    "Try to use Ray Tune with the random hyperparameter search. For that purpose you need to modify the function so that it is compatible with Ray Tune, e.g. change the input argument (needs to take a dictionary as input) and report the training progress to Ray. Furthermore you need to define a tuner and run it. If the return value is named \"results\" the training results can be displayed in the following cell.\n",
    "\n",
    "Hint: Ray automatically uses random search if you do not specify any search algorithm"
   ]
  },
  {
   "cell_type": "code",
   "execution_count": 5,
   "metadata": {},
   "outputs": [
    {
     "name": "stderr",
     "output_type": "stream",
     "text": [
      "2023-01-23 19:24:14,214\tINFO worker.py:1538 -- Started a local Ray instance.\n"
     ]
    },
    {
     "data": {
      "text/html": [
       "<div class=\"tuneStatus\">\n",
       "  <div style=\"display: flex;flex-direction: row\">\n",
       "    <div style=\"display: flex;flex-direction: column;\">\n",
       "      <h3>Tune Status</h3>\n",
       "      <table>\n",
       "<tbody>\n",
       "<tr><td>Current time:</td><td>2023-01-23 19:24:19</td></tr>\n",
       "<tr><td>Running for: </td><td>00:00:03.10        </td></tr>\n",
       "<tr><td>Memory:      </td><td>14.9/30.6 GiB      </td></tr>\n",
       "</tbody>\n",
       "</table>\n",
       "    </div>\n",
       "    <div class=\"vDivider\"></div>\n",
       "    <div class=\"systemInfo\">\n",
       "      <h3>System Info</h3>\n",
       "      Using FIFO scheduling algorithm.<br>Resources requested: 0/16 CPUs, 0/0 GPUs, 0.0/10.63 GiB heap, 0.0/5.32 GiB objects\n",
       "    </div>\n",
       "    \n",
       "  </div>\n",
       "  <div class=\"hDivider\"></div>\n",
       "  <div class=\"trialStatus\">\n",
       "    <h3>Trial Status</h3>\n",
       "    <table>\n",
       "<thead>\n",
       "<tr><th>Trial name                    </th><th>status    </th><th>loc                  </th><th style=\"text-align: right;\">      a</th><th style=\"text-align: right;\">       b</th><th style=\"text-align: right;\">  iter</th><th style=\"text-align: right;\">  total time (s)</th><th style=\"text-align: right;\">   metric</th></tr>\n",
       "</thead>\n",
       "<tbody>\n",
       "<tr><td>objective_function_24740_00000</td><td>TERMINATED</td><td>192.168.188.20:189005</td><td style=\"text-align: right;\">50.053 </td><td style=\"text-align: right;\">0.57341 </td><td style=\"text-align: right;\">    10</td><td style=\"text-align: right;\">       0.0606513</td><td style=\"text-align: right;\"> 0.192347</td></tr>\n",
       "<tr><td>objective_function_24740_00001</td><td>TERMINATED</td><td>192.168.188.20:189099</td><td style=\"text-align: right;\">69.7725</td><td style=\"text-align: right;\">0.663648</td><td style=\"text-align: right;\">    10</td><td style=\"text-align: right;\">       0.0449066</td><td style=\"text-align: right;\"> 1.15627 </td></tr>\n",
       "<tr><td>objective_function_24740_00002</td><td>TERMINATED</td><td>192.168.188.20:189101</td><td style=\"text-align: right;\">59.9807</td><td style=\"text-align: right;\">0.855412</td><td style=\"text-align: right;\">    10</td><td style=\"text-align: right;\">       0.0553336</td><td style=\"text-align: right;\">12.5825  </td></tr>\n",
       "<tr><td>objective_function_24740_00003</td><td>TERMINATED</td><td>192.168.188.20:189103</td><td style=\"text-align: right;\">74.8985</td><td style=\"text-align: right;\">0.648482</td><td style=\"text-align: right;\">    10</td><td style=\"text-align: right;\">       0.0381856</td><td style=\"text-align: right;\"> 0.985038</td></tr>\n",
       "<tr><td>objective_function_24740_00004</td><td>TERMINATED</td><td>192.168.188.20:189105</td><td style=\"text-align: right;\">67.0585</td><td style=\"text-align: right;\">0.523823</td><td style=\"text-align: right;\">    10</td><td style=\"text-align: right;\">       0.049376 </td><td style=\"text-align: right;\"> 0.104304</td></tr>\n",
       "</tbody>\n",
       "</table>\n",
       "  </div>\n",
       "</div>\n",
       "<style>\n",
       ".tuneStatus {\n",
       "  color: var(--jp-ui-font-color1);\n",
       "}\n",
       ".tuneStatus .systemInfo {\n",
       "  display: flex;\n",
       "  flex-direction: column;\n",
       "}\n",
       ".tuneStatus td {\n",
       "  white-space: nowrap;\n",
       "}\n",
       ".tuneStatus .trialStatus {\n",
       "  display: flex;\n",
       "  flex-direction: column;\n",
       "}\n",
       ".tuneStatus h3 {\n",
       "  font-weight: bold;\n",
       "}\n",
       ".tuneStatus .hDivider {\n",
       "  border-bottom-width: var(--jp-border-width);\n",
       "  border-bottom-color: var(--jp-border-color0);\n",
       "  border-bottom-style: solid;\n",
       "}\n",
       ".tuneStatus .vDivider {\n",
       "  border-left-width: var(--jp-border-width);\n",
       "  border-left-color: var(--jp-border-color0);\n",
       "  border-left-style: solid;\n",
       "  margin: 0.5em 1em 0.5em 1em;\n",
       "}\n",
       "</style>\n"
      ],
      "text/plain": [
       "<IPython.core.display.HTML object>"
      ]
     },
     "metadata": {},
     "output_type": "display_data"
    },
    {
     "data": {
      "text/html": [
       "<div class=\"trialProgress\">\n",
       "  <h3>Trial Progress</h3>\n",
       "  <table>\n",
       "<thead>\n",
       "<tr><th>Trial name                    </th><th>date               </th><th>done  </th><th>episodes_total  </th><th>experiment_id                   </th><th>experiment_tag      </th><th>hostname          </th><th style=\"text-align: right;\">  iterations_since_restore</th><th style=\"text-align: right;\">   metric</th><th>node_ip       </th><th style=\"text-align: right;\">   pid</th><th style=\"text-align: right;\">  time_since_restore</th><th style=\"text-align: right;\">  time_this_iter_s</th><th style=\"text-align: right;\">  time_total_s</th><th style=\"text-align: right;\">  timestamp</th><th style=\"text-align: right;\">  timesteps_since_restore</th><th>timesteps_total  </th><th style=\"text-align: right;\">  training_iteration</th><th style=\"text-align: right;\">   trial_id</th><th style=\"text-align: right;\">  warmup_time</th></tr>\n",
       "</thead>\n",
       "<tbody>\n",
       "<tr><td>objective_function_24740_00000</td><td>2023-01-23_19-24-17</td><td>True  </td><td>                </td><td>93135d5ba21240c48610589d7505e1a5</td><td>0_a=50.0530,b=0.5734</td><td>raphael-20ujs00k00</td><td style=\"text-align: right;\">                        10</td><td style=\"text-align: right;\"> 0.192347</td><td>192.168.188.20</td><td style=\"text-align: right;\">189005</td><td style=\"text-align: right;\">           0.0606513</td><td style=\"text-align: right;\">        0.00239015</td><td style=\"text-align: right;\">     0.0606513</td><td style=\"text-align: right;\"> 1674498257</td><td style=\"text-align: right;\">                        0</td><td>                 </td><td style=\"text-align: right;\">                  10</td><td style=\"text-align: right;\">24740_00000</td><td style=\"text-align: right;\">   0.0030694 </td></tr>\n",
       "<tr><td>objective_function_24740_00001</td><td>2023-01-23_19-24-19</td><td>True  </td><td>                </td><td>974601cedc464830811ba64e280db6ce</td><td>1_a=69.7725,b=0.6636</td><td>raphael-20ujs00k00</td><td style=\"text-align: right;\">                        10</td><td style=\"text-align: right;\"> 1.15627 </td><td>192.168.188.20</td><td style=\"text-align: right;\">189099</td><td style=\"text-align: right;\">           0.0449066</td><td style=\"text-align: right;\">        0.00215077</td><td style=\"text-align: right;\">     0.0449066</td><td style=\"text-align: right;\"> 1674498259</td><td style=\"text-align: right;\">                        0</td><td>                 </td><td style=\"text-align: right;\">                  10</td><td style=\"text-align: right;\">24740_00001</td><td style=\"text-align: right;\">   0.00272942</td></tr>\n",
       "<tr><td>objective_function_24740_00002</td><td>2023-01-23_19-24-19</td><td>True  </td><td>                </td><td>a08d63cb5bdf4a8a80ec6dbd6c870a0b</td><td>2_a=59.9807,b=0.8554</td><td>raphael-20ujs00k00</td><td style=\"text-align: right;\">                        10</td><td style=\"text-align: right;\">12.5825  </td><td>192.168.188.20</td><td style=\"text-align: right;\">189101</td><td style=\"text-align: right;\">           0.0553336</td><td style=\"text-align: right;\">        0.00353956</td><td style=\"text-align: right;\">     0.0553336</td><td style=\"text-align: right;\"> 1674498259</td><td style=\"text-align: right;\">                        0</td><td>                 </td><td style=\"text-align: right;\">                  10</td><td style=\"text-align: right;\">24740_00002</td><td style=\"text-align: right;\">   0.00337505</td></tr>\n",
       "<tr><td>objective_function_24740_00003</td><td>2023-01-23_19-24-19</td><td>True  </td><td>                </td><td>e6abf9c9c70e4f619490ae88d865c447</td><td>3_a=74.8985,b=0.6485</td><td>raphael-20ujs00k00</td><td style=\"text-align: right;\">                        10</td><td style=\"text-align: right;\"> 0.985038</td><td>192.168.188.20</td><td style=\"text-align: right;\">189103</td><td style=\"text-align: right;\">           0.0381856</td><td style=\"text-align: right;\">        0.00422716</td><td style=\"text-align: right;\">     0.0381856</td><td style=\"text-align: right;\"> 1674498259</td><td style=\"text-align: right;\">                        0</td><td>                 </td><td style=\"text-align: right;\">                  10</td><td style=\"text-align: right;\">24740_00003</td><td style=\"text-align: right;\">   0.00298643</td></tr>\n",
       "<tr><td>objective_function_24740_00004</td><td>2023-01-23_19-24-19</td><td>True  </td><td>                </td><td>0ef72be96a6946689863ed3ab7ccdf13</td><td>4_a=67.0585,b=0.5238</td><td>raphael-20ujs00k00</td><td style=\"text-align: right;\">                        10</td><td style=\"text-align: right;\"> 0.104304</td><td>192.168.188.20</td><td style=\"text-align: right;\">189105</td><td style=\"text-align: right;\">           0.049376 </td><td style=\"text-align: right;\">        0.00351381</td><td style=\"text-align: right;\">     0.049376 </td><td style=\"text-align: right;\"> 1674498259</td><td style=\"text-align: right;\">                        0</td><td>                 </td><td style=\"text-align: right;\">                  10</td><td style=\"text-align: right;\">24740_00004</td><td style=\"text-align: right;\">   0.00360084</td></tr>\n",
       "</tbody>\n",
       "</table>\n",
       "</div>\n",
       "<style>\n",
       ".trialProgress {\n",
       "  display: flex;\n",
       "  flex-direction: column;\n",
       "  color: var(--jp-ui-font-color1);\n",
       "}\n",
       ".trialProgress h3 {\n",
       "  font-weight: bold;\n",
       "}\n",
       ".trialProgress td {\n",
       "  white-space: nowrap;\n",
       "}\n",
       "</style>\n"
      ],
      "text/plain": [
       "<IPython.core.display.HTML object>"
      ]
     },
     "metadata": {},
     "output_type": "display_data"
    },
    {
     "name": "stderr",
     "output_type": "stream",
     "text": [
      "2023-01-23 19:24:19,573\tINFO tune.py:762 -- Total run time: 4.10 seconds (3.09 seconds for the tuning loop).\n"
     ]
    }
   ],
   "source": [
    "def objective_function(config):\n",
    "  a = config[\"a\"]\n",
    "  b = config[\"b\"]\n",
    "\n",
    "  for i in range(10):\n",
    "    a = a*b\n",
    "    session.report({\"metric\": a})\n",
    "\n",
    "param_space = {\n",
    "    \"a\": tune.uniform(0,100),\n",
    "    \"b\": tune.uniform(0,1)\n",
    "}\n",
    "\n",
    "tuner = tune.Tuner(\n",
    "    objective_function,\n",
    "    param_space = param_space,\n",
    "    tune_config = tune.TuneConfig(\n",
    "        num_samples = 5,\n",
    "        metric=\"metric\",\n",
    "        mode=\"max\",\n",
    "        )\n",
    "    )\n",
    "\n",
    "results = tuner.fit()"
   ]
  },
  {
   "cell_type": "code",
   "execution_count": 6,
   "metadata": {},
   "outputs": [
    {
     "name": "stdout",
     "output_type": "stream",
     "text": [
      "{'a': 59.980671264612205, 'b': 0.8554123961471181}\n"
     ]
    },
    {
     "data": {
      "text/plain": [
       "Text(0, 0.5, 'Mean accuracy')"
      ]
     },
     "execution_count": 6,
     "metadata": {},
     "output_type": "execute_result"
    },
    {
     "data": {
      "image/png": "[encoded data removed]",
      "text/plain": [
       "<Figure size 432x288 with 1 Axes>"
      ]
     },
     "metadata": {
      "needs_background": "light"
     },
     "output_type": "display_data"
    }
   ],
   "source": [
    "print(results.get_best_result().config)\n",
    "\n",
    "ax = None\n",
    "dfs = {result.log_dir: result.metrics_dataframe for result in results}\n",
    "for d in dfs.values():\n",
    "    ax = d.plot(ax=ax, y=\"metric\", legend=False)\n",
    "ax.set_xlabel(\"Epochs\")\n",
    "ax.set_ylabel(\"Mean accuracy\")"
   ]
  },
  {
   "attachments": {},
   "cell_type": "markdown",
   "metadata": {},
   "source": [
    "## Random Search with ASAH"
   ]
  },
  {
   "attachments": {},
   "cell_type": "markdown",
   "metadata": {},
   "source": [
    "This time add the ASAH scheduler to the random search."
   ]
  },
  {
   "cell_type": "code",
   "execution_count": 9,
   "metadata": {},
   "outputs": [
    {
     "data": {
      "text/html": [
       "<div class=\"tuneStatus\">\n",
       "  <div style=\"display: flex;flex-direction: row\">\n",
       "    <div style=\"display: flex;flex-direction: column;\">\n",
       "      <h3>Tune Status</h3>\n",
       "      <table>\n",
       "<tbody>\n",
       "<tr><td>Current time:</td><td>2023-01-23 19:24:43</td></tr>\n",
       "<tr><td>Running for: </td><td>00:00:07.99        </td></tr>\n",
       "<tr><td>Memory:      </td><td>14.6/30.6 GiB      </td></tr>\n",
       "</tbody>\n",
       "</table>\n",
       "    </div>\n",
       "    <div class=\"vDivider\"></div>\n",
       "    <div class=\"systemInfo\">\n",
       "      <h3>System Info</h3>\n",
       "      Using AsyncHyperBand: num_stopped=20<br>Bracket: Iter 3.000: 11.972740315463724<br>Resources requested: 0/16 CPUs, 0/0 GPUs, 0.0/10.63 GiB heap, 0.0/5.32 GiB objects\n",
       "    </div>\n",
       "    \n",
       "  </div>\n",
       "  <div class=\"hDivider\"></div>\n",
       "  <div class=\"trialStatus\">\n",
       "    <h3>Trial Status</h3>\n",
       "    <table>\n",
       "<thead>\n",
       "<tr><th>Trial name                         </th><th>status    </th><th>loc                  </th><th style=\"text-align: right;\">      a</th><th style=\"text-align: right;\">         b</th><th style=\"text-align: right;\">  iter</th><th style=\"text-align: right;\">  total time (s)</th><th style=\"text-align: right;\">      metric</th></tr>\n",
       "</thead>\n",
       "<tbody>\n",
       "<tr><td>objective_function_asah_307d6_00000</td><td>TERMINATED</td><td>192.168.188.20:191228</td><td style=\"text-align: right;\">65.635 </td><td style=\"text-align: right;\">0.0772053 </td><td style=\"text-align: right;\">    10</td><td style=\"text-align: right;\">       0.707624 </td><td style=\"text-align: right;\"> 4.93866e-10</td></tr>\n",
       "<tr><td>objective_function_asah_307d6_00001</td><td>TERMINATED</td><td>192.168.188.20:191820</td><td style=\"text-align: right;\">25.9132</td><td style=\"text-align: right;\">0.528618  </td><td style=\"text-align: right;\">     3</td><td style=\"text-align: right;\">       0.734672 </td><td style=\"text-align: right;\"> 3.82779    </td></tr>\n",
       "<tr><td>objective_function_asah_307d6_00002</td><td>TERMINATED</td><td>192.168.188.20:191822</td><td style=\"text-align: right;\">78.8455</td><td style=\"text-align: right;\">0.718878  </td><td style=\"text-align: right;\">    10</td><td style=\"text-align: right;\">       0.741915 </td><td style=\"text-align: right;\"> 2.90621    </td></tr>\n",
       "<tr><td>objective_function_asah_307d6_00003</td><td>TERMINATED</td><td>192.168.188.20:191824</td><td style=\"text-align: right;\">11.1536</td><td style=\"text-align: right;\">0.0529439 </td><td style=\"text-align: right;\">     3</td><td style=\"text-align: right;\">       0.226774 </td><td style=\"text-align: right;\"> 0.00165526 </td></tr>\n",
       "<tr><td>objective_function_asah_307d6_00004</td><td>TERMINATED</td><td>192.168.188.20:191826</td><td style=\"text-align: right;\">37.0178</td><td style=\"text-align: right;\">0.235969  </td><td style=\"text-align: right;\">     3</td><td style=\"text-align: right;\">       0.691056 </td><td style=\"text-align: right;\"> 0.486381   </td></tr>\n",
       "<tr><td>objective_function_asah_307d6_00005</td><td>TERMINATED</td><td>192.168.188.20:191828</td><td style=\"text-align: right;\">51.1429</td><td style=\"text-align: right;\">0.162103  </td><td style=\"text-align: right;\">     3</td><td style=\"text-align: right;\">       0.268288 </td><td style=\"text-align: right;\"> 0.217849   </td></tr>\n",
       "<tr><td>objective_function_asah_307d6_00006</td><td>TERMINATED</td><td>192.168.188.20:191830</td><td style=\"text-align: right;\">94.8436</td><td style=\"text-align: right;\">0.869238  </td><td style=\"text-align: right;\">    10</td><td style=\"text-align: right;\">       0.483901 </td><td style=\"text-align: right;\">23.3558     </td></tr>\n",
       "<tr><td>objective_function_asah_307d6_00007</td><td>TERMINATED</td><td>192.168.188.20:191832</td><td style=\"text-align: right;\">62.8003</td><td style=\"text-align: right;\">0.473043  </td><td style=\"text-align: right;\">     3</td><td style=\"text-align: right;\">       0.530141 </td><td style=\"text-align: right;\"> 6.64758    </td></tr>\n",
       "<tr><td>objective_function_asah_307d6_00008</td><td>TERMINATED</td><td>192.168.188.20:191834</td><td style=\"text-align: right;\">24.9073</td><td style=\"text-align: right;\">0.0580647 </td><td style=\"text-align: right;\">     3</td><td style=\"text-align: right;\">       0.431487 </td><td style=\"text-align: right;\"> 0.00487598 </td></tr>\n",
       "<tr><td>objective_function_asah_307d6_00009</td><td>TERMINATED</td><td>192.168.188.20:191836</td><td style=\"text-align: right;\">39.2586</td><td style=\"text-align: right;\">0.958108  </td><td style=\"text-align: right;\">    10</td><td style=\"text-align: right;\">       0.628624 </td><td style=\"text-align: right;\">25.5906     </td></tr>\n",
       "<tr><td>objective_function_asah_307d6_00010</td><td>TERMINATED</td><td>192.168.188.20:191838</td><td style=\"text-align: right;\">50.6988</td><td style=\"text-align: right;\">0.555757  </td><td style=\"text-align: right;\">     3</td><td style=\"text-align: right;\">       0.585854 </td><td style=\"text-align: right;\"> 8.70268    </td></tr>\n",
       "<tr><td>objective_function_asah_307d6_00011</td><td>TERMINATED</td><td>192.168.188.20:191840</td><td style=\"text-align: right;\">25.1981</td><td style=\"text-align: right;\">0.467477  </td><td style=\"text-align: right;\">     3</td><td style=\"text-align: right;\">       0.658086 </td><td style=\"text-align: right;\"> 2.57423    </td></tr>\n",
       "<tr><td>objective_function_asah_307d6_00012</td><td>TERMINATED</td><td>192.168.188.20:191842</td><td style=\"text-align: right;\">71.9601</td><td style=\"text-align: right;\">0.0489839 </td><td style=\"text-align: right;\">     3</td><td style=\"text-align: right;\">       0.220595 </td><td style=\"text-align: right;\"> 0.00845767 </td></tr>\n",
       "<tr><td>objective_function_asah_307d6_00013</td><td>TERMINATED</td><td>192.168.188.20:191844</td><td style=\"text-align: right;\">38.0782</td><td style=\"text-align: right;\">0.491915  </td><td style=\"text-align: right;\">     3</td><td style=\"text-align: right;\">       0.394405 </td><td style=\"text-align: right;\"> 4.53259    </td></tr>\n",
       "<tr><td>objective_function_asah_307d6_00014</td><td>TERMINATED</td><td>192.168.188.20:191846</td><td style=\"text-align: right;\">82.3345</td><td style=\"text-align: right;\">0.641965  </td><td style=\"text-align: right;\">     3</td><td style=\"text-align: right;\">       0.785178 </td><td style=\"text-align: right;\">21.7829     </td></tr>\n",
       "<tr><td>objective_function_asah_307d6_00015</td><td>TERMINATED</td><td>192.168.188.20:191848</td><td style=\"text-align: right;\">99.8434</td><td style=\"text-align: right;\">0.00177873</td><td style=\"text-align: right;\">     3</td><td style=\"text-align: right;\">       0.258353 </td><td style=\"text-align: right;\"> 5.61884e-07</td></tr>\n",
       "<tr><td>objective_function_asah_307d6_00016</td><td>TERMINATED</td><td>192.168.188.20:191228</td><td style=\"text-align: right;\">51.582 </td><td style=\"text-align: right;\">0.040811  </td><td style=\"text-align: right;\">     3</td><td style=\"text-align: right;\">       0.227776 </td><td style=\"text-align: right;\"> 0.00350615 </td></tr>\n",
       "<tr><td>objective_function_asah_307d6_00017</td><td>TERMINATED</td><td>192.168.188.20:191228</td><td style=\"text-align: right;\">42.7294</td><td style=\"text-align: right;\">0.300942  </td><td style=\"text-align: right;\">    10</td><td style=\"text-align: right;\">       0.251825 </td><td style=\"text-align: right;\"> 0.000260352</td></tr>\n",
       "<tr><td>objective_function_asah_307d6_00018</td><td>TERMINATED</td><td>192.168.188.20:191228</td><td style=\"text-align: right;\">79.9618</td><td style=\"text-align: right;\">0.886866  </td><td style=\"text-align: right;\">    10</td><td style=\"text-align: right;\">       0.0880947</td><td style=\"text-align: right;\">24.0692     </td></tr>\n",
       "<tr><td>objective_function_asah_307d6_00019</td><td>TERMINATED</td><td>192.168.188.20:191228</td><td style=\"text-align: right;\">54.9484</td><td style=\"text-align: right;\">0.278348  </td><td style=\"text-align: right;\">     3</td><td style=\"text-align: right;\">       0.034457 </td><td style=\"text-align: right;\"> 1.185      </td></tr>\n",
       "</tbody>\n",
       "</table>\n",
       "  </div>\n",
       "</div>\n",
       "<style>\n",
       ".tuneStatus {\n",
       "  color: var(--jp-ui-font-color1);\n",
       "}\n",
       ".tuneStatus .systemInfo {\n",
       "  display: flex;\n",
       "  flex-direction: column;\n",
       "}\n",
       ".tuneStatus td {\n",
       "  white-space: nowrap;\n",
       "}\n",
       ".tuneStatus .trialStatus {\n",
       "  display: flex;\n",
       "  flex-direction: column;\n",
       "}\n",
       ".tuneStatus h3 {\n",
       "  font-weight: bold;\n",
       "}\n",
       ".tuneStatus .hDivider {\n",
       "  border-bottom-width: var(--jp-border-width);\n",
       "  border-bottom-color: var(--jp-border-color0);\n",
       "  border-bottom-style: solid;\n",
       "}\n",
       ".tuneStatus .vDivider {\n",
       "  border-left-width: var(--jp-border-width);\n",
       "  border-left-color: var(--jp-border-color0);\n",
       "  border-left-style: solid;\n",
       "  margin: 0.5em 1em 0.5em 1em;\n",
       "}\n",
       "</style>\n"
      ],
      "text/plain": [
       "<IPython.core.display.HTML object>"
      ]
     },
     "metadata": {},
     "output_type": "display_data"
    },
    {
     "data": {
      "text/html": [
       "<div class=\"trialProgress\">\n",
       "  <h3>Trial Progress</h3>\n",
       "  <table>\n",
       "<thead>\n",
       "<tr><th>Trial name                         </th><th>date               </th><th>done  </th><th>episodes_total  </th><th>experiment_id                   </th><th>hostname          </th><th style=\"text-align: right;\">  iterations_since_restore</th><th style=\"text-align: right;\">      metric</th><th>node_ip       </th><th style=\"text-align: right;\">   pid</th><th style=\"text-align: right;\">  time_since_restore</th><th style=\"text-align: right;\">  time_this_iter_s</th><th style=\"text-align: right;\">  time_total_s</th><th style=\"text-align: right;\">  timestamp</th><th style=\"text-align: right;\">  timesteps_since_restore</th><th>timesteps_total  </th><th style=\"text-align: right;\">  training_iteration</th><th>trial_id   </th><th style=\"text-align: right;\">  warmup_time</th></tr>\n",
       "</thead>\n",
       "<tbody>\n",
       "<tr><td>objective_function_asah_307d6_00000</td><td>2023-01-23_19-24-39</td><td>True  </td><td>                </td><td>12a6334d82604ff1a160e76a0a6795f0</td><td>raphael-20ujs00k00</td><td style=\"text-align: right;\">                        10</td><td style=\"text-align: right;\"> 4.93866e-10</td><td>192.168.188.20</td><td style=\"text-align: right;\">191228</td><td style=\"text-align: right;\">           0.707624 </td><td style=\"text-align: right;\">        0.0880651 </td><td style=\"text-align: right;\">     0.707624 </td><td style=\"text-align: right;\"> 1674498279</td><td style=\"text-align: right;\">                        0</td><td>                 </td><td style=\"text-align: right;\">                  10</td><td>307d6_00000</td><td style=\"text-align: right;\">   0.00338268</td></tr>\n",
       "<tr><td>objective_function_asah_307d6_00001</td><td>2023-01-23_19-24-43</td><td>True  </td><td>                </td><td>e362ca828f9040888882e67a178f3566</td><td>raphael-20ujs00k00</td><td style=\"text-align: right;\">                         3</td><td style=\"text-align: right;\"> 3.82779    </td><td>192.168.188.20</td><td style=\"text-align: right;\">191820</td><td style=\"text-align: right;\">           0.734672 </td><td style=\"text-align: right;\">        0.0541844 </td><td style=\"text-align: right;\">     0.734672 </td><td style=\"text-align: right;\"> 1674498283</td><td style=\"text-align: right;\">                        0</td><td>                 </td><td style=\"text-align: right;\">                   3</td><td>307d6_00001</td><td style=\"text-align: right;\">   0.00984764</td></tr>\n",
       "<tr><td>objective_function_asah_307d6_00002</td><td>2023-01-23_19-24-43</td><td>True  </td><td>                </td><td>242284dcc9ef4333890f71a0720a0918</td><td>raphael-20ujs00k00</td><td style=\"text-align: right;\">                        10</td><td style=\"text-align: right;\"> 2.90621    </td><td>192.168.188.20</td><td style=\"text-align: right;\">191822</td><td style=\"text-align: right;\">           0.741915 </td><td style=\"text-align: right;\">        0.0128407 </td><td style=\"text-align: right;\">     0.741915 </td><td style=\"text-align: right;\"> 1674498283</td><td style=\"text-align: right;\">                        0</td><td>                 </td><td style=\"text-align: right;\">                  10</td><td>307d6_00002</td><td style=\"text-align: right;\">   0.0102806 </td></tr>\n",
       "<tr><td>objective_function_asah_307d6_00003</td><td>2023-01-23_19-24-43</td><td>True  </td><td>                </td><td>4138db5bf2194c60a199710029400d3d</td><td>raphael-20ujs00k00</td><td style=\"text-align: right;\">                         3</td><td style=\"text-align: right;\"> 0.00165526 </td><td>192.168.188.20</td><td style=\"text-align: right;\">191824</td><td style=\"text-align: right;\">           0.226774 </td><td style=\"text-align: right;\">        0.0292532 </td><td style=\"text-align: right;\">     0.226774 </td><td style=\"text-align: right;\"> 1674498283</td><td style=\"text-align: right;\">                        0</td><td>                 </td><td style=\"text-align: right;\">                   3</td><td>307d6_00003</td><td style=\"text-align: right;\">   0.00793839</td></tr>\n",
       "<tr><td>objective_function_asah_307d6_00004</td><td>2023-01-23_19-24-43</td><td>True  </td><td>                </td><td>e93d3b8d7ef94aab9e705cb950ad068d</td><td>raphael-20ujs00k00</td><td style=\"text-align: right;\">                         3</td><td style=\"text-align: right;\"> 0.486381   </td><td>192.168.188.20</td><td style=\"text-align: right;\">191826</td><td style=\"text-align: right;\">           0.691056 </td><td style=\"text-align: right;\">        0.077632  </td><td style=\"text-align: right;\">     0.691056 </td><td style=\"text-align: right;\"> 1674498283</td><td style=\"text-align: right;\">                        0</td><td>                 </td><td style=\"text-align: right;\">                   3</td><td>307d6_00004</td><td style=\"text-align: right;\">   0.0144904 </td></tr>\n",
       "<tr><td>objective_function_asah_307d6_00005</td><td>2023-01-23_19-24-43</td><td>True  </td><td>                </td><td>1a582ab2a0014fd7977dd86d07f41973</td><td>raphael-20ujs00k00</td><td style=\"text-align: right;\">                         3</td><td style=\"text-align: right;\"> 0.217849   </td><td>192.168.188.20</td><td style=\"text-align: right;\">191828</td><td style=\"text-align: right;\">           0.268288 </td><td style=\"text-align: right;\">        0.0191414 </td><td style=\"text-align: right;\">     0.268288 </td><td style=\"text-align: right;\"> 1674498283</td><td style=\"text-align: right;\">                        0</td><td>                 </td><td style=\"text-align: right;\">                   3</td><td>307d6_00005</td><td style=\"text-align: right;\">   0.00486827</td></tr>\n",
       "<tr><td>objective_function_asah_307d6_00006</td><td>2023-01-23_19-24-43</td><td>True  </td><td>                </td><td>927d3fbfbf404424bf796526f84e9aec</td><td>raphael-20ujs00k00</td><td style=\"text-align: right;\">                        10</td><td style=\"text-align: right;\">23.3558     </td><td>192.168.188.20</td><td style=\"text-align: right;\">191830</td><td style=\"text-align: right;\">           0.483901 </td><td style=\"text-align: right;\">        0.00413871</td><td style=\"text-align: right;\">     0.483901 </td><td style=\"text-align: right;\"> 1674498283</td><td style=\"text-align: right;\">                        0</td><td>                 </td><td style=\"text-align: right;\">                  10</td><td>307d6_00006</td><td style=\"text-align: right;\">   0.0040338 </td></tr>\n",
       "<tr><td>objective_function_asah_307d6_00007</td><td>2023-01-23_19-24-43</td><td>True  </td><td>                </td><td>a876a90eca294caeb01d25e743bc8076</td><td>raphael-20ujs00k00</td><td style=\"text-align: right;\">                         3</td><td style=\"text-align: right;\"> 6.64758    </td><td>192.168.188.20</td><td style=\"text-align: right;\">191832</td><td style=\"text-align: right;\">           0.530141 </td><td style=\"text-align: right;\">        0.00676036</td><td style=\"text-align: right;\">     0.530141 </td><td style=\"text-align: right;\"> 1674498283</td><td style=\"text-align: right;\">                        0</td><td>                 </td><td style=\"text-align: right;\">                   3</td><td>307d6_00007</td><td style=\"text-align: right;\">   0.00537038</td></tr>\n",
       "<tr><td>objective_function_asah_307d6_00008</td><td>2023-01-23_19-24-43</td><td>True  </td><td>                </td><td>4229885ca49b452286892feab808ee7f</td><td>raphael-20ujs00k00</td><td style=\"text-align: right;\">                         3</td><td style=\"text-align: right;\"> 0.00487598 </td><td>192.168.188.20</td><td style=\"text-align: right;\">191834</td><td style=\"text-align: right;\">           0.431487 </td><td style=\"text-align: right;\">        0.0608528 </td><td style=\"text-align: right;\">     0.431487 </td><td style=\"text-align: right;\"> 1674498283</td><td style=\"text-align: right;\">                        0</td><td>                 </td><td style=\"text-align: right;\">                   3</td><td>307d6_00008</td><td style=\"text-align: right;\">   0.00721145</td></tr>\n",
       "<tr><td>objective_function_asah_307d6_00009</td><td>2023-01-23_19-24-43</td><td>True  </td><td>                </td><td>3b1718aadf804ddeb0404bb419c8b51c</td><td>raphael-20ujs00k00</td><td style=\"text-align: right;\">                        10</td><td style=\"text-align: right;\">25.5906     </td><td>192.168.188.20</td><td style=\"text-align: right;\">191836</td><td style=\"text-align: right;\">           0.628624 </td><td style=\"text-align: right;\">        0.00328827</td><td style=\"text-align: right;\">     0.628624 </td><td style=\"text-align: right;\"> 1674498283</td><td style=\"text-align: right;\">                        0</td><td>                 </td><td style=\"text-align: right;\">                  10</td><td>307d6_00009</td><td style=\"text-align: right;\">   0.00584412</td></tr>\n",
       "<tr><td>objective_function_asah_307d6_00010</td><td>2023-01-23_19-24-43</td><td>True  </td><td>                </td><td>d26a738a29434c0b94062939ad998a7a</td><td>raphael-20ujs00k00</td><td style=\"text-align: right;\">                         3</td><td style=\"text-align: right;\"> 8.70268    </td><td>192.168.188.20</td><td style=\"text-align: right;\">191838</td><td style=\"text-align: right;\">           0.585854 </td><td style=\"text-align: right;\">        0.122516  </td><td style=\"text-align: right;\">     0.585854 </td><td style=\"text-align: right;\"> 1674498283</td><td style=\"text-align: right;\">                        0</td><td>                 </td><td style=\"text-align: right;\">                   3</td><td>307d6_00010</td><td style=\"text-align: right;\">   0.0134294 </td></tr>\n",
       "<tr><td>objective_function_asah_307d6_00011</td><td>2023-01-23_19-24-43</td><td>True  </td><td>                </td><td>9fb800344178447b87f248aae9c47aaf</td><td>raphael-20ujs00k00</td><td style=\"text-align: right;\">                         3</td><td style=\"text-align: right;\"> 2.57423    </td><td>192.168.188.20</td><td style=\"text-align: right;\">191840</td><td style=\"text-align: right;\">           0.658086 </td><td style=\"text-align: right;\">        0.0636861 </td><td style=\"text-align: right;\">     0.658086 </td><td style=\"text-align: right;\"> 1674498283</td><td style=\"text-align: right;\">                        0</td><td>                 </td><td style=\"text-align: right;\">                   3</td><td>307d6_00011</td><td style=\"text-align: right;\">   0.0382648 </td></tr>\n",
       "<tr><td>objective_function_asah_307d6_00012</td><td>2023-01-23_19-24-43</td><td>True  </td><td>                </td><td>ea3da914a6a64fc9a3c6732c98682e81</td><td>raphael-20ujs00k00</td><td style=\"text-align: right;\">                         3</td><td style=\"text-align: right;\"> 0.00845767 </td><td>192.168.188.20</td><td style=\"text-align: right;\">191842</td><td style=\"text-align: right;\">           0.220595 </td><td style=\"text-align: right;\">        0.102802  </td><td style=\"text-align: right;\">     0.220595 </td><td style=\"text-align: right;\"> 1674498283</td><td style=\"text-align: right;\">                        0</td><td>                 </td><td style=\"text-align: right;\">                   3</td><td>307d6_00012</td><td style=\"text-align: right;\">   0.00607395</td></tr>\n",
       "<tr><td>objective_function_asah_307d6_00013</td><td>2023-01-23_19-24-43</td><td>True  </td><td>                </td><td>05fec6d9e0a746c580ad7b87559d6e49</td><td>raphael-20ujs00k00</td><td style=\"text-align: right;\">                         3</td><td style=\"text-align: right;\"> 4.53259    </td><td>192.168.188.20</td><td style=\"text-align: right;\">191844</td><td style=\"text-align: right;\">           0.394405 </td><td style=\"text-align: right;\">        0.133394  </td><td style=\"text-align: right;\">     0.394405 </td><td style=\"text-align: right;\"> 1674498283</td><td style=\"text-align: right;\">                        0</td><td>                 </td><td style=\"text-align: right;\">                   3</td><td>307d6_00013</td><td style=\"text-align: right;\">   0.0049758 </td></tr>\n",
       "<tr><td>objective_function_asah_307d6_00014</td><td>2023-01-23_19-24-43</td><td>True  </td><td>                </td><td>233f135b38e64e7daa50b41c225e7882</td><td>raphael-20ujs00k00</td><td style=\"text-align: right;\">                         3</td><td style=\"text-align: right;\">21.7829     </td><td>192.168.188.20</td><td style=\"text-align: right;\">191846</td><td style=\"text-align: right;\">           0.785178 </td><td style=\"text-align: right;\">        0.75457   </td><td style=\"text-align: right;\">     0.785178 </td><td style=\"text-align: right;\"> 1674498283</td><td style=\"text-align: right;\">                        0</td><td>                 </td><td style=\"text-align: right;\">                   3</td><td>307d6_00014</td><td style=\"text-align: right;\">   0.00594497</td></tr>\n",
       "<tr><td>objective_function_asah_307d6_00015</td><td>2023-01-23_19-24-43</td><td>True  </td><td>                </td><td>5eaf6a7e40ae4fd991abdadd20916c99</td><td>raphael-20ujs00k00</td><td style=\"text-align: right;\">                         3</td><td style=\"text-align: right;\"> 5.61884e-07</td><td>192.168.188.20</td><td style=\"text-align: right;\">191848</td><td style=\"text-align: right;\">           0.258353 </td><td style=\"text-align: right;\">        0.210768  </td><td style=\"text-align: right;\">     0.258353 </td><td style=\"text-align: right;\"> 1674498283</td><td style=\"text-align: right;\">                        0</td><td>                 </td><td style=\"text-align: right;\">                   3</td><td>307d6_00015</td><td style=\"text-align: right;\">   0.00442004</td></tr>\n",
       "<tr><td>objective_function_asah_307d6_00016</td><td>2023-01-23_19-24-39</td><td>True  </td><td>                </td><td>12a6334d82604ff1a160e76a0a6795f0</td><td>raphael-20ujs00k00</td><td style=\"text-align: right;\">                         3</td><td style=\"text-align: right;\"> 0.00350615 </td><td>192.168.188.20</td><td style=\"text-align: right;\">191228</td><td style=\"text-align: right;\">           0.227776 </td><td style=\"text-align: right;\">        0.00585318</td><td style=\"text-align: right;\">     0.227776 </td><td style=\"text-align: right;\"> 1674498279</td><td style=\"text-align: right;\">                        0</td><td>                 </td><td style=\"text-align: right;\">                   3</td><td>307d6_00016</td><td style=\"text-align: right;\">   0.00338268</td></tr>\n",
       "<tr><td>objective_function_asah_307d6_00017</td><td>2023-01-23_19-24-39</td><td>True  </td><td>                </td><td>12a6334d82604ff1a160e76a0a6795f0</td><td>raphael-20ujs00k00</td><td style=\"text-align: right;\">                        10</td><td style=\"text-align: right;\"> 0.000260352</td><td>192.168.188.20</td><td style=\"text-align: right;\">191228</td><td style=\"text-align: right;\">           0.251825 </td><td style=\"text-align: right;\">        0.00781083</td><td style=\"text-align: right;\">     0.251825 </td><td style=\"text-align: right;\"> 1674498279</td><td style=\"text-align: right;\">                        0</td><td>                 </td><td style=\"text-align: right;\">                  10</td><td>307d6_00017</td><td style=\"text-align: right;\">   0.00338268</td></tr>\n",
       "<tr><td>objective_function_asah_307d6_00018</td><td>2023-01-23_19-24-40</td><td>True  </td><td>                </td><td>12a6334d82604ff1a160e76a0a6795f0</td><td>raphael-20ujs00k00</td><td style=\"text-align: right;\">                        10</td><td style=\"text-align: right;\">24.0692     </td><td>192.168.188.20</td><td style=\"text-align: right;\">191228</td><td style=\"text-align: right;\">           0.0880947</td><td style=\"text-align: right;\">        0.00851011</td><td style=\"text-align: right;\">     0.0880947</td><td style=\"text-align: right;\"> 1674498280</td><td style=\"text-align: right;\">                        0</td><td>                 </td><td style=\"text-align: right;\">                  10</td><td>307d6_00018</td><td style=\"text-align: right;\">   0.00338268</td></tr>\n",
       "<tr><td>objective_function_asah_307d6_00019</td><td>2023-01-23_19-24-40</td><td>True  </td><td>                </td><td>12a6334d82604ff1a160e76a0a6795f0</td><td>raphael-20ujs00k00</td><td style=\"text-align: right;\">                         3</td><td style=\"text-align: right;\"> 1.185      </td><td>192.168.188.20</td><td style=\"text-align: right;\">191228</td><td style=\"text-align: right;\">           0.034457 </td><td style=\"text-align: right;\">        0.00460982</td><td style=\"text-align: right;\">     0.034457 </td><td style=\"text-align: right;\"> 1674498280</td><td style=\"text-align: right;\">                        0</td><td>                 </td><td style=\"text-align: right;\">                   3</td><td>307d6_00019</td><td style=\"text-align: right;\">   0.00338268</td></tr>\n",
       "</tbody>\n",
       "</table>\n",
       "</div>\n",
       "<style>\n",
       ".trialProgress {\n",
       "  display: flex;\n",
       "  flex-direction: column;\n",
       "  color: var(--jp-ui-font-color1);\n",
       "}\n",
       ".trialProgress h3 {\n",
       "  font-weight: bold;\n",
       "}\n",
       ".trialProgress td {\n",
       "  white-space: nowrap;\n",
       "}\n",
       "</style>\n"
      ],
      "text/plain": [
       "<IPython.core.display.HTML object>"
      ]
     },
     "metadata": {},
     "output_type": "display_data"
    },
    {
     "name": "stderr",
     "output_type": "stream",
     "text": [
      "2023-01-23 19:24:43,881\tINFO tune.py:762 -- Total run time: 8.21 seconds (7.96 seconds for the tuning loop).\n"
     ]
    }
   ],
   "source": [
    "def objective_function_asah(config):\n",
    "  a = config[\"a\"]\n",
    "  b = config[\"b\"]\n",
    "\n",
    "  for i in range(10):\n",
    "    a = a*b\n",
    "    session.report({\"metric\": a})\n",
    "\n",
    "scheduler = tune.schedulers.ASHAScheduler(\n",
    "    max_t = 10,\n",
    "    time_attr = \"training_iteration\",\n",
    "    grace_period = 3\n",
    ")\n",
    "\n",
    "param_space = {\n",
    "    \"a\": tune.uniform(0,100),\n",
    "    \"b\": tune.uniform(0,1)\n",
    "}\n",
    "\n",
    "tuner = tune.Tuner(\n",
    "    objective_function_asah,\n",
    "    param_space = param_space,\n",
    "    tune_config = tune.TuneConfig(\n",
    "        num_samples = 20,\n",
    "        metric=\"metric\",\n",
    "        mode=\"max\",\n",
    "        scheduler = scheduler,\n",
    "        )\n",
    "    )\n",
    "\n",
    "results_asah = tuner.fit()"
   ]
  },
  {
   "cell_type": "code",
   "execution_count": 10,
   "metadata": {},
   "outputs": [
    {
     "name": "stdout",
     "output_type": "stream",
     "text": [
      "{'a': 39.25857972982341, 'b': 0.9581081071033282}\n"
     ]
    },
    {
     "data": {
      "text/plain": [
       "Text(0, 0.5, 'Mean accuracy')"
      ]
     },
     "execution_count": 10,
     "metadata": {},
     "output_type": "execute_result"
    },
    {
     "data": {
      "image/png": "[encoded data removed]",
      "text/plain": [
       "<Figure size 432x288 with 1 Axes>"
      ]
     },
     "metadata": {
      "needs_background": "light"
     },
     "output_type": "display_data"
    }
   ],
   "source": [
    "print(results_asah.get_best_result().config)\n",
    "\n",
    "ax = None\n",
    "dfs = {result.log_dir: result.metrics_dataframe for result in results_asah}\n",
    "for d in dfs.values():\n",
    "    ax = d.plot(ax=ax, y=\"metric\", legend=False)\n",
    "ax.set_xlabel(\"Epochs\")\n",
    "ax.set_ylabel(\"Mean accuracy\")"
   ]
  }
 ],
 "metadata": {
  "kernelspec": {
   "display_name": "Ray_Tune",
   "language": "python",
   "name": "python3"
  },
  "language_info": {
   "codemirror_mode": {
    "name": "ipython",
    "version": 3
   },
   "file_extension": ".py",
   "mimetype": "text/x-python",
   "name": "python",
   "nbconvert_exporter": "python",
   "pygments_lexer": "ipython3",
   "version": "3.10.8"
  },
  "orig_nbformat": 4,
  "vscode": {
   "interpreter": {
    "hash": "12b5708e47bcce2ed9c7c0871afac25011cce35a7f95a435508fd0065dc55843"
   }
  }
 },
 "nbformat": 4,
 "nbformat_minor": 2
}
