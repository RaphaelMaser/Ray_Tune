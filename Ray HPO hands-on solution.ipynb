{
 "cells": [
  {
   "cell_type": "code",
   "execution_count": 2,
   "metadata": {},
   "outputs": [],
   "source": [
    "%%capture\n",
    "%pip install ray\n",
    "%pip install tensorboardx\n",
    "%pip install matplotlib"
   ]
  },
  {
   "cell_type": "code",
   "execution_count": 3,
   "metadata": {},
   "outputs": [],
   "source": [
    "import ray\n",
    "from ray import air, tune\n",
    "from ray.air import session"
   ]
  },
  {
   "attachments": {},
   "cell_type": "markdown",
   "metadata": {},
   "source": [
    "# HPO with Ray Tune"
   ]
  },
  {
   "attachments": {},
   "cell_type": "markdown",
   "metadata": {},
   "source": [
    "The task in this notebook is to use Ray Tune to optimize the hyperparameters, namely \"a\" and \"b\", of the function \"objective_function\"."
   ]
  },
  {
   "cell_type": "code",
   "execution_count": 4,
   "metadata": {},
   "outputs": [],
   "source": [
    "def objective_function(a, b):\n",
    "  for i in range(10):\n",
    "    a = a*b"
   ]
  },
  {
   "attachments": {},
   "cell_type": "markdown",
   "metadata": {},
   "source": [
    "## Random Search"
   ]
  },
  {
   "attachments": {},
   "cell_type": "markdown",
   "metadata": {},
   "source": [
    "Try to use Ray Tune with the random hyperparameter search. For that purpose you need to modify the function so that it is compatible with Ray Tune, e.g. change the input argument (needs to take a dictionary as input) and report the training progress to Ray. Furthermore you need to define a tuner and run it. If the return value is named \"results\" the training results can be displayed in the following cell.\n",
    "\n",
    "Hint: Ray automatically uses random search if you do not specify any search algorithm"
   ]
  },
  {
   "cell_type": "code",
   "execution_count": 15,
   "metadata": {},
   "outputs": [
    {
     "data": {
      "text/html": [
       "<div class=\"tuneStatus\">\n",
       "  <div style=\"display: flex;flex-direction: row\">\n",
       "    <div style=\"display: flex;flex-direction: column;\">\n",
       "      <h3>Tune Status</h3>\n",
       "      <table>\n",
       "<tbody>\n",
       "<tr><td>Current time:</td><td>2023-01-23 19:36:12</td></tr>\n",
       "<tr><td>Running for: </td><td>00:00:03.28        </td></tr>\n",
       "<tr><td>Memory:      </td><td>14.8/30.6 GiB      </td></tr>\n",
       "</tbody>\n",
       "</table>\n",
       "    </div>\n",
       "    <div class=\"vDivider\"></div>\n",
       "    <div class=\"systemInfo\">\n",
       "      <h3>System Info</h3>\n",
       "      Using FIFO scheduling algorithm.<br>Resources requested: 0/16 CPUs, 0/0 GPUs, 0.0/10.63 GiB heap, 0.0/5.32 GiB objects\n",
       "    </div>\n",
       "    \n",
       "  </div>\n",
       "  <div class=\"hDivider\"></div>\n",
       "  <div class=\"trialStatus\">\n",
       "    <h3>Trial Status</h3>\n",
       "    <table>\n",
       "<thead>\n",
       "<tr><th>Trial name                    </th><th>status    </th><th>loc                  </th><th style=\"text-align: right;\">       a</th><th style=\"text-align: right;\">       b</th><th style=\"text-align: right;\">  iter</th><th style=\"text-align: right;\">  total time (s)</th><th style=\"text-align: right;\">    metric</th></tr>\n",
       "</thead>\n",
       "<tbody>\n",
       "<tr><td>objective_function_cdf18_00000</td><td>TERMINATED</td><td>192.168.188.20:195291</td><td style=\"text-align: right;\">0.906004</td><td style=\"text-align: right;\">0.57863 </td><td style=\"text-align: right;\">    10</td><td style=\"text-align: right;\">       0.0693207</td><td style=\"text-align: right;\">0.00381187</td></tr>\n",
       "<tr><td>objective_function_cdf18_00001</td><td>TERMINATED</td><td>192.168.188.20:195375</td><td style=\"text-align: right;\">0.791233</td><td style=\"text-align: right;\">0.954173</td><td style=\"text-align: right;\">    10</td><td style=\"text-align: right;\">       0.0642326</td><td style=\"text-align: right;\">0.494965  </td></tr>\n",
       "<tr><td>objective_function_cdf18_00002</td><td>TERMINATED</td><td>192.168.188.20:195377</td><td style=\"text-align: right;\">0.988732</td><td style=\"text-align: right;\">0.667786</td><td style=\"text-align: right;\">    10</td><td style=\"text-align: right;\">       0.0511098</td><td style=\"text-align: right;\">0.0174363 </td></tr>\n",
       "<tr><td>objective_function_cdf18_00003</td><td>TERMINATED</td><td>192.168.188.20:195379</td><td style=\"text-align: right;\">0.897822</td><td style=\"text-align: right;\">0.640906</td><td style=\"text-align: right;\">    10</td><td style=\"text-align: right;\">       0.0566771</td><td style=\"text-align: right;\">0.0104987 </td></tr>\n",
       "<tr><td>objective_function_cdf18_00004</td><td>TERMINATED</td><td>192.168.188.20:195381</td><td style=\"text-align: right;\">0.802538</td><td style=\"text-align: right;\">0.625252</td><td style=\"text-align: right;\">    10</td><td style=\"text-align: right;\">       0.0337653</td><td style=\"text-align: right;\">0.00732857</td></tr>\n",
       "</tbody>\n",
       "</table>\n",
       "  </div>\n",
       "</div>\n",
       "<style>\n",
       ".tuneStatus {\n",
       "  color: var(--jp-ui-font-color1);\n",
       "}\n",
       ".tuneStatus .systemInfo {\n",
       "  display: flex;\n",
       "  flex-direction: column;\n",
       "}\n",
       ".tuneStatus td {\n",
       "  white-space: nowrap;\n",
       "}\n",
       ".tuneStatus .trialStatus {\n",
       "  display: flex;\n",
       "  flex-direction: column;\n",
       "}\n",
       ".tuneStatus h3 {\n",
       "  font-weight: bold;\n",
       "}\n",
       ".tuneStatus .hDivider {\n",
       "  border-bottom-width: var(--jp-border-width);\n",
       "  border-bottom-color: var(--jp-border-color0);\n",
       "  border-bottom-style: solid;\n",
       "}\n",
       ".tuneStatus .vDivider {\n",
       "  border-left-width: var(--jp-border-width);\n",
       "  border-left-color: var(--jp-border-color0);\n",
       "  border-left-style: solid;\n",
       "  margin: 0.5em 1em 0.5em 1em;\n",
       "}\n",
       "</style>\n"
      ],
      "text/plain": [
       "<IPython.core.display.HTML object>"
      ]
     },
     "metadata": {},
     "output_type": "display_data"
    },
    {
     "data": {
      "text/html": [
       "<div class=\"trialProgress\">\n",
       "  <h3>Trial Progress</h3>\n",
       "  <table>\n",
       "<thead>\n",
       "<tr><th>Trial name                    </th><th>date               </th><th>done  </th><th>episodes_total  </th><th>experiment_id                   </th><th>experiment_tag     </th><th>hostname          </th><th style=\"text-align: right;\">  iterations_since_restore</th><th style=\"text-align: right;\">    metric</th><th>node_ip       </th><th style=\"text-align: right;\">   pid</th><th style=\"text-align: right;\">  time_since_restore</th><th style=\"text-align: right;\">  time_this_iter_s</th><th style=\"text-align: right;\">  time_total_s</th><th style=\"text-align: right;\">  timestamp</th><th style=\"text-align: right;\">  timesteps_since_restore</th><th>timesteps_total  </th><th style=\"text-align: right;\">  training_iteration</th><th>trial_id   </th><th style=\"text-align: right;\">  warmup_time</th></tr>\n",
       "</thead>\n",
       "<tbody>\n",
       "<tr><td>objective_function_cdf18_00000</td><td>2023-01-23_19-36-10</td><td>True  </td><td>                </td><td>f0fe37ff019e4b0c8d8ccb2638cdf833</td><td>0_a=0.9060,b=0.5786</td><td>raphael-20ujs00k00</td><td style=\"text-align: right;\">                        10</td><td style=\"text-align: right;\">0.00381187</td><td>192.168.188.20</td><td style=\"text-align: right;\">195291</td><td style=\"text-align: right;\">           0.0693207</td><td style=\"text-align: right;\">        0.00382853</td><td style=\"text-align: right;\">     0.0693207</td><td style=\"text-align: right;\"> 1674498970</td><td style=\"text-align: right;\">                        0</td><td>                 </td><td style=\"text-align: right;\">                  10</td><td>cdf18_00000</td><td style=\"text-align: right;\">   0.00275469</td></tr>\n",
       "<tr><td>objective_function_cdf18_00001</td><td>2023-01-23_19-36-12</td><td>True  </td><td>                </td><td>0e8e4815d392416aa64a8faec93c43e3</td><td>1_a=0.7912,b=0.9542</td><td>raphael-20ujs00k00</td><td style=\"text-align: right;\">                        10</td><td style=\"text-align: right;\">0.494965  </td><td>192.168.188.20</td><td style=\"text-align: right;\">195375</td><td style=\"text-align: right;\">           0.0642326</td><td style=\"text-align: right;\">        0.0033071 </td><td style=\"text-align: right;\">     0.0642326</td><td style=\"text-align: right;\"> 1674498972</td><td style=\"text-align: right;\">                        0</td><td>                 </td><td style=\"text-align: right;\">                  10</td><td>cdf18_00001</td><td style=\"text-align: right;\">   0.00362158</td></tr>\n",
       "<tr><td>objective_function_cdf18_00002</td><td>2023-01-23_19-36-12</td><td>True  </td><td>                </td><td>be9b1535b1964fd7ae744a6fe8cef5c0</td><td>2_a=0.9887,b=0.6678</td><td>raphael-20ujs00k00</td><td style=\"text-align: right;\">                        10</td><td style=\"text-align: right;\">0.0174363 </td><td>192.168.188.20</td><td style=\"text-align: right;\">195377</td><td style=\"text-align: right;\">           0.0511098</td><td style=\"text-align: right;\">        0.00436234</td><td style=\"text-align: right;\">     0.0511098</td><td style=\"text-align: right;\"> 1674498972</td><td style=\"text-align: right;\">                        0</td><td>                 </td><td style=\"text-align: right;\">                  10</td><td>cdf18_00002</td><td style=\"text-align: right;\">   0.00381994</td></tr>\n",
       "<tr><td>objective_function_cdf18_00003</td><td>2023-01-23_19-36-12</td><td>True  </td><td>                </td><td>fa5945ee29b348e8b9d9ad363a6e6f00</td><td>3_a=0.8978,b=0.6409</td><td>raphael-20ujs00k00</td><td style=\"text-align: right;\">                        10</td><td style=\"text-align: right;\">0.0104987 </td><td>192.168.188.20</td><td style=\"text-align: right;\">195379</td><td style=\"text-align: right;\">           0.0566771</td><td style=\"text-align: right;\">        0.00418043</td><td style=\"text-align: right;\">     0.0566771</td><td style=\"text-align: right;\"> 1674498972</td><td style=\"text-align: right;\">                        0</td><td>                 </td><td style=\"text-align: right;\">                  10</td><td>cdf18_00003</td><td style=\"text-align: right;\">   0.00577974</td></tr>\n",
       "<tr><td>objective_function_cdf18_00004</td><td>2023-01-23_19-36-12</td><td>True  </td><td>                </td><td>06e0018f7e9f482e9968c31342b6e9d8</td><td>4_a=0.8025,b=0.6253</td><td>raphael-20ujs00k00</td><td style=\"text-align: right;\">                        10</td><td style=\"text-align: right;\">0.00732857</td><td>192.168.188.20</td><td style=\"text-align: right;\">195381</td><td style=\"text-align: right;\">           0.0337653</td><td style=\"text-align: right;\">        0.00446868</td><td style=\"text-align: right;\">     0.0337653</td><td style=\"text-align: right;\"> 1674498972</td><td style=\"text-align: right;\">                        0</td><td>                 </td><td style=\"text-align: right;\">                  10</td><td>cdf18_00004</td><td style=\"text-align: right;\">   0.00374103</td></tr>\n",
       "</tbody>\n",
       "</table>\n",
       "</div>\n",
       "<style>\n",
       ".trialProgress {\n",
       "  display: flex;\n",
       "  flex-direction: column;\n",
       "  color: var(--jp-ui-font-color1);\n",
       "}\n",
       ".trialProgress h3 {\n",
       "  font-weight: bold;\n",
       "}\n",
       ".trialProgress td {\n",
       "  white-space: nowrap;\n",
       "}\n",
       "</style>\n"
      ],
      "text/plain": [
       "<IPython.core.display.HTML object>"
      ]
     },
     "metadata": {},
     "output_type": "display_data"
    },
    {
     "name": "stderr",
     "output_type": "stream",
     "text": [
      "2023-01-23 19:36:12,730\tINFO tune.py:762 -- Total run time: 3.40 seconds (3.27 seconds for the tuning loop).\n"
     ]
    }
   ],
   "source": [
    "def objective_function(config):\n",
    "  a = config[\"a\"]\n",
    "  b = config[\"b\"]\n",
    "\n",
    "  for i in range(10):\n",
    "    a = a*b\n",
    "    session.report({\"metric\": a})\n",
    "\n",
    "param_space = {\n",
    "    \"a\": tune.uniform(0.5,1),\n",
    "    \"b\": tune.uniform(0.5,1)\n",
    "}\n",
    "\n",
    "tuner = tune.Tuner(\n",
    "    objective_function,\n",
    "    param_space = param_space,\n",
    "    tune_config = tune.TuneConfig(\n",
    "        num_samples = 5,\n",
    "        metric=\"metric\",\n",
    "        mode=\"max\",\n",
    "        )\n",
    "    )\n",
    "\n",
    "results = tuner.fit()"
   ]
  },
  {
   "cell_type": "code",
   "execution_count": 16,
   "metadata": {},
   "outputs": [
    {
     "name": "stdout",
     "output_type": "stream",
     "text": [
      "{'a': 0.7912330585308687, 'b': 0.9541727288231789}\n"
     ]
    },
    {
     "data": {
      "text/plain": [
       "Text(0, 0.5, 'Mean accuracy')"
      ]
     },
     "execution_count": 16,
     "metadata": {},
     "output_type": "execute_result"
    },
    {
     "data": {
      "image/png": "[encoded data removed]",
      "text/plain": [
       "<Figure size 432x288 with 1 Axes>"
      ]
     },
     "metadata": {
      "needs_background": "light"
     },
     "output_type": "display_data"
    }
   ],
   "source": [
    "print(results.get_best_result().config)\n",
    "\n",
    "ax = None\n",
    "dfs = {result.log_dir: result.metrics_dataframe for result in results}\n",
    "for d in dfs.values():\n",
    "    ax = d.plot(ax=ax, y=\"metric\", legend=False)\n",
    "ax.set_xlabel(\"Epochs\")\n",
    "ax.set_ylabel(\"Mean accuracy\")"
   ]
  },
  {
   "attachments": {},
   "cell_type": "markdown",
   "metadata": {},
   "source": [
    "## Random Search with ASAH"
   ]
  },
  {
   "attachments": {},
   "cell_type": "markdown",
   "metadata": {},
   "source": [
    "This time add the ASAH scheduler to the random search."
   ]
  },
  {
   "cell_type": "code",
   "execution_count": 17,
   "metadata": {},
   "outputs": [
    {
     "data": {
      "text/html": [
       "<div class=\"tuneStatus\">\n",
       "  <div style=\"display: flex;flex-direction: row\">\n",
       "    <div style=\"display: flex;flex-direction: column;\">\n",
       "      <h3>Tune Status</h3>\n",
       "      <table>\n",
       "<tbody>\n",
       "<tr><td>Current time:</td><td>2023-01-23 19:37:11</td></tr>\n",
       "<tr><td>Running for: </td><td>00:00:06.22        </td></tr>\n",
       "<tr><td>Memory:      </td><td>14.6/30.6 GiB      </td></tr>\n",
       "</tbody>\n",
       "</table>\n",
       "    </div>\n",
       "    <div class=\"vDivider\"></div>\n",
       "    <div class=\"systemInfo\">\n",
       "      <h3>System Info</h3>\n",
       "      Using AsyncHyperBand: num_stopped=20<br>Bracket: Iter 3.000: 0.5507100675927851<br>Resources requested: 0/16 CPUs, 0/0 GPUs, 0.0/10.63 GiB heap, 0.0/5.32 GiB objects\n",
       "    </div>\n",
       "    \n",
       "  </div>\n",
       "  <div class=\"hDivider\"></div>\n",
       "  <div class=\"trialStatus\">\n",
       "    <h3>Trial Status</h3>\n",
       "    <table>\n",
       "<thead>\n",
       "<tr><th>Trial name                         </th><th>status    </th><th>loc                  </th><th style=\"text-align: right;\">       a</th><th style=\"text-align: right;\">       b</th><th style=\"text-align: right;\">  iter</th><th style=\"text-align: right;\">  total time (s)</th><th style=\"text-align: right;\">   metric</th></tr>\n",
       "</thead>\n",
       "<tbody>\n",
       "<tr><td>objective_function_asah_ef3ea_00000</td><td>TERMINATED</td><td>192.168.188.20:195811</td><td style=\"text-align: right;\">0.962342</td><td style=\"text-align: right;\">0.943965</td><td style=\"text-align: right;\">    10</td><td style=\"text-align: right;\">       0.753194 </td><td style=\"text-align: right;\">0.540616 </td></tr>\n",
       "<tr><td>objective_function_asah_ef3ea_00001</td><td>TERMINATED</td><td>192.168.188.20:195893</td><td style=\"text-align: right;\">0.798208</td><td style=\"text-align: right;\">0.988053</td><td style=\"text-align: right;\">    10</td><td style=\"text-align: right;\">       0.542896 </td><td style=\"text-align: right;\">0.707815 </td></tr>\n",
       "<tr><td>objective_function_asah_ef3ea_00002</td><td>TERMINATED</td><td>192.168.188.20:195907</td><td style=\"text-align: right;\">0.849381</td><td style=\"text-align: right;\">0.578002</td><td style=\"text-align: right;\">     3</td><td style=\"text-align: right;\">       0.0329177</td><td style=\"text-align: right;\">0.164018 </td></tr>\n",
       "<tr><td>objective_function_asah_ef3ea_00003</td><td>TERMINATED</td><td>192.168.188.20:195909</td><td style=\"text-align: right;\">0.841464</td><td style=\"text-align: right;\">0.854139</td><td style=\"text-align: right;\">     3</td><td style=\"text-align: right;\">       0.605877 </td><td style=\"text-align: right;\">0.52435  </td></tr>\n",
       "<tr><td>objective_function_asah_ef3ea_00004</td><td>TERMINATED</td><td>192.168.188.20:195911</td><td style=\"text-align: right;\">0.5552  </td><td style=\"text-align: right;\">0.787676</td><td style=\"text-align: right;\">     3</td><td style=\"text-align: right;\">       0.11283  </td><td style=\"text-align: right;\">0.271326 </td></tr>\n",
       "<tr><td>objective_function_asah_ef3ea_00005</td><td>TERMINATED</td><td>192.168.188.20:195914</td><td style=\"text-align: right;\">0.98071 </td><td style=\"text-align: right;\">0.863844</td><td style=\"text-align: right;\">     3</td><td style=\"text-align: right;\">       0.499736 </td><td style=\"text-align: right;\">0.632188 </td></tr>\n",
       "<tr><td>objective_function_asah_ef3ea_00006</td><td>TERMINATED</td><td>192.168.188.20:195915</td><td style=\"text-align: right;\">0.658098</td><td style=\"text-align: right;\">0.548595</td><td style=\"text-align: right;\">     3</td><td style=\"text-align: right;\">       0.749054 </td><td style=\"text-align: right;\">0.108654 </td></tr>\n",
       "<tr><td>objective_function_asah_ef3ea_00007</td><td>TERMINATED</td><td>192.168.188.20:195916</td><td style=\"text-align: right;\">0.533258</td><td style=\"text-align: right;\">0.586175</td><td style=\"text-align: right;\">     3</td><td style=\"text-align: right;\">       0.466393 </td><td style=\"text-align: right;\">0.107404 </td></tr>\n",
       "<tr><td>objective_function_asah_ef3ea_00008</td><td>TERMINATED</td><td>192.168.188.20:195919</td><td style=\"text-align: right;\">0.587589</td><td style=\"text-align: right;\">0.905417</td><td style=\"text-align: right;\">     3</td><td style=\"text-align: right;\">       0.642637 </td><td style=\"text-align: right;\">0.436134 </td></tr>\n",
       "<tr><td>objective_function_asah_ef3ea_00009</td><td>TERMINATED</td><td>192.168.188.20:195921</td><td style=\"text-align: right;\">0.501508</td><td style=\"text-align: right;\">0.941496</td><td style=\"text-align: right;\">     3</td><td style=\"text-align: right;\">       0.440291 </td><td style=\"text-align: right;\">0.418537 </td></tr>\n",
       "<tr><td>objective_function_asah_ef3ea_00010</td><td>TERMINATED</td><td>192.168.188.20:195923</td><td style=\"text-align: right;\">0.663879</td><td style=\"text-align: right;\">0.982583</td><td style=\"text-align: right;\">    10</td><td style=\"text-align: right;\">       0.610846 </td><td style=\"text-align: right;\">0.556904 </td></tr>\n",
       "<tr><td>objective_function_asah_ef3ea_00011</td><td>TERMINATED</td><td>192.168.188.20:195925</td><td style=\"text-align: right;\">0.500617</td><td style=\"text-align: right;\">0.913769</td><td style=\"text-align: right;\">     3</td><td style=\"text-align: right;\">       0.270439 </td><td style=\"text-align: right;\">0.381958 </td></tr>\n",
       "<tr><td>objective_function_asah_ef3ea_00012</td><td>TERMINATED</td><td>192.168.188.20:195927</td><td style=\"text-align: right;\">0.612138</td><td style=\"text-align: right;\">0.61814 </td><td style=\"text-align: right;\">     3</td><td style=\"text-align: right;\">       0.273611 </td><td style=\"text-align: right;\">0.144581 </td></tr>\n",
       "<tr><td>objective_function_asah_ef3ea_00013</td><td>TERMINATED</td><td>192.168.188.20:195929</td><td style=\"text-align: right;\">0.63227 </td><td style=\"text-align: right;\">0.918104</td><td style=\"text-align: right;\">     3</td><td style=\"text-align: right;\">       0.406316 </td><td style=\"text-align: right;\">0.489303 </td></tr>\n",
       "<tr><td>objective_function_asah_ef3ea_00014</td><td>TERMINATED</td><td>192.168.188.20:195947</td><td style=\"text-align: right;\">0.910288</td><td style=\"text-align: right;\">0.996684</td><td style=\"text-align: right;\">    10</td><td style=\"text-align: right;\">       0.418223 </td><td style=\"text-align: right;\">0.880546 </td></tr>\n",
       "<tr><td>objective_function_asah_ef3ea_00015</td><td>TERMINATED</td><td>192.168.188.20:195948</td><td style=\"text-align: right;\">0.501655</td><td style=\"text-align: right;\">0.820246</td><td style=\"text-align: right;\">     3</td><td style=\"text-align: right;\">       0.283974 </td><td style=\"text-align: right;\">0.276846 </td></tr>\n",
       "<tr><td>objective_function_asah_ef3ea_00016</td><td>TERMINATED</td><td>192.168.188.20:195811</td><td style=\"text-align: right;\">0.811312</td><td style=\"text-align: right;\">0.813504</td><td style=\"text-align: right;\">     3</td><td style=\"text-align: right;\">       0.385041 </td><td style=\"text-align: right;\">0.436785 </td></tr>\n",
       "<tr><td>objective_function_asah_ef3ea_00017</td><td>TERMINATED</td><td>192.168.188.20:195811</td><td style=\"text-align: right;\">0.804846</td><td style=\"text-align: right;\">0.574068</td><td style=\"text-align: right;\">     3</td><td style=\"text-align: right;\">       0.068548 </td><td style=\"text-align: right;\">0.152266 </td></tr>\n",
       "<tr><td>objective_function_asah_ef3ea_00018</td><td>TERMINATED</td><td>192.168.188.20:195811</td><td style=\"text-align: right;\">0.502617</td><td style=\"text-align: right;\">0.581469</td><td style=\"text-align: right;\">     3</td><td style=\"text-align: right;\">       0.470214 </td><td style=\"text-align: right;\">0.0988134</td></tr>\n",
       "<tr><td>objective_function_asah_ef3ea_00019</td><td>TERMINATED</td><td>192.168.188.20:195811</td><td style=\"text-align: right;\">0.832752</td><td style=\"text-align: right;\">0.530435</td><td style=\"text-align: right;\">     3</td><td style=\"text-align: right;\">       0.2031   </td><td style=\"text-align: right;\">0.124283 </td></tr>\n",
       "</tbody>\n",
       "</table>\n",
       "  </div>\n",
       "</div>\n",
       "<style>\n",
       ".tuneStatus {\n",
       "  color: var(--jp-ui-font-color1);\n",
       "}\n",
       ".tuneStatus .systemInfo {\n",
       "  display: flex;\n",
       "  flex-direction: column;\n",
       "}\n",
       ".tuneStatus td {\n",
       "  white-space: nowrap;\n",
       "}\n",
       ".tuneStatus .trialStatus {\n",
       "  display: flex;\n",
       "  flex-direction: column;\n",
       "}\n",
       ".tuneStatus h3 {\n",
       "  font-weight: bold;\n",
       "}\n",
       ".tuneStatus .hDivider {\n",
       "  border-bottom-width: var(--jp-border-width);\n",
       "  border-bottom-color: var(--jp-border-color0);\n",
       "  border-bottom-style: solid;\n",
       "}\n",
       ".tuneStatus .vDivider {\n",
       "  border-left-width: var(--jp-border-width);\n",
       "  border-left-color: var(--jp-border-color0);\n",
       "  border-left-style: solid;\n",
       "  margin: 0.5em 1em 0.5em 1em;\n",
       "}\n",
       "</style>\n"
      ],
      "text/plain": [
       "<IPython.core.display.HTML object>"
      ]
     },
     "metadata": {},
     "output_type": "display_data"
    },
    {
     "data": {
      "text/html": [
       "<div class=\"trialProgress\">\n",
       "  <h3>Trial Progress</h3>\n",
       "  <table>\n",
       "<thead>\n",
       "<tr><th>Trial name                         </th><th>date               </th><th>done  </th><th>episodes_total  </th><th>experiment_id                   </th><th>hostname          </th><th style=\"text-align: right;\">  iterations_since_restore</th><th style=\"text-align: right;\">   metric</th><th>node_ip       </th><th style=\"text-align: right;\">   pid</th><th style=\"text-align: right;\">  time_since_restore</th><th style=\"text-align: right;\">  time_this_iter_s</th><th style=\"text-align: right;\">  time_total_s</th><th style=\"text-align: right;\">  timestamp</th><th style=\"text-align: right;\">  timesteps_since_restore</th><th>timesteps_total  </th><th style=\"text-align: right;\">  training_iteration</th><th>trial_id   </th><th style=\"text-align: right;\">  warmup_time</th></tr>\n",
       "</thead>\n",
       "<tbody>\n",
       "<tr><td>objective_function_asah_ef3ea_00000</td><td>2023-01-23_19-37-07</td><td>True  </td><td>                </td><td>e78dc8d8c24a4a5b85b89554fa3513db</td><td>raphael-20ujs00k00</td><td style=\"text-align: right;\">                        10</td><td style=\"text-align: right;\">0.540616 </td><td>192.168.188.20</td><td style=\"text-align: right;\">195811</td><td style=\"text-align: right;\">           0.753194 </td><td style=\"text-align: right;\">        0.0195396 </td><td style=\"text-align: right;\">     0.753194 </td><td style=\"text-align: right;\"> 1674499027</td><td style=\"text-align: right;\">                        0</td><td>                 </td><td style=\"text-align: right;\">                  10</td><td>ef3ea_00000</td><td style=\"text-align: right;\">   0.00333285</td></tr>\n",
       "<tr><td>objective_function_asah_ef3ea_00001</td><td>2023-01-23_19-37-11</td><td>True  </td><td>                </td><td>f032202d3ae7415ab87155de1631878f</td><td>raphael-20ujs00k00</td><td style=\"text-align: right;\">                        10</td><td style=\"text-align: right;\">0.707815 </td><td>192.168.188.20</td><td style=\"text-align: right;\">195893</td><td style=\"text-align: right;\">           0.542896 </td><td style=\"text-align: right;\">        0.00691295</td><td style=\"text-align: right;\">     0.542896 </td><td style=\"text-align: right;\"> 1674499031</td><td style=\"text-align: right;\">                        0</td><td>                 </td><td style=\"text-align: right;\">                  10</td><td>ef3ea_00001</td><td style=\"text-align: right;\">   0.00555491</td></tr>\n",
       "<tr><td>objective_function_asah_ef3ea_00002</td><td>2023-01-23_19-37-10</td><td>True  </td><td>                </td><td>142de31fc3ec4d988dda162c0b96445d</td><td>raphael-20ujs00k00</td><td style=\"text-align: right;\">                         3</td><td style=\"text-align: right;\">0.164018 </td><td>192.168.188.20</td><td style=\"text-align: right;\">195907</td><td style=\"text-align: right;\">           0.0329177</td><td style=\"text-align: right;\">        0.0095377 </td><td style=\"text-align: right;\">     0.0329177</td><td style=\"text-align: right;\"> 1674499030</td><td style=\"text-align: right;\">                        0</td><td>                 </td><td style=\"text-align: right;\">                   3</td><td>ef3ea_00002</td><td style=\"text-align: right;\">   0.00538707</td></tr>\n",
       "<tr><td>objective_function_asah_ef3ea_00003</td><td>2023-01-23_19-37-11</td><td>True  </td><td>                </td><td>68ab72369a724b2da0a91f120cf21cb9</td><td>raphael-20ujs00k00</td><td style=\"text-align: right;\">                         3</td><td style=\"text-align: right;\">0.52435  </td><td>192.168.188.20</td><td style=\"text-align: right;\">195909</td><td style=\"text-align: right;\">           0.605877 </td><td style=\"text-align: right;\">        0.581736  </td><td style=\"text-align: right;\">     0.605877 </td><td style=\"text-align: right;\"> 1674499031</td><td style=\"text-align: right;\">                        0</td><td>                 </td><td style=\"text-align: right;\">                   3</td><td>ef3ea_00003</td><td style=\"text-align: right;\">   0.00509596</td></tr>\n",
       "<tr><td>objective_function_asah_ef3ea_00004</td><td>2023-01-23_19-37-11</td><td>True  </td><td>                </td><td>2013933206af4830912293b308b769d8</td><td>raphael-20ujs00k00</td><td style=\"text-align: right;\">                         3</td><td style=\"text-align: right;\">0.271326 </td><td>192.168.188.20</td><td style=\"text-align: right;\">195911</td><td style=\"text-align: right;\">           0.11283  </td><td style=\"text-align: right;\">        0.0823069 </td><td style=\"text-align: right;\">     0.11283  </td><td style=\"text-align: right;\"> 1674499031</td><td style=\"text-align: right;\">                        0</td><td>                 </td><td style=\"text-align: right;\">                   3</td><td>ef3ea_00004</td><td style=\"text-align: right;\">   0.00307512</td></tr>\n",
       "<tr><td>objective_function_asah_ef3ea_00005</td><td>2023-01-23_19-37-11</td><td>True  </td><td>                </td><td>655c67e06aa24c44b20aaf024b360996</td><td>raphael-20ujs00k00</td><td style=\"text-align: right;\">                         3</td><td style=\"text-align: right;\">0.632188 </td><td>192.168.188.20</td><td style=\"text-align: right;\">195914</td><td style=\"text-align: right;\">           0.499736 </td><td style=\"text-align: right;\">        0.00528836</td><td style=\"text-align: right;\">     0.499736 </td><td style=\"text-align: right;\"> 1674499031</td><td style=\"text-align: right;\">                        0</td><td>                 </td><td style=\"text-align: right;\">                   3</td><td>ef3ea_00005</td><td style=\"text-align: right;\">   0.00648308</td></tr>\n",
       "<tr><td>objective_function_asah_ef3ea_00006</td><td>2023-01-23_19-37-11</td><td>True  </td><td>                </td><td>29032f25527f4c17bcf8766027753652</td><td>raphael-20ujs00k00</td><td style=\"text-align: right;\">                         3</td><td style=\"text-align: right;\">0.108654 </td><td>192.168.188.20</td><td style=\"text-align: right;\">195915</td><td style=\"text-align: right;\">           0.749054 </td><td style=\"text-align: right;\">        0.0650506 </td><td style=\"text-align: right;\">     0.749054 </td><td style=\"text-align: right;\"> 1674499031</td><td style=\"text-align: right;\">                        0</td><td>                 </td><td style=\"text-align: right;\">                   3</td><td>ef3ea_00006</td><td style=\"text-align: right;\">   0.00747299</td></tr>\n",
       "<tr><td>objective_function_asah_ef3ea_00007</td><td>2023-01-23_19-37-11</td><td>True  </td><td>                </td><td>6ea5b6fe7c844d8b80a91f965c121885</td><td>raphael-20ujs00k00</td><td style=\"text-align: right;\">                         3</td><td style=\"text-align: right;\">0.107404 </td><td>192.168.188.20</td><td style=\"text-align: right;\">195916</td><td style=\"text-align: right;\">           0.466393 </td><td style=\"text-align: right;\">        0.188109  </td><td style=\"text-align: right;\">     0.466393 </td><td style=\"text-align: right;\"> 1674499031</td><td style=\"text-align: right;\">                        0</td><td>                 </td><td style=\"text-align: right;\">                   3</td><td>ef3ea_00007</td><td style=\"text-align: right;\">   0.00549412</td></tr>\n",
       "<tr><td>objective_function_asah_ef3ea_00008</td><td>2023-01-23_19-37-11</td><td>True  </td><td>                </td><td>dc5838d4de0147109eca615cc80a0e8e</td><td>raphael-20ujs00k00</td><td style=\"text-align: right;\">                         3</td><td style=\"text-align: right;\">0.436134 </td><td>192.168.188.20</td><td style=\"text-align: right;\">195919</td><td style=\"text-align: right;\">           0.642637 </td><td style=\"text-align: right;\">        0.024823  </td><td style=\"text-align: right;\">     0.642637 </td><td style=\"text-align: right;\"> 1674499031</td><td style=\"text-align: right;\">                        0</td><td>                 </td><td style=\"text-align: right;\">                   3</td><td>ef3ea_00008</td><td style=\"text-align: right;\">   0.00737953</td></tr>\n",
       "<tr><td>objective_function_asah_ef3ea_00009</td><td>2023-01-23_19-37-11</td><td>True  </td><td>                </td><td>ca8f18ca49e54c878541f1560d061769</td><td>raphael-20ujs00k00</td><td style=\"text-align: right;\">                         3</td><td style=\"text-align: right;\">0.418537 </td><td>192.168.188.20</td><td style=\"text-align: right;\">195921</td><td style=\"text-align: right;\">           0.440291 </td><td style=\"text-align: right;\">        0.0809081 </td><td style=\"text-align: right;\">     0.440291 </td><td style=\"text-align: right;\"> 1674499031</td><td style=\"text-align: right;\">                        0</td><td>                 </td><td style=\"text-align: right;\">                   3</td><td>ef3ea_00009</td><td style=\"text-align: right;\">   0.00644636</td></tr>\n",
       "<tr><td>objective_function_asah_ef3ea_00010</td><td>2023-01-23_19-37-11</td><td>True  </td><td>                </td><td>c446c7eed5df4652a37066e0632b3f07</td><td>raphael-20ujs00k00</td><td style=\"text-align: right;\">                        10</td><td style=\"text-align: right;\">0.556904 </td><td>192.168.188.20</td><td style=\"text-align: right;\">195923</td><td style=\"text-align: right;\">           0.610846 </td><td style=\"text-align: right;\">        0.00329971</td><td style=\"text-align: right;\">     0.610846 </td><td style=\"text-align: right;\"> 1674499031</td><td style=\"text-align: right;\">                        0</td><td>                 </td><td style=\"text-align: right;\">                  10</td><td>ef3ea_00010</td><td style=\"text-align: right;\">   0.00567389</td></tr>\n",
       "<tr><td>objective_function_asah_ef3ea_00011</td><td>2023-01-23_19-37-11</td><td>True  </td><td>                </td><td>1f44b4b9bda542428670968030690751</td><td>raphael-20ujs00k00</td><td style=\"text-align: right;\">                         3</td><td style=\"text-align: right;\">0.381958 </td><td>192.168.188.20</td><td style=\"text-align: right;\">195925</td><td style=\"text-align: right;\">           0.270439 </td><td style=\"text-align: right;\">        0.122502  </td><td style=\"text-align: right;\">     0.270439 </td><td style=\"text-align: right;\"> 1674499031</td><td style=\"text-align: right;\">                        0</td><td>                 </td><td style=\"text-align: right;\">                   3</td><td>ef3ea_00011</td><td style=\"text-align: right;\">   0.00358319</td></tr>\n",
       "<tr><td>objective_function_asah_ef3ea_00012</td><td>2023-01-23_19-37-11</td><td>True  </td><td>                </td><td>f1e675e0d5cb4ba6971f80586558d2a2</td><td>raphael-20ujs00k00</td><td style=\"text-align: right;\">                         3</td><td style=\"text-align: right;\">0.144581 </td><td>192.168.188.20</td><td style=\"text-align: right;\">195927</td><td style=\"text-align: right;\">           0.273611 </td><td style=\"text-align: right;\">        0.0201149 </td><td style=\"text-align: right;\">     0.273611 </td><td style=\"text-align: right;\"> 1674499031</td><td style=\"text-align: right;\">                        0</td><td>                 </td><td style=\"text-align: right;\">                   3</td><td>ef3ea_00012</td><td style=\"text-align: right;\">   0.00511336</td></tr>\n",
       "<tr><td>objective_function_asah_ef3ea_00013</td><td>2023-01-23_19-37-11</td><td>True  </td><td>                </td><td>d350b0e99e3e4493be67ad479e66216e</td><td>raphael-20ujs00k00</td><td style=\"text-align: right;\">                         3</td><td style=\"text-align: right;\">0.489303 </td><td>192.168.188.20</td><td style=\"text-align: right;\">195929</td><td style=\"text-align: right;\">           0.406316 </td><td style=\"text-align: right;\">        0.179816  </td><td style=\"text-align: right;\">     0.406316 </td><td style=\"text-align: right;\"> 1674499031</td><td style=\"text-align: right;\">                        0</td><td>                 </td><td style=\"text-align: right;\">                   3</td><td>ef3ea_00013</td><td style=\"text-align: right;\">   0.0085597 </td></tr>\n",
       "<tr><td>objective_function_asah_ef3ea_00014</td><td>2023-01-23_19-37-11</td><td>True  </td><td>                </td><td>348895ee8e1c491d88e0c9d1b5100a76</td><td>raphael-20ujs00k00</td><td style=\"text-align: right;\">                        10</td><td style=\"text-align: right;\">0.880546 </td><td>192.168.188.20</td><td style=\"text-align: right;\">195947</td><td style=\"text-align: right;\">           0.418223 </td><td style=\"text-align: right;\">        0.00258327</td><td style=\"text-align: right;\">     0.418223 </td><td style=\"text-align: right;\"> 1674499031</td><td style=\"text-align: right;\">                        0</td><td>                 </td><td style=\"text-align: right;\">                  10</td><td>ef3ea_00014</td><td style=\"text-align: right;\">   0.00365257</td></tr>\n",
       "<tr><td>objective_function_asah_ef3ea_00015</td><td>2023-01-23_19-37-11</td><td>True  </td><td>                </td><td>a6c5aaa333bb4cf2b8c750db9b465675</td><td>raphael-20ujs00k00</td><td style=\"text-align: right;\">                         3</td><td style=\"text-align: right;\">0.276846 </td><td>192.168.188.20</td><td style=\"text-align: right;\">195948</td><td style=\"text-align: right;\">           0.283974 </td><td style=\"text-align: right;\">        0.0641875 </td><td style=\"text-align: right;\">     0.283974 </td><td style=\"text-align: right;\"> 1674499031</td><td style=\"text-align: right;\">                        0</td><td>                 </td><td style=\"text-align: right;\">                   3</td><td>ef3ea_00015</td><td style=\"text-align: right;\">   0.00351071</td></tr>\n",
       "<tr><td>objective_function_asah_ef3ea_00016</td><td>2023-01-23_19-37-08</td><td>True  </td><td>                </td><td>e78dc8d8c24a4a5b85b89554fa3513db</td><td>raphael-20ujs00k00</td><td style=\"text-align: right;\">                         3</td><td style=\"text-align: right;\">0.436785 </td><td>192.168.188.20</td><td style=\"text-align: right;\">195811</td><td style=\"text-align: right;\">           0.385041 </td><td style=\"text-align: right;\">        0.00716853</td><td style=\"text-align: right;\">     0.385041 </td><td style=\"text-align: right;\"> 1674499028</td><td style=\"text-align: right;\">                        0</td><td>                 </td><td style=\"text-align: right;\">                   3</td><td>ef3ea_00016</td><td style=\"text-align: right;\">   0.00333285</td></tr>\n",
       "<tr><td>objective_function_asah_ef3ea_00017</td><td>2023-01-23_19-37-08</td><td>True  </td><td>                </td><td>e78dc8d8c24a4a5b85b89554fa3513db</td><td>raphael-20ujs00k00</td><td style=\"text-align: right;\">                         3</td><td style=\"text-align: right;\">0.152266 </td><td>192.168.188.20</td><td style=\"text-align: right;\">195811</td><td style=\"text-align: right;\">           0.068548 </td><td style=\"text-align: right;\">        0.00577974</td><td style=\"text-align: right;\">     0.068548 </td><td style=\"text-align: right;\"> 1674499028</td><td style=\"text-align: right;\">                        0</td><td>                 </td><td style=\"text-align: right;\">                   3</td><td>ef3ea_00017</td><td style=\"text-align: right;\">   0.00333285</td></tr>\n",
       "<tr><td>objective_function_asah_ef3ea_00018</td><td>2023-01-23_19-37-08</td><td>True  </td><td>                </td><td>e78dc8d8c24a4a5b85b89554fa3513db</td><td>raphael-20ujs00k00</td><td style=\"text-align: right;\">                         3</td><td style=\"text-align: right;\">0.0988134</td><td>192.168.188.20</td><td style=\"text-align: right;\">195811</td><td style=\"text-align: right;\">           0.470214 </td><td style=\"text-align: right;\">        0.0456309 </td><td style=\"text-align: right;\">     0.470214 </td><td style=\"text-align: right;\"> 1674499028</td><td style=\"text-align: right;\">                        0</td><td>                 </td><td style=\"text-align: right;\">                   3</td><td>ef3ea_00018</td><td style=\"text-align: right;\">   0.00333285</td></tr>\n",
       "<tr><td>objective_function_asah_ef3ea_00019</td><td>2023-01-23_19-37-09</td><td>True  </td><td>                </td><td>e78dc8d8c24a4a5b85b89554fa3513db</td><td>raphael-20ujs00k00</td><td style=\"text-align: right;\">                         3</td><td style=\"text-align: right;\">0.124283 </td><td>192.168.188.20</td><td style=\"text-align: right;\">195811</td><td style=\"text-align: right;\">           0.2031   </td><td style=\"text-align: right;\">        0.0836673 </td><td style=\"text-align: right;\">     0.2031   </td><td style=\"text-align: right;\"> 1674499029</td><td style=\"text-align: right;\">                        0</td><td>                 </td><td style=\"text-align: right;\">                   3</td><td>ef3ea_00019</td><td style=\"text-align: right;\">   0.00333285</td></tr>\n",
       "</tbody>\n",
       "</table>\n",
       "</div>\n",
       "<style>\n",
       ".trialProgress {\n",
       "  display: flex;\n",
       "  flex-direction: column;\n",
       "  color: var(--jp-ui-font-color1);\n",
       "}\n",
       ".trialProgress h3 {\n",
       "  font-weight: bold;\n",
       "}\n",
       ".trialProgress td {\n",
       "  white-space: nowrap;\n",
       "}\n",
       "</style>\n"
      ],
      "text/plain": [
       "<IPython.core.display.HTML object>"
      ]
     },
     "metadata": {},
     "output_type": "display_data"
    },
    {
     "name": "stderr",
     "output_type": "stream",
     "text": [
      "2023-01-23 19:37:11,649\tINFO tune.py:762 -- Total run time: 6.45 seconds (6.19 seconds for the tuning loop).\n"
     ]
    }
   ],
   "source": [
    "def objective_function_asah(config):\n",
    "  a = config[\"a\"]\n",
    "  b = config[\"b\"]\n",
    "\n",
    "  for i in range(10):\n",
    "    a = a*b\n",
    "    session.report({\"metric\": a})\n",
    "\n",
    "scheduler = tune.schedulers.ASHAScheduler(\n",
    "    max_t = 10,\n",
    "    time_attr = \"training_iteration\",\n",
    "    grace_period = 3\n",
    ")\n",
    "\n",
    "param_space = {\n",
    "    \"a\": tune.uniform(0.5,1),\n",
    "    \"b\": tune.uniform(0.5,1)\n",
    "}\n",
    "\n",
    "tuner = tune.Tuner(\n",
    "    objective_function_asah,\n",
    "    param_space = param_space,\n",
    "    tune_config = tune.TuneConfig(\n",
    "        num_samples = 20,\n",
    "        metric=\"metric\",\n",
    "        mode=\"max\",\n",
    "        scheduler = scheduler,\n",
    "        )\n",
    "    )\n",
    "\n",
    "results_asah = tuner.fit()"
   ]
  },
  {
   "cell_type": "code",
   "execution_count": 18,
   "metadata": {},
   "outputs": [
    {
     "name": "stdout",
     "output_type": "stream",
     "text": [
      "{'a': 0.9102884758195191, 'b': 0.9966835627687286}\n"
     ]
    },
    {
     "data": {
      "text/plain": [
       "Text(0, 0.5, 'Mean accuracy')"
      ]
     },
     "execution_count": 18,
     "metadata": {},
     "output_type": "execute_result"
    },
    {
     "data": {
      "image/png": "[encoded data removed]",
      "text/plain": [
       "<Figure size 432x288 with 1 Axes>"
      ]
     },
     "metadata": {
      "needs_background": "light"
     },
     "output_type": "display_data"
    }
   ],
   "source": [
    "print(results_asah.get_best_result().config)\n",
    "\n",
    "ax = None\n",
    "dfs = {result.log_dir: result.metrics_dataframe for result in results_asah}\n",
    "for d in dfs.values():\n",
    "    ax = d.plot(ax=ax, y=\"metric\", legend=False)\n",
    "ax.set_xlabel(\"Epochs\")\n",
    "ax.set_ylabel(\"Mean accuracy\")"
   ]
  }
 ],
 "metadata": {
  "kernelspec": {
   "display_name": "Ray_Tune",
   "language": "python",
   "name": "python3"
  },
  "language_info": {
   "codemirror_mode": {
    "name": "ipython",
    "version": 3
   },
   "file_extension": ".py",
   "mimetype": "text/x-python",
   "name": "python",
   "nbconvert_exporter": "python",
   "pygments_lexer": "ipython3",
   "version": "3.10.8"
  },
  "orig_nbformat": 4,
  "vscode": {
   "interpreter": {
    "hash": "12b5708e47bcce2ed9c7c0871afac25011cce35a7f95a435508fd0065dc55843"
   }
  }
 },
 "nbformat": 4,
 "nbformat_minor": 2
}
