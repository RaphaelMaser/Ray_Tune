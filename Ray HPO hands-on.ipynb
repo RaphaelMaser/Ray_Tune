{
 "cells": [
  {
   "cell_type": "code",
   "execution_count": null,
   "metadata": {},
   "outputs": [],
   "source": [
    "%%capture\n",
    "%pip install ray\n",
    "%pip install tensorboardx\n",
    "%pip install matplotlib"
   ]
  },
  {
   "cell_type": "code",
   "execution_count": null,
   "metadata": {},
   "outputs": [],
   "source": [
    "import ray\n",
    "from ray import air, tune\n",
    "from ray.air import session"
   ]
  },
  {
   "attachments": {},
   "cell_type": "markdown",
   "metadata": {},
   "source": [
    "# HPO with Ray Tune"
   ]
  },
  {
   "attachments": {},
   "cell_type": "markdown",
   "metadata": {},
   "source": [
    "The task in this notebook is to use Ray Tune to optimize the hyperparameters, namely \"a\" and \"b\", of the function \"objective_function\"."
   ]
  },
  {
   "cell_type": "code",
   "execution_count": null,
   "metadata": {},
   "outputs": [],
   "source": [
    "def objective_function(a, b):\n",
    "  for i in range(10):\n",
    "    a = a*b"
   ]
  },
  {
   "attachments": {},
   "cell_type": "markdown",
   "metadata": {},
   "source": [
    "## Random Search"
   ]
  },
  {
   "attachments": {},
   "cell_type": "markdown",
   "metadata": {},
   "source": [
    "Try to use Ray Tune with the random hyperparameter search. For that purpose you need to modify the function so that it is compatible with Ray Tune, e.g. change the input argument (needs to take a dictionary as input) and report the training progress to Ray. Furthermore you need to define a tuner and run it. If the return value is named \"results\" the training results can be displayed in the following cell.\n",
    "\n",
    "Hint: Ray automatically uses random search if you do not specify any search algorithm"
   ]
  },
  {
   "cell_type": "code",
   "execution_count": null,
   "metadata": {},
   "outputs": [],
   "source": [
    "def objective_function(config):\n",
    "  # todo\n",
    "  pass\n",
    "\n",
    "param_space = {\n",
    "    \"a\": tune.uniform(0.5,1),\n",
    "    \"b\": tune.uniform(0.5,1)\n",
    "}"
   ]
  },
  {
   "cell_type": "code",
   "execution_count": null,
   "metadata": {},
   "outputs": [],
   "source": [
    "print(results.get_best_result().config)\n",
    "\n",
    "ax = None\n",
    "dfs = {result.log_dir: result.metrics_dataframe for result in results}\n",
    "for d in dfs.values():\n",
    "    ax = d.plot(ax=ax, y=\"metric\", legend=False)\n",
    "ax.set_xlabel(\"Epochs\")\n",
    "ax.set_ylabel(\"Mean accuracy\")"
   ]
  },
  {
   "attachments": {},
   "cell_type": "markdown",
   "metadata": {},
   "source": [
    "## Random Search with ASAH"
   ]
  },
  {
   "attachments": {},
   "cell_type": "markdown",
   "metadata": {},
   "source": [
    "This time add the ASAH scheduler to the random search."
   ]
  },
  {
   "cell_type": "code",
   "execution_count": null,
   "metadata": {},
   "outputs": [],
   "source": [
    "def objective_function_asah(config):\n",
    "  # todo\n",
    "  pass\n",
    "\n",
    "param_space = {\n",
    "    \"a\": tune.uniform(0.5,1),\n",
    "    \"b\": tune.uniform(0.5,1)\n",
    "}"
   ]
  },
  {
   "cell_type": "code",
   "execution_count": null,
   "metadata": {},
   "outputs": [],
   "source": [
    "print(results_asah.get_best_result().config)\n",
    "\n",
    "ax = None\n",
    "dfs = {result.log_dir: result.metrics_dataframe for result in results_asah}\n",
    "for d in dfs.values():\n",
    "    ax = d.plot(ax=ax, y=\"metric\", legend=False)\n",
    "ax.set_xlabel(\"Epochs\")\n",
    "ax.set_ylabel(\"Mean accuracy\")"
   ]
  }
 ],
 "metadata": {
  "kernelspec": {
   "display_name": "Ray_Tune",
   "language": "python",
   "name": "python3"
  },
  "language_info": {
   "codemirror_mode": {
    "name": "ipython",
    "version": 3
   },
   "file_extension": ".py",
   "mimetype": "text/x-python",
   "name": "python",
   "nbconvert_exporter": "python",
   "pygments_lexer": "ipython3",
   "version": "3.10.8 (main, Nov 24 2022, 14:13:03) [GCC 11.2.0]"
  },
  "orig_nbformat": 4,
  "vscode": {
   "interpreter": {
    "hash": "12b5708e47bcce2ed9c7c0871afac25011cce35a7f95a435508fd0065dc55843"
   }
  }
 },
 "nbformat": 4,
 "nbformat_minor": 2
}
