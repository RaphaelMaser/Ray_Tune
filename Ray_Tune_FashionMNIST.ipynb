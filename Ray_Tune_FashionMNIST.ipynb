{
 "cells": [
  {
   "attachments": {},
   "cell_type": "markdown",
   "metadata": {},
   "source": [
    "<a target=\"_blank\" href=\"https://colab.research.google.com/github/RaphaelMaser/Ray_Tune/blob/main/Ray_Tune_FashionMNIST.ipynb\">\n",
    "  <img src=\"https://colab.research.google.com/assets/colab-badge.svg\" alt=\"Open In Colab\"/>\n",
    "</a>"
   ]
  },
  {
   "attachments": {},
   "cell_type": "markdown",
   "metadata": {},
   "source": [
    "## Defining a simple Neural Network for the FashionMNIST Dataset in PyTorch"
   ]
  },
  {
   "attachments": {},
   "cell_type": "markdown",
   "metadata": {},
   "source": [
    "Here the usage of HPO using Ray Tune is demonstrated on the FashionMNIST dataset with a simple NN. First we need to install the required dependencies and import all required classes."
   ]
  },
  {
   "cell_type": "code",
   "execution_count": 1,
   "metadata": {
    "collapsed": true
   },
   "outputs": [],
   "source": [
    "%%capture\n",
    "%pip install -q ray[tune]==2.2.0\n",
    "%pip install -q torch==1.13.1 torchvision==0.14.1\n",
    "%pip install -q matplotlib==3.6.3"
   ]
  },
  {
   "cell_type": "code",
   "execution_count": 2,
   "metadata": {
    "collapsed": false
   },
   "outputs": [],
   "source": [
    "import torch\n",
    "from torch import nn\n",
    "from torch.utils.data import DataLoader\n",
    "from torchvision import datasets\n",
    "from torchvision.transforms import ToTensor\n",
    "from torchvision.datasets import FashionMNIST\n",
    "from torch.utils.data import random_split\n",
    "from matplotlib import pyplot as plt\n",
    "\n",
    "from ray import tune, air\n",
    "from ray.air import session\n",
    "import ray\n",
    "import os\n",
    "from ray.tune.schedulers import ASHAScheduler\n",
    "from ray.air import Checkpoint\n",
    "from ray.tune.schedulers import PopulationBasedTraining"
   ]
  },
  {
   "attachments": {},
   "cell_type": "markdown",
   "metadata": {},
   "source": [
    "Afterwards we need to download the FashionMNIST dataset and create a PyTorch dataset from that. Luckily PyTorch can automatically download the dataset if it is not found in the directory. Afterwards we create two dataloaders, one for training and one for validation. In this example we split the official train set from FashionMNIST in a two parts for that purpose. The validation set will be used to search for good hyperparameter combinations and validate the model during training. The test dataset from FashionMNIST could be used afterwards to compare the network with the standard parameters and the models optimized with HPO. "
   ]
  },
  {
   "cell_type": "code",
   "execution_count": 3,
   "metadata": {
    "collapsed": false
   },
   "outputs": [],
   "source": [
    "%%capture\n",
    "# Download training data from open datasets.\n",
    "data = datasets.FashionMNIST(\n",
    "    root=\"data\",\n",
    "    train=True,\n",
    "    download=True,\n",
    "    transform=ToTensor(),\n",
    ")\n",
    "\n",
    "batch_size = 256\n",
    "\n",
    "# Split the train set and create data loaders\n",
    "train_data, val_data = random_split(data, [0.8,0.2])\n",
    "train_dataloader = DataLoader(train_data, batch_size=batch_size, shuffle=True)\n",
    "val_dataloader = DataLoader(val_data, batch_size=batch_size)"
   ]
  },
  {
   "attachments": {},
   "cell_type": "markdown",
   "metadata": {},
   "source": [
    "The model used for the demonstration is a very simple fully connected network with 3 layers."
   ]
  },
  {
   "cell_type": "code",
   "execution_count": 4,
   "metadata": {},
   "outputs": [],
   "source": [
    "# Define model\n",
    "class NeuralNetwork(nn.Module):\n",
    "    def __init__(self):\n",
    "        super().__init__()\n",
    "        self.flatten = nn.Flatten()\n",
    "        self.linear_relu_stack = nn.Sequential(\n",
    "            nn.Linear(28*28, 256),\n",
    "            nn.ReLU(),\n",
    "            nn.Linear(256, 128),\n",
    "            nn.ReLU(),\n",
    "            nn.Linear(128, 10),\n",
    "        )\n",
    "\n",
    "    def forward(self, x):\n",
    "        x = self.flatten(x)\n",
    "        logits = self.linear_relu_stack(x)\n",
    "        return logits"
   ]
  },
  {
   "attachments": {},
   "cell_type": "markdown",
   "metadata": {},
   "source": [
    "We use a standard PyTorch training routine for the model. It would also be possible to use PyTorch Ignite or Lightning to avoid boilerplate code or use even other machine learning frameworks like Tensorflow or Keras."
   ]
  },
  {
   "cell_type": "code",
   "execution_count": 5,
   "metadata": {},
   "outputs": [],
   "source": [
    "# Standard PyTorch training routine\n",
    "def train_epoch(dataloader, model, loss_fn, optimizer, device):\n",
    "    size = len(dataloader.dataset)\n",
    "    model.train()\n",
    "    for batch, (X, y) in enumerate(dataloader):\n",
    "        X, y = X.to(device), y.to(device)\n",
    "\n",
    "        # Compute prediction error\n",
    "        pred = model(X)\n",
    "        loss = loss_fn(pred, y)\n",
    "\n",
    "        # Backpropagation\n",
    "        optimizer.zero_grad()\n",
    "        loss.backward()\n",
    "        optimizer.step()\n",
    "\n",
    "def test(dataloader, model, loss_fn, device):\n",
    "    size = len(dataloader.dataset)\n",
    "    num_batches = len(dataloader)\n",
    "    model.eval()\n",
    "    test_loss, correct = 0, 0\n",
    "\n",
    "    with torch.no_grad():\n",
    "        for X, y in dataloader:\n",
    "            X, y = X.to(device), y.to(device)\n",
    "            pred = model(X)\n",
    "            test_loss += loss_fn(pred, y).item()\n",
    "            correct += (pred.argmax(1) == y).type(torch.float).sum().item()\n",
    "            \n",
    "    test_loss /= num_batches\n",
    "    correct /= size\n",
    "\n",
    "    print(f\"Test Error: \\n Accuracy: {(100*correct):>0.1f}%, Avg loss: {test_loss:>8f} \\n\")\n",
    "    return correct*100\n"
   ]
  },
  {
   "attachments": {},
   "cell_type": "markdown",
   "metadata": {},
   "source": [
    "The train() function iterates through the epochs and executes the train_epoch() function in every step. Furthermore it uses the test() function to test the model with the data in val_dataloader and show the current accuracy. For the training we use SGD with a learning rate of 1e-4 and a weight decay of 1e-5."
   ]
  },
  {
   "cell_type": "code",
   "execution_count": 6,
   "metadata": {},
   "outputs": [
    {
     "name": "stdout",
     "output_type": "stream",
     "text": [
      "Epoch 1\n",
      "-------------------------------\n",
      "Test Error: \n",
      " Accuracy: 29.6%, Avg loss: 2.273686 \n",
      "\n",
      "Epoch 2\n",
      "-------------------------------\n",
      "Test Error: \n",
      " Accuracy: 32.9%, Avg loss: 2.251013 \n",
      "\n",
      "Epoch 3\n",
      "-------------------------------\n",
      "Test Error: \n",
      " Accuracy: 39.5%, Avg loss: 2.226982 \n",
      "\n",
      "Epoch 4\n",
      "-------------------------------\n",
      "Test Error: \n",
      " Accuracy: 42.8%, Avg loss: 2.199698 \n",
      "\n",
      "Epoch 5\n",
      "-------------------------------\n",
      "Test Error: \n",
      " Accuracy: 43.6%, Avg loss: 2.168652 \n",
      "\n",
      "Epoch 6\n",
      "-------------------------------\n",
      "Test Error: \n",
      " Accuracy: 43.1%, Avg loss: 2.133136 \n",
      "\n",
      "Epoch 7\n",
      "-------------------------------\n",
      "Test Error: \n",
      " Accuracy: 42.6%, Avg loss: 2.092382 \n",
      "\n",
      "Epoch 8\n",
      "-------------------------------\n",
      "Test Error: \n",
      " Accuracy: 42.0%, Avg loss: 2.045984 \n",
      "\n",
      "Epoch 9\n",
      "-------------------------------\n",
      "Test Error: \n",
      " Accuracy: 41.6%, Avg loss: 1.994010 \n",
      "\n",
      "Epoch 10\n",
      "-------------------------------\n",
      "Test Error: \n",
      " Accuracy: 43.5%, Avg loss: 1.936728 \n",
      "\n"
     ]
    }
   ],
   "source": [
    "# Small function which iterates through the epochs\n",
    "def train(epochs):\n",
    "    device = \"cuda\" if torch.cuda.is_available() else \"cpu\"\n",
    "    model = NeuralNetwork().to(device)\n",
    "\n",
    "    loss_fn = nn.CrossEntropyLoss()\n",
    "    optimizer = torch.optim.SGD(model.parameters(), lr=1e-03, weight_decay=1e-05)\n",
    "\n",
    "    for t in range(epochs):\n",
    "        print(f\"Epoch {t+1}\\n-------------------------------\")\n",
    "        train_epoch(train_dataloader, model, loss_fn, optimizer, device)\n",
    "        test(val_dataloader, model, loss_fn, device)\n",
    "\n",
    "# Start the training\n",
    "train(10)"
   ]
  },
  {
   "attachments": {},
   "cell_type": "markdown",
   "metadata": {},
   "source": [
    "## Hyperparameter optimization (Random Search)"
   ]
  },
  {
   "attachments": {},
   "cell_type": "markdown",
   "metadata": {},
   "source": [
    "Now we are going to use Ray to do a small random hyperparameter search. \n",
    "\n",
    "The following line is not mandatory, normally Ray initializes itself if it was not initialized before, but in this case I want to set the log_to_driver argument to \"False\" to suppress the output of the trials. Otherwise the output of the different trails will be mixed in no special order because of the concurrent execution."
   ]
  },
  {
   "cell_type": "code",
   "execution_count": 7,
   "metadata": {},
   "outputs": [
    {
     "name": "stderr",
     "output_type": "stream",
     "text": [
      "2023-01-24 18:11:21,240\tINFO worker.py:1538 -- Started a local Ray instance.\n"
     ]
    },
    {
     "data": {
      "text/html": [
       "<div>\n",
       "    <div style=\"margin-left: 50px;display: flex;flex-direction: row;align-items: center\">\n",
       "        <h3 style=\"color: var(--jp-ui-font-color0)\">Ray</h3>\n",
       "        <svg version=\"1.1\" id=\"ray\" width=\"3em\" viewBox=\"0 0 144.5 144.6\" style=\"margin-left: 3em;margin-right: 3em\">\n",
       "            <g id=\"layer-1\">\n",
       "                <path fill=\"#00a2e9\" class=\"st0\" d=\"M97.3,77.2c-3.8-1.1-6.2,0.9-8.3,5.1c-3.5,6.8-9.9,9.9-17.4,9.6S58,88.1,54.8,81.2c-1.4-3-3-4-6.3-4.1\n",
       "                    c-5.6-0.1-9.9,0.1-13.1,6.4c-3.8,7.6-13.6,10.2-21.8,7.6C5.2,88.4-0.4,80.5,0,71.7c0.1-8.4,5.7-15.8,13.8-18.2\n",
       "                    c8.4-2.6,17.5,0.7,22.3,8c1.3,1.9,1.3,5.2,3.6,5.6c3.9,0.6,8,0.2,12,0.2c1.8,0,1.9-1.6,2.4-2.8c3.5-7.8,9.7-11.8,18-11.9\n",
       "                    c8.2-0.1,14.4,3.9,17.8,11.4c1.3,2.8,2.9,3.6,5.7,3.3c1-0.1,2,0.1,3,0c2.8-0.5,6.4,1.7,8.1-2.7s-2.3-5.5-4.1-7.5\n",
       "                    c-5.1-5.7-10.9-10.8-16.1-16.3C84,38,81.9,37.1,78,38.3C66.7,42,56.2,35.7,53,24.1C50.3,14,57.3,2.8,67.7,0.5\n",
       "                    C78.4-2,89,4.7,91.5,15.3c0.1,0.3,0.1,0.5,0.2,0.8c0.7,3.4,0.7,6.9-0.8,9.8c-1.7,3.2-0.8,5,1.5,7.2c6.7,6.5,13.3,13,19.8,19.7\n",
       "                    c1.8,1.8,3,2.1,5.5,1.2c9.1-3.4,17.9-0.6,23.4,7c4.8,6.9,4.6,16.1-0.4,22.9c-5.4,7.2-14.2,9.9-23.1,6.5c-2.3-0.9-3.5-0.6-5.1,1.1\n",
       "                    c-6.7,6.9-13.6,13.7-20.5,20.4c-1.8,1.8-2.5,3.2-1.4,5.9c3.5,8.7,0.3,18.6-7.7,23.6c-7.9,5-18.2,3.8-24.8-2.9\n",
       "                    c-6.4-6.4-7.4-16.2-2.5-24.3c4.9-7.8,14.5-11,23.1-7.8c3,1.1,4.7,0.5,6.9-1.7C91.7,98.4,98,92.3,104.2,86c1.6-1.6,4.1-2.7,2.6-6.2\n",
       "                    c-1.4-3.3-3.8-2.5-6.2-2.6C99.8,77.2,98.9,77.2,97.3,77.2z M72.1,29.7c5.5,0.1,9.9-4.3,10-9.8c0-0.1,0-0.2,0-0.3\n",
       "                    C81.8,14,77,9.8,71.5,10.2c-5,0.3-9,4.2-9.3,9.2c-0.2,5.5,4,10.1,9.5,10.3C71.8,29.7,72,29.7,72.1,29.7z M72.3,62.3\n",
       "                    c-5.4-0.1-9.9,4.2-10.1,9.7c0,0.2,0,0.3,0,0.5c0.2,5.4,4.5,9.7,9.9,10c5.1,0.1,9.9-4.7,10.1-9.8c0.2-5.5-4-10-9.5-10.3\n",
       "                    C72.6,62.3,72.4,62.3,72.3,62.3z M115,72.5c0.1,5.4,4.5,9.7,9.8,9.9c5.6-0.2,10-4.8,10-10.4c-0.2-5.4-4.6-9.7-10-9.7\n",
       "                    c-5.3-0.1-9.8,4.2-9.9,9.5C115,72.1,115,72.3,115,72.5z M19.5,62.3c-5.4,0.1-9.8,4.4-10,9.8c-0.1,5.1,5.2,10.4,10.2,10.3\n",
       "                    c5.6-0.2,10-4.9,9.8-10.5c-0.1-5.4-4.5-9.7-9.9-9.6C19.6,62.3,19.5,62.3,19.5,62.3z M71.8,134.6c5.9,0.2,10.3-3.9,10.4-9.6\n",
       "                    c0.5-5.5-3.6-10.4-9.1-10.8c-5.5-0.5-10.4,3.6-10.8,9.1c0,0.5,0,0.9,0,1.4c-0.2,5.3,4,9.8,9.3,10\n",
       "                    C71.6,134.6,71.7,134.6,71.8,134.6z\"/>\n",
       "            </g>\n",
       "        </svg>\n",
       "        <table>\n",
       "            <tr>\n",
       "                <td style=\"text-align: left\"><b>Python version:</b></td>\n",
       "                <td style=\"text-align: left\"><b>3.10.8</b></td>\n",
       "            </tr>\n",
       "            <tr>\n",
       "                <td style=\"text-align: left\"><b>Ray version:</b></td>\n",
       "                <td style=\"text-align: left\"><b> 2.2.0</b></td>\n",
       "            </tr>\n",
       "            \n",
       "        </table>\n",
       "    </div>\n",
       "</div>\n"
      ],
      "text/plain": [
       "RayContext(dashboard_url='', python_version='3.10.8', ray_version='2.2.0', ray_commit='b6af0887ee5f2e460202133791ad941a41f15beb', address_info={'node_ip_address': '192.168.188.20', 'raylet_ip_address': '192.168.188.20', 'redis_address': None, 'object_store_address': '/tmp/ray/session_2023-01-24_18-11-19_522053_338441/sockets/plasma_store', 'raylet_socket_name': '/tmp/ray/session_2023-01-24_18-11-19_522053_338441/sockets/raylet', 'webui_url': '', 'session_dir': '/tmp/ray/session_2023-01-24_18-11-19_522053_338441', 'metrics_export_port': 47308, 'gcs_address': '192.168.188.20:43707', 'address': '192.168.188.20:43707', 'dashboard_agent_listen_port': 52365, 'node_id': 'caf6dde5742ef21fa4a666734662a0d37c2388dfae398c408bcdadf4'})"
      ]
     },
     "execution_count": 7,
     "metadata": {},
     "output_type": "execute_result"
    }
   ],
   "source": [
    "ray.init(log_to_driver=False, ignore_reinit_error=True)"
   ]
  },
  {
   "attachments": {},
   "cell_type": "markdown",
   "metadata": {},
   "source": [
    "If we want to use Ray Tune we need to slightly change the definition of the train() function. Since Ray does not have any knowledge about the progress of the trial we need to report the training progress to Tune. For that purpose we can use the session.report() function. Furthermore the train function needs to accept a dictionary as input which contains the chosen hyperparameters. "
   ]
  },
  {
   "cell_type": "code",
   "execution_count": 8,
   "metadata": {},
   "outputs": [],
   "source": [
    "def train_tune(config):\n",
    "    epochs = config[\"epochs\"]\n",
    "    lr = config[\"lr\"]\n",
    "    weight_decay = config[\"weight_decay\"]\n",
    "\n",
    "    device = \"cuda\" if torch.cuda.is_available() else \"cpu\"\n",
    "    model = NeuralNetwork().to(device)\n",
    "\n",
    "    loss_fn = nn.CrossEntropyLoss()\n",
    "    optimizer = torch.optim.SGD(model.parameters(), lr=lr, weight_decay=weight_decay)\n",
    "\n",
    "    for t in range(epochs):\n",
    "        print(f\"Epoch {t+1}\\n-------------------------------\")\n",
    "        train_epoch(train_dataloader, model, loss_fn, optimizer, device)\n",
    "        accuracy = test(val_dataloader, model, loss_fn, device)\n",
    "        session.report(metrics={\"mean_accuracy\": accuracy, \"epoch\": t + 1})"
   ]
  },
  {
   "attachments": {},
   "cell_type": "markdown",
   "metadata": {},
   "source": [
    "Now that we have a compatible function for training We are almost ready to create a tuner. A tuner is used in Ray to construct and execute an HPO search. \n",
    "\n",
    "Before we define the resources which are vailable for each trial. In the standard configuration Ray assigns 1 cpu core to each trial. In our case we will assign 2 cpu cores and 1 gpu core for the trial if available. Otherwise only the cpu cores will be used. On my machine with 16 threads available this will lead to 8 concurrent trails. With tune.with_ressources() we take the train_tune() function and create a new function which respects the resource assignments.\n",
    "\n",
    "Afterwards we need to define the search space of the parameters. We are going to do HPO for the parameters \"learning rate\" and \"weight decay\". The variable \"epochs\" is also defined in the config dictionary but it is a fixed value and will therefore not be altered by Ray. The other two are defined as distributions and therefore the algorithm will sample combinations from these distributions.\n",
    "\n",
    "Now that we have defined the resources each trial can use and the search space (parameter space) which should be exploited we can define the tuner. The tuner takes the trainable function, the parameter space and a TuneConfig. TuneConfig defines how the HPO should be executed, e.g. which metric to optimize for (and whether it should be minimized or maximized) and the number of samples.\n",
    "\n",
    "Now we can start the HPO. Ray will show in real time the state of the trials and usage of resources."
   ]
  },
  {
   "cell_type": "code",
   "execution_count": 9,
   "metadata": {},
   "outputs": [
    {
     "data": {
      "text/html": [
       "<div class=\"tuneStatus\">\n",
       "  <div style=\"display: flex;flex-direction: row\">\n",
       "    <div style=\"display: flex;flex-direction: column;\">\n",
       "      <h3>Tune Status</h3>\n",
       "      <table>\n",
       "<tbody>\n",
       "<tr><td>Current time:</td><td>2023-01-24 18:12:48</td></tr>\n",
       "<tr><td>Running for: </td><td>00:01:25.13        </td></tr>\n",
       "<tr><td>Memory:      </td><td>16.2/30.6 GiB      </td></tr>\n",
       "</tbody>\n",
       "</table>\n",
       "    </div>\n",
       "    <div class=\"vDivider\"></div>\n",
       "    <div class=\"systemInfo\">\n",
       "      <h3>System Info</h3>\n",
       "      Using FIFO scheduling algorithm.<br>Resources requested: 0/16 CPUs, 0/0 GPUs, 0.0/10.2 GiB heap, 0.0/5.1 GiB objects\n",
       "    </div>\n",
       "    \n",
       "  </div>\n",
       "  <div class=\"hDivider\"></div>\n",
       "  <div class=\"trialStatus\">\n",
       "    <h3>Trial Status</h3>\n",
       "    <table>\n",
       "<thead>\n",
       "<tr><th>Trial name            </th><th>status    </th><th>loc                  </th><th style=\"text-align: right;\">        lr</th><th style=\"text-align: right;\">  weight_decay</th><th style=\"text-align: right;\">    acc</th><th style=\"text-align: right;\">  iter</th><th style=\"text-align: right;\">  total time (s)</th><th style=\"text-align: right;\">  epoch</th></tr>\n",
       "</thead>\n",
       "<tbody>\n",
       "<tr><td>train_tune_20ea4_00000</td><td>TERMINATED</td><td>192.168.188.20:351843</td><td style=\"text-align: right;\">0.0589585 </td><td style=\"text-align: right;\">   0.00683362 </td><td style=\"text-align: right;\">81.7667</td><td style=\"text-align: right;\">    10</td><td style=\"text-align: right;\">         76.9648</td><td style=\"text-align: right;\">     10</td></tr>\n",
       "<tr><td>train_tune_20ea4_00001</td><td>TERMINATED</td><td>192.168.188.20:351925</td><td style=\"text-align: right;\">0.0315334 </td><td style=\"text-align: right;\">   0.00711646 </td><td style=\"text-align: right;\">81.975 </td><td style=\"text-align: right;\">    10</td><td style=\"text-align: right;\">         76.5753</td><td style=\"text-align: right;\">     10</td></tr>\n",
       "<tr><td>train_tune_20ea4_00002</td><td>TERMINATED</td><td>192.168.188.20:351944</td><td style=\"text-align: right;\">0.00298081</td><td style=\"text-align: right;\">   0.000545656</td><td style=\"text-align: right;\">64.3417</td><td style=\"text-align: right;\">    10</td><td style=\"text-align: right;\">         75.5508</td><td style=\"text-align: right;\">     10</td></tr>\n",
       "<tr><td>train_tune_20ea4_00003</td><td>TERMINATED</td><td>192.168.188.20:351978</td><td style=\"text-align: right;\">0.0861906 </td><td style=\"text-align: right;\">   0.00502287 </td><td style=\"text-align: right;\">82.4   </td><td style=\"text-align: right;\">    10</td><td style=\"text-align: right;\">         75.6153</td><td style=\"text-align: right;\">     10</td></tr>\n",
       "</tbody>\n",
       "</table>\n",
       "  </div>\n",
       "</div>\n",
       "<style>\n",
       ".tuneStatus {\n",
       "  color: var(--jp-ui-font-color1);\n",
       "}\n",
       ".tuneStatus .systemInfo {\n",
       "  display: flex;\n",
       "  flex-direction: column;\n",
       "}\n",
       ".tuneStatus td {\n",
       "  white-space: nowrap;\n",
       "}\n",
       ".tuneStatus .trialStatus {\n",
       "  display: flex;\n",
       "  flex-direction: column;\n",
       "}\n",
       ".tuneStatus h3 {\n",
       "  font-weight: bold;\n",
       "}\n",
       ".tuneStatus .hDivider {\n",
       "  border-bottom-width: var(--jp-border-width);\n",
       "  border-bottom-color: var(--jp-border-color0);\n",
       "  border-bottom-style: solid;\n",
       "}\n",
       ".tuneStatus .vDivider {\n",
       "  border-left-width: var(--jp-border-width);\n",
       "  border-left-color: var(--jp-border-color0);\n",
       "  border-left-style: solid;\n",
       "  margin: 0.5em 1em 0.5em 1em;\n",
       "}\n",
       "</style>\n"
      ],
      "text/plain": [
       "<IPython.core.display.HTML object>"
      ]
     },
     "metadata": {},
     "output_type": "display_data"
    },
    {
     "name": "stderr",
     "output_type": "stream",
     "text": [
      "2023-01-24 18:11:25,916\tWARNING worker.py:1851 -- Warning: The actor ImplicitFunc is very large (45 MiB). Check that its definition is not implicitly capturing a large array or other object in scope. Tip: use ray.put() to put large objects in the Ray object store.\n"
     ]
    },
    {
     "data": {
      "text/html": [
       "<div class=\"trialProgress\">\n",
       "  <h3>Trial Progress</h3>\n",
       "  <table>\n",
       "<thead>\n",
       "<tr><th>Trial name            </th><th>date               </th><th>done  </th><th>episodes_total  </th><th style=\"text-align: right;\">  epoch</th><th>experiment_id                   </th><th>experiment_tag                 </th><th>hostname          </th><th style=\"text-align: right;\">  iterations_since_restore</th><th style=\"text-align: right;\">  mean_accuracy</th><th>node_ip       </th><th style=\"text-align: right;\">   pid</th><th style=\"text-align: right;\">  time_since_restore</th><th style=\"text-align: right;\">  time_this_iter_s</th><th style=\"text-align: right;\">  time_total_s</th><th style=\"text-align: right;\">  timestamp</th><th style=\"text-align: right;\">  timesteps_since_restore</th><th>timesteps_total  </th><th style=\"text-align: right;\">  training_iteration</th><th>trial_id   </th><th style=\"text-align: right;\">  warmup_time</th></tr>\n",
       "</thead>\n",
       "<tbody>\n",
       "<tr><td>train_tune_20ea4_00000</td><td>2023-01-24_18-12-45</td><td>True  </td><td>                </td><td style=\"text-align: right;\">     10</td><td>502d8955d4da4b35820989bd4c4cf180</td><td>0_lr=0.0590,weight_decay=0.0068</td><td>raphael-20ujs00k00</td><td style=\"text-align: right;\">                        10</td><td style=\"text-align: right;\">        81.7667</td><td>192.168.188.20</td><td style=\"text-align: right;\">351843</td><td style=\"text-align: right;\">             76.9648</td><td style=\"text-align: right;\">           7.83608</td><td style=\"text-align: right;\">       76.9648</td><td style=\"text-align: right;\"> 1674580365</td><td style=\"text-align: right;\">                        0</td><td>                 </td><td style=\"text-align: right;\">                  10</td><td>20ea4_00000</td><td style=\"text-align: right;\">   0.00356746</td></tr>\n",
       "<tr><td>train_tune_20ea4_00001</td><td>2023-01-24_18-12-48</td><td>True  </td><td>                </td><td style=\"text-align: right;\">     10</td><td>911d268df914414c81a7d9b8fe1a11a1</td><td>1_lr=0.0315,weight_decay=0.0071</td><td>raphael-20ujs00k00</td><td style=\"text-align: right;\">                        10</td><td style=\"text-align: right;\">        81.975 </td><td>192.168.188.20</td><td style=\"text-align: right;\">351925</td><td style=\"text-align: right;\">             76.5753</td><td style=\"text-align: right;\">           7.42539</td><td style=\"text-align: right;\">       76.5753</td><td style=\"text-align: right;\"> 1674580368</td><td style=\"text-align: right;\">                        0</td><td>                 </td><td style=\"text-align: right;\">                  10</td><td>20ea4_00001</td><td style=\"text-align: right;\">   0.00302005</td></tr>\n",
       "<tr><td>train_tune_20ea4_00002</td><td>2023-01-24_18-12-47</td><td>True  </td><td>                </td><td style=\"text-align: right;\">     10</td><td>ea587a2a392b44648978a68ffb6016d5</td><td>2_lr=0.0030,weight_decay=0.0005</td><td>raphael-20ujs00k00</td><td style=\"text-align: right;\">                        10</td><td style=\"text-align: right;\">        64.3417</td><td>192.168.188.20</td><td style=\"text-align: right;\">351944</td><td style=\"text-align: right;\">             75.5508</td><td style=\"text-align: right;\">           7.45085</td><td style=\"text-align: right;\">       75.5508</td><td style=\"text-align: right;\"> 1674580367</td><td style=\"text-align: right;\">                        0</td><td>                 </td><td style=\"text-align: right;\">                  10</td><td>20ea4_00002</td><td style=\"text-align: right;\">   0.00353956</td></tr>\n",
       "<tr><td>train_tune_20ea4_00003</td><td>2023-01-24_18-12-48</td><td>True  </td><td>                </td><td style=\"text-align: right;\">     10</td><td>c2bef7793ad7417a83da0339c3f67cbe</td><td>3_lr=0.0862,weight_decay=0.0050</td><td>raphael-20ujs00k00</td><td style=\"text-align: right;\">                        10</td><td style=\"text-align: right;\">        82.4   </td><td>192.168.188.20</td><td style=\"text-align: right;\">351978</td><td style=\"text-align: right;\">             75.6153</td><td style=\"text-align: right;\">           7.44046</td><td style=\"text-align: right;\">       75.6153</td><td style=\"text-align: right;\"> 1674580368</td><td style=\"text-align: right;\">                        0</td><td>                 </td><td style=\"text-align: right;\">                  10</td><td>20ea4_00003</td><td style=\"text-align: right;\">   0.00333929</td></tr>\n",
       "</tbody>\n",
       "</table>\n",
       "</div>\n",
       "<style>\n",
       ".trialProgress {\n",
       "  display: flex;\n",
       "  flex-direction: column;\n",
       "  color: var(--jp-ui-font-color1);\n",
       "}\n",
       ".trialProgress h3 {\n",
       "  font-weight: bold;\n",
       "}\n",
       ".trialProgress td {\n",
       "  white-space: nowrap;\n",
       "}\n",
       "</style>\n"
      ],
      "text/plain": [
       "<IPython.core.display.HTML object>"
      ]
     },
     "metadata": {},
     "output_type": "display_data"
    },
    {
     "name": "stderr",
     "output_type": "stream",
     "text": [
      "2023-01-24 18:12:48,677\tINFO tune.py:762 -- Total run time: 85.80 seconds (85.12 seconds for the tuning loop).\n"
     ]
    }
   ],
   "source": [
    "# Define ressources for each trial\n",
    "resources = {\"cpu\":2, \"gpu\":1} if torch.cuda.is_available() else {\"cpu\":2}\n",
    "trainable = tune.with_resources(train_tune, resources=resources) \n",
    "\n",
    "# Define the properties of the search space\n",
    "config = {\n",
    "    \"epochs\": 10,\n",
    "    \"lr\": tune.uniform(1e-1,1e-5),\n",
    "    \"weight_decay\": tune.uniform(1e-2,1e-6)\n",
    "}\n",
    "\n",
    "# Create the HPO tuner\n",
    "tuner = tune.Tuner(\n",
    "    trainable,\n",
    "    param_space = config,\n",
    "    tune_config = tune.TuneConfig(\n",
    "        metric = \"mean_accuracy\",\n",
    "        mode = \"max\",\n",
    "        num_samples = 4,\n",
    "    )\n",
    ")\n",
    "\n",
    "# Start the tuner\n",
    "results = tuner.fit()"
   ]
  },
  {
   "cell_type": "code",
   "execution_count": 10,
   "metadata": {},
   "outputs": [
    {
     "name": "stdout",
     "output_type": "stream",
     "text": [
      "{'epochs': 10, 'lr': 0.08619059083971423, 'weight_decay': 0.0050228739920238465}\n"
     ]
    },
    {
     "data": {
      "text/plain": [
       "Text(0, 0.5, 'Mean accuracy')"
      ]
     },
     "execution_count": 10,
     "metadata": {},
     "output_type": "execute_result"
    },
    {
     "data": {
      "image/png": "[encoded data removed]",
      "text/plain": [
       "<Figure size 432x288 with 1 Axes>"
      ]
     },
     "metadata": {
      "needs_background": "light"
     },
     "output_type": "display_data"
    }
   ],
   "source": [
    "print(results.get_best_result().config)\n",
    "\n",
    "ax = None\n",
    "dfs = {result.log_dir: result.metrics_dataframe for result in results}\n",
    "for d in dfs.values():\n",
    "    ax = d.plot(ax=ax, y=\"mean_accuracy\", x=\"epoch\", legend=False)\n",
    "ax.set_xlabel(\"Epochs\")\n",
    "ax.set_ylabel(\"Mean accuracy\")"
   ]
  },
  {
   "attachments": {},
   "cell_type": "markdown",
   "metadata": {},
   "source": [
    "## Hyperparameter optimization (ASAH Scheduler)"
   ]
  },
  {
   "attachments": {},
   "cell_type": "markdown",
   "metadata": {},
   "source": [
    "Now we are going to make the example slightly harder by integrating the ASAH scheduler. This scheduler will try to stop non-promising trials in order to save ressources. This allows us to choose a higher number of samples without increasing the training time. \n",
    "\n",
    "We can reuse the train_tune() function and the config from before. Afterwards we need to define the scheduler with the correct arguments. \n",
    "\n",
    "Now we only need to add the scheduler to the TuneConfig and afterwards we can start the HPO.\n",
    "\n",
    "**HINT**: The ASAH scheduler can also take \"metric\" and \"mode\" as input. If you already defined this in the TuneConfig do **NOT** redefine it."
   ]
  },
  {
   "cell_type": "code",
   "execution_count": 11,
   "metadata": {},
   "outputs": [
    {
     "data": {
      "text/html": [
       "<div class=\"tuneStatus\">\n",
       "  <div style=\"display: flex;flex-direction: row\">\n",
       "    <div style=\"display: flex;flex-direction: column;\">\n",
       "      <h3>Tune Status</h3>\n",
       "      <table>\n",
       "<tbody>\n",
       "<tr><td>Current time:</td><td>2023-01-24 18:14:23</td></tr>\n",
       "<tr><td>Running for: </td><td>00:01:33.73        </td></tr>\n",
       "<tr><td>Memory:      </td><td>16.0/30.6 GiB      </td></tr>\n",
       "</tbody>\n",
       "</table>\n",
       "    </div>\n",
       "    <div class=\"vDivider\"></div>\n",
       "    <div class=\"systemInfo\">\n",
       "      <h3>System Info</h3>\n",
       "      Using AsyncHyperBand: num_stopped=8<br>Bracket: Iter 3.000: 77.33541666666666<br>Resources requested: 0/16 CPUs, 0/0 GPUs, 0.0/10.2 GiB heap, 0.0/5.1 GiB objects\n",
       "    </div>\n",
       "    \n",
       "  </div>\n",
       "  <div class=\"hDivider\"></div>\n",
       "  <div class=\"trialStatus\">\n",
       "    <h3>Trial Status</h3>\n",
       "    <table>\n",
       "<thead>\n",
       "<tr><th>Trial name            </th><th>status    </th><th>loc                  </th><th style=\"text-align: right;\">        lr</th><th style=\"text-align: right;\">  weight_decay</th><th style=\"text-align: right;\">    acc</th><th style=\"text-align: right;\">  iter</th><th style=\"text-align: right;\">  total time (s)</th><th style=\"text-align: right;\">  epoch</th></tr>\n",
       "</thead>\n",
       "<tbody>\n",
       "<tr><td>train_tune_54636_00000</td><td>TERMINATED</td><td>192.168.188.20:352452</td><td style=\"text-align: right;\">0.0438655 </td><td style=\"text-align: right;\">   0.00172694 </td><td style=\"text-align: right;\">83.5083</td><td style=\"text-align: right;\">    10</td><td style=\"text-align: right;\">         82.9845</td><td style=\"text-align: right;\">     10</td></tr>\n",
       "<tr><td>train_tune_54636_00001</td><td>TERMINATED</td><td>192.168.188.20:352536</td><td style=\"text-align: right;\">0.0230393 </td><td style=\"text-align: right;\">   0.000104878</td><td style=\"text-align: right;\">72.9   </td><td style=\"text-align: right;\">     3</td><td style=\"text-align: right;\">         30.256 </td><td style=\"text-align: right;\">      3</td></tr>\n",
       "<tr><td>train_tune_54636_00002</td><td>TERMINATED</td><td>192.168.188.20:352554</td><td style=\"text-align: right;\">0.0936151 </td><td style=\"text-align: right;\">   0.000332313</td><td style=\"text-align: right;\">85.5333</td><td style=\"text-align: right;\">    10</td><td style=\"text-align: right;\">         78.7021</td><td style=\"text-align: right;\">     10</td></tr>\n",
       "<tr><td>train_tune_54636_00003</td><td>TERMINATED</td><td>192.168.188.20:352588</td><td style=\"text-align: right;\">0.0432937 </td><td style=\"text-align: right;\">   0.00208434 </td><td style=\"text-align: right;\">77.3167</td><td style=\"text-align: right;\">     3</td><td style=\"text-align: right;\">         29.3157</td><td style=\"text-align: right;\">      3</td></tr>\n",
       "<tr><td>train_tune_54636_00004</td><td>TERMINATED</td><td>192.168.188.20:352664</td><td style=\"text-align: right;\">0.00451333</td><td style=\"text-align: right;\">   0.00829566 </td><td style=\"text-align: right;\">44.375 </td><td style=\"text-align: right;\">     3</td><td style=\"text-align: right;\">         31.8901</td><td style=\"text-align: right;\">      3</td></tr>\n",
       "<tr><td>train_tune_54636_00005</td><td>TERMINATED</td><td>192.168.188.20:352739</td><td style=\"text-align: right;\">0.00481949</td><td style=\"text-align: right;\">   0.00493917 </td><td style=\"text-align: right;\">46.0667</td><td style=\"text-align: right;\">     3</td><td style=\"text-align: right;\">         30.7552</td><td style=\"text-align: right;\">      3</td></tr>\n",
       "<tr><td>train_tune_54636_00006</td><td>TERMINATED</td><td>192.168.188.20:352813</td><td style=\"text-align: right;\">0.0368525 </td><td style=\"text-align: right;\">   0.00986474 </td><td style=\"text-align: right;\">75.5417</td><td style=\"text-align: right;\">     3</td><td style=\"text-align: right;\">         29.2023</td><td style=\"text-align: right;\">      3</td></tr>\n",
       "<tr><td>train_tune_54636_00007</td><td>TERMINATED</td><td>192.168.188.20:352888</td><td style=\"text-align: right;\">0.0477606 </td><td style=\"text-align: right;\">   0.00374672 </td><td style=\"text-align: right;\">83.3667</td><td style=\"text-align: right;\">    10</td><td style=\"text-align: right;\">         80.0294</td><td style=\"text-align: right;\">     10</td></tr>\n",
       "</tbody>\n",
       "</table>\n",
       "  </div>\n",
       "</div>\n",
       "<style>\n",
       ".tuneStatus {\n",
       "  color: var(--jp-ui-font-color1);\n",
       "}\n",
       ".tuneStatus .systemInfo {\n",
       "  display: flex;\n",
       "  flex-direction: column;\n",
       "}\n",
       ".tuneStatus td {\n",
       "  white-space: nowrap;\n",
       "}\n",
       ".tuneStatus .trialStatus {\n",
       "  display: flex;\n",
       "  flex-direction: column;\n",
       "}\n",
       ".tuneStatus h3 {\n",
       "  font-weight: bold;\n",
       "}\n",
       ".tuneStatus .hDivider {\n",
       "  border-bottom-width: var(--jp-border-width);\n",
       "  border-bottom-color: var(--jp-border-color0);\n",
       "  border-bottom-style: solid;\n",
       "}\n",
       ".tuneStatus .vDivider {\n",
       "  border-left-width: var(--jp-border-width);\n",
       "  border-left-color: var(--jp-border-color0);\n",
       "  border-left-style: solid;\n",
       "  margin: 0.5em 1em 0.5em 1em;\n",
       "}\n",
       "</style>\n"
      ],
      "text/plain": [
       "<IPython.core.display.HTML object>"
      ]
     },
     "metadata": {},
     "output_type": "display_data"
    },
    {
     "name": "stderr",
     "output_type": "stream",
     "text": [
      "2023-01-24 18:12:54,257\tWARNING worker.py:1851 -- Warning: The actor ImplicitFunc is very large (45 MiB). Check that its definition is not implicitly capturing a large array or other object in scope. Tip: use ray.put() to put large objects in the Ray object store.\n",
      "2023-01-24 18:12:54,379\tWARNING util.py:244 -- The `start_trial` operation took 0.847 s, which may be a performance bottleneck.\n",
      "2023-01-24 18:12:58,660\tWARNING util.py:244 -- The `start_trial` operation took 0.508 s, which may be a performance bottleneck.\n",
      "2023-01-24 18:12:59,226\tWARNING util.py:244 -- The `start_trial` operation took 0.565 s, which may be a performance bottleneck.\n",
      "2023-01-24 18:12:59,767\tWARNING util.py:244 -- The `start_trial` operation took 0.540 s, which may be a performance bottleneck.\n"
     ]
    },
    {
     "data": {
      "text/html": [
       "<div class=\"trialProgress\">\n",
       "  <h3>Trial Progress</h3>\n",
       "  <table>\n",
       "<thead>\n",
       "<tr><th>Trial name            </th><th>date               </th><th>done  </th><th>episodes_total  </th><th style=\"text-align: right;\">  epoch</th><th>experiment_id                   </th><th>hostname          </th><th style=\"text-align: right;\">  iterations_since_restore</th><th style=\"text-align: right;\">  mean_accuracy</th><th>node_ip       </th><th style=\"text-align: right;\">   pid</th><th style=\"text-align: right;\">  time_since_restore</th><th style=\"text-align: right;\">  time_this_iter_s</th><th style=\"text-align: right;\">  time_total_s</th><th style=\"text-align: right;\">  timestamp</th><th style=\"text-align: right;\">  timesteps_since_restore</th><th>timesteps_total  </th><th style=\"text-align: right;\">  training_iteration</th><th style=\"text-align: right;\">   trial_id</th><th style=\"text-align: right;\">  warmup_time</th></tr>\n",
       "</thead>\n",
       "<tbody>\n",
       "<tr><td>train_tune_54636_00000</td><td>2023-01-24_18-14-19</td><td>True  </td><td>                </td><td style=\"text-align: right;\">     10</td><td>ba64c41ec4ed40ccbc4510fda5ed25f8</td><td>raphael-20ujs00k00</td><td style=\"text-align: right;\">                        10</td><td style=\"text-align: right;\">        83.5083</td><td>192.168.188.20</td><td style=\"text-align: right;\">352452</td><td style=\"text-align: right;\">             82.9845</td><td style=\"text-align: right;\">           7.02617</td><td style=\"text-align: right;\">       82.9845</td><td style=\"text-align: right;\"> 1674580459</td><td style=\"text-align: right;\">                        0</td><td>                 </td><td style=\"text-align: right;\">                  10</td><td style=\"text-align: right;\">54636_00000</td><td style=\"text-align: right;\">   0.00364494</td></tr>\n",
       "<tr><td>train_tune_54636_00001</td><td>2023-01-24_18-13-32</td><td>True  </td><td>                </td><td style=\"text-align: right;\">      3</td><td>b68e48a934fb4c68a3dfa71546d168c3</td><td>raphael-20ujs00k00</td><td style=\"text-align: right;\">                         3</td><td style=\"text-align: right;\">        72.9   </td><td>192.168.188.20</td><td style=\"text-align: right;\">352536</td><td style=\"text-align: right;\">             30.256 </td><td style=\"text-align: right;\">           9.60096</td><td style=\"text-align: right;\">       30.256 </td><td style=\"text-align: right;\"> 1674580412</td><td style=\"text-align: right;\">                        0</td><td>                 </td><td style=\"text-align: right;\">                   3</td><td style=\"text-align: right;\">54636_00001</td><td style=\"text-align: right;\">   0.00388932</td></tr>\n",
       "<tr><td>train_tune_54636_00002</td><td>2023-01-24_18-14-20</td><td>True  </td><td>                </td><td style=\"text-align: right;\">     10</td><td>a6e86875f8894c08be4b238d556b58f8</td><td>raphael-20ujs00k00</td><td style=\"text-align: right;\">                        10</td><td style=\"text-align: right;\">        85.5333</td><td>192.168.188.20</td><td style=\"text-align: right;\">352554</td><td style=\"text-align: right;\">             78.7021</td><td style=\"text-align: right;\">           6.77415</td><td style=\"text-align: right;\">       78.7021</td><td style=\"text-align: right;\"> 1674580460</td><td style=\"text-align: right;\">                        0</td><td>                 </td><td style=\"text-align: right;\">                  10</td><td style=\"text-align: right;\">54636_00002</td><td style=\"text-align: right;\">   0.00378919</td></tr>\n",
       "<tr><td>train_tune_54636_00003</td><td>2023-01-24_18-13-31</td><td>True  </td><td>                </td><td style=\"text-align: right;\">      3</td><td>b377d4737d68411784caaf652b6cbd2f</td><td>raphael-20ujs00k00</td><td style=\"text-align: right;\">                         3</td><td style=\"text-align: right;\">        77.3167</td><td>192.168.188.20</td><td style=\"text-align: right;\">352588</td><td style=\"text-align: right;\">             29.3157</td><td style=\"text-align: right;\">           9.77116</td><td style=\"text-align: right;\">       29.3157</td><td style=\"text-align: right;\"> 1674580411</td><td style=\"text-align: right;\">                        0</td><td>                 </td><td style=\"text-align: right;\">                   3</td><td style=\"text-align: right;\">54636_00003</td><td style=\"text-align: right;\">   0.00460911</td></tr>\n",
       "<tr><td>train_tune_54636_00004</td><td>2023-01-24_18-13-34</td><td>True  </td><td>                </td><td style=\"text-align: right;\">      3</td><td>97deecbe1b644b5ead2b56b07755732d</td><td>raphael-20ujs00k00</td><td style=\"text-align: right;\">                         3</td><td style=\"text-align: right;\">        44.375 </td><td>192.168.188.20</td><td style=\"text-align: right;\">352664</td><td style=\"text-align: right;\">             31.8901</td><td style=\"text-align: right;\">          11.3137 </td><td style=\"text-align: right;\">       31.8901</td><td style=\"text-align: right;\"> 1674580414</td><td style=\"text-align: right;\">                        0</td><td>                 </td><td style=\"text-align: right;\">                   3</td><td style=\"text-align: right;\">54636_00004</td><td style=\"text-align: right;\">   0.00405884</td></tr>\n",
       "<tr><td>train_tune_54636_00005</td><td>2023-01-24_18-13-33</td><td>True  </td><td>                </td><td style=\"text-align: right;\">      3</td><td>ba6ff04e3e8f422cbeee67a31733b7f2</td><td>raphael-20ujs00k00</td><td style=\"text-align: right;\">                         3</td><td style=\"text-align: right;\">        46.0667</td><td>192.168.188.20</td><td style=\"text-align: right;\">352739</td><td style=\"text-align: right;\">             30.7552</td><td style=\"text-align: right;\">          11.3805 </td><td style=\"text-align: right;\">       30.7552</td><td style=\"text-align: right;\"> 1674580413</td><td style=\"text-align: right;\">                        0</td><td>                 </td><td style=\"text-align: right;\">                   3</td><td style=\"text-align: right;\">54636_00005</td><td style=\"text-align: right;\">   0.00510383</td></tr>\n",
       "<tr><td>train_tune_54636_00006</td><td>2023-01-24_18-13-32</td><td>True  </td><td>                </td><td style=\"text-align: right;\">      3</td><td>96903ac8ffce4e60a894b99d1b579562</td><td>raphael-20ujs00k00</td><td style=\"text-align: right;\">                         3</td><td style=\"text-align: right;\">        75.5417</td><td>192.168.188.20</td><td style=\"text-align: right;\">352813</td><td style=\"text-align: right;\">             29.2023</td><td style=\"text-align: right;\">           9.32289</td><td style=\"text-align: right;\">       29.2023</td><td style=\"text-align: right;\"> 1674580412</td><td style=\"text-align: right;\">                        0</td><td>                 </td><td style=\"text-align: right;\">                   3</td><td style=\"text-align: right;\">54636_00006</td><td style=\"text-align: right;\">   0.00386977</td></tr>\n",
       "<tr><td>train_tune_54636_00007</td><td>2023-01-24_18-14-23</td><td>True  </td><td>                </td><td style=\"text-align: right;\">     10</td><td>117fc4d3b9184e8f9a12d8e5a990cf6d</td><td>raphael-20ujs00k00</td><td style=\"text-align: right;\">                        10</td><td style=\"text-align: right;\">        83.3667</td><td>192.168.188.20</td><td style=\"text-align: right;\">352888</td><td style=\"text-align: right;\">             80.0294</td><td style=\"text-align: right;\">           6.56999</td><td style=\"text-align: right;\">       80.0294</td><td style=\"text-align: right;\"> 1674580463</td><td style=\"text-align: right;\">                        0</td><td>                 </td><td style=\"text-align: right;\">                  10</td><td style=\"text-align: right;\">54636_00007</td><td style=\"text-align: right;\">   0.00409746</td></tr>\n",
       "</tbody>\n",
       "</table>\n",
       "</div>\n",
       "<style>\n",
       ".trialProgress {\n",
       "  display: flex;\n",
       "  flex-direction: column;\n",
       "  color: var(--jp-ui-font-color1);\n",
       "}\n",
       ".trialProgress h3 {\n",
       "  font-weight: bold;\n",
       "}\n",
       ".trialProgress td {\n",
       "  white-space: nowrap;\n",
       "}\n",
       "</style>\n"
      ],
      "text/plain": [
       "<IPython.core.display.HTML object>"
      ]
     },
     "metadata": {},
     "output_type": "display_data"
    },
    {
     "name": "stderr",
     "output_type": "stream",
     "text": [
      "2023-01-24 18:14:23,615\tINFO tune.py:762 -- Total run time: 94.38 seconds (93.72 seconds for the tuning loop).\n"
     ]
    }
   ],
   "source": [
    "# Define the ASAH scheduler\n",
    "scheduler = ASHAScheduler(\n",
    "    max_t=config[\"epochs\"], # Max time per trial\n",
    "    time_attr=\"training_iteration\", # Which metric is used as measurement for \"time\"\n",
    "    grace_period=3\n",
    "    )\n",
    "\n",
    "# Create the HPO tuner\n",
    "tuner = tune.Tuner(\n",
    "    trainable,\n",
    "    param_space = config,\n",
    "    tune_config = tune.TuneConfig(\n",
    "        metric = \"mean_accuracy\",\n",
    "        mode = \"max\",\n",
    "        num_samples = 8,\n",
    "        scheduler=scheduler,\n",
    "    )\n",
    ")\n",
    "\n",
    "# Start the tuner\n",
    "results_asah = tuner.fit()"
   ]
  },
  {
   "cell_type": "code",
   "execution_count": 12,
   "metadata": {},
   "outputs": [
    {
     "name": "stdout",
     "output_type": "stream",
     "text": [
      "{'epochs': 10, 'lr': 0.09361508111049757, 'weight_decay': 0.0003323131612243263}\n"
     ]
    },
    {
     "data": {
      "text/plain": [
       "Text(0, 0.5, 'Mean accuracy')"
      ]
     },
     "execution_count": 12,
     "metadata": {},
     "output_type": "execute_result"
    },
    {
     "data": {
      "image/png": "[encoded data removed]",
      "text/plain": [
       "<Figure size 432x288 with 1 Axes>"
      ]
     },
     "metadata": {
      "needs_background": "light"
     },
     "output_type": "display_data"
    }
   ],
   "source": [
    "print(results_asah.get_best_result().config)\n",
    "\n",
    "ax = None\n",
    "dfs = {result.log_dir: result.metrics_dataframe for result in results_asah}\n",
    "for d in dfs.values():\n",
    "    ax = d.plot(ax=ax, y=\"mean_accuracy\", x=\"epoch\", legend=False)\n",
    "ax.set_xlabel(\"Epochs\")\n",
    "ax.set_ylabel(\"Mean accuracy\")"
   ]
  },
  {
   "attachments": {},
   "cell_type": "markdown",
   "metadata": {},
   "source": [
    "In the graph we can see that indeed trials were stopped by ASAH."
   ]
  },
  {
   "attachments": {},
   "cell_type": "markdown",
   "metadata": {},
   "source": [
    "## Hyperparameter optimization (PBT)"
   ]
  },
  {
   "attachments": {},
   "cell_type": "markdown",
   "metadata": {},
   "source": [
    "![tune_pbt_600px.png](images/tune_pbt_600px.png)\n",
    "\n",
    "*Ray Framework Overview (https://docs.ray.io/en/latest/index.html)*"
   ]
  },
  {
   "attachments": {},
   "cell_type": "markdown",
   "metadata": {},
   "source": [
    "One of the most interesting HPO algorithms in Ray Tune is the Population Based Training (PBT). In PBT we do not see each trial as independent but we rather try to increase the performance of the whole population of trials. After some epochs PBT will replace bad performing trials with good performing ones and perturb their parameters. Similar to the ASAH scheduler this will ensure that non-promising trials are stopped early on and that the search focuses on the promising parts in the search space. \n",
    "\n",
    "Ray Tune contains a distributed implementation of this algorithm. Since PBT will replace the bad with the good trials we need to somehow store the state of the good trials. This can be achieved by using checkpoints in Ray. The code below shows the modified train_tune() function.\n",
    "\n",
    "Let's first look at the added lines in the training loop. We can directly create a checkpoint from a dictionary (storing the models parameters and the epochs) by using the Checkpoint.from_dict() function. This checkpoint can be added to session.report(). Now a checkpoint containing the model's state will be created in each iteration. For large epoch number the checkpoint frequency should be lower to avoid unnecessary overhead.\n",
    "\n",
    "If a bad trial is stopped Tune will create a new trial and run the training function with the perturbed hyperparameters. It will furthermore copy the checkpoint of the better performing trial. Therefore we need to check whether a checkpoint is available at the beginning of the training. If there is no checkpoint available we now that this trial is new and was not replace. If there is a checkpoint available then the trial was replaced and we need to load the state of the model. Furthermore we need to set the current epoch to the correct value."
   ]
  },
  {
   "cell_type": "code",
   "execution_count": 13,
   "metadata": {},
   "outputs": [],
   "source": [
    "def train_tune_pbt(config):\n",
    "    step = 0\n",
    "    epochs = config[\"epochs\"]\n",
    "    lr = config[\"lr\"]\n",
    "    weight_decay = config[\"weight_decay\"]\n",
    "\n",
    "    device = \"cuda\" if torch.cuda.is_available() else \"cpu\"\n",
    "    model = NeuralNetwork().to(device)\n",
    "\n",
    "    loss_fn = nn.CrossEntropyLoss()\n",
    "    optimizer = torch.optim.SGD(model.parameters(), lr=lr, weight_decay=weight_decay)\n",
    "\n",
    "    if session.get_checkpoint():\n",
    "        loaded_checkpoint = session.get_checkpoint()\n",
    "        checkpoint = loaded_checkpoint.to_dict()\n",
    "        model.load_state_dict(checkpoint[\"model_state\"])\n",
    "        step = checkpoint[\"last_step\"] + 1\n",
    "\n",
    "    for t in range(step, epochs):\n",
    "        print(f\"Epoch {t+1}\\n-------------------------------\")\n",
    "        train_epoch(train_dataloader, model, loss_fn, optimizer, device)\n",
    "        accuracy = test(val_dataloader, model, loss_fn, device)\n",
    "\n",
    "        checkpoint = Checkpoint.from_dict(\n",
    "            {\n",
    "                \"last_step\": t,\n",
    "                \"model_state\": model.state_dict(),\n",
    "            }\n",
    "        )\n",
    "        session.report(metrics={\"mean_accuracy\": accuracy, \"step\": t}, checkpoint=checkpoint)"
   ]
  },
  {
   "attachments": {},
   "cell_type": "markdown",
   "metadata": {},
   "source": [
    "Now the process is similar to the examples before. We create a trainable function and assign the needed ressources. Instead of defining the ASAH scheduler as before we define the PBT scheduler and the tuner is created and started as done before.\n",
    "\n",
    "**HINT**: The PBT scheduler can also take \"metric\" and \"mode\" as input. If you already defined this in the TuneConfig do **NOT** redefine it."
   ]
  },
  {
   "cell_type": "code",
   "execution_count": 14,
   "metadata": {},
   "outputs": [
    {
     "data": {
      "text/html": [
       "<div class=\"tuneStatus\">\n",
       "  <div style=\"display: flex;flex-direction: row\">\n",
       "    <div style=\"display: flex;flex-direction: column;\">\n",
       "      <h3>Tune Status</h3>\n",
       "      <table>\n",
       "<tbody>\n",
       "<tr><td>Current time:</td><td>2023-01-24 18:15:56</td></tr>\n",
       "<tr><td>Running for: </td><td>00:01:31.53        </td></tr>\n",
       "<tr><td>Memory:      </td><td>16.4/30.6 GiB      </td></tr>\n",
       "</tbody>\n",
       "</table>\n",
       "    </div>\n",
       "    <div class=\"vDivider\"></div>\n",
       "    <div class=\"systemInfo\">\n",
       "      <h3>System Info</h3>\n",
       "      PopulationBasedTraining: 7 checkpoints, 1 perturbs<br>Resources requested: 0/16 CPUs, 0/0 GPUs, 0.0/10.2 GiB heap, 0.0/5.1 GiB objects\n",
       "    </div>\n",
       "    \n",
       "  </div>\n",
       "  <div class=\"hDivider\"></div>\n",
       "  <div class=\"trialStatus\">\n",
       "    <h3>Trial Status</h3>\n",
       "    <table>\n",
       "<thead>\n",
       "<tr><th>Trial name                </th><th>status    </th><th>loc                  </th><th style=\"text-align: right;\">       lr</th><th style=\"text-align: right;\">  weight_decay</th><th style=\"text-align: right;\">    acc</th><th style=\"text-align: right;\">  iter</th><th style=\"text-align: right;\">  total time (s)</th><th style=\"text-align: right;\">  step</th></tr>\n",
       "</thead>\n",
       "<tbody>\n",
       "<tr><td>train_tune_pbt_8d003_00000</td><td>TERMINATED</td><td>192.168.188.20:353430</td><td style=\"text-align: right;\">0.0646515</td><td style=\"text-align: right;\">    0.00506572</td><td style=\"text-align: right;\">81.5833</td><td style=\"text-align: right;\">    10</td><td style=\"text-align: right;\">         80.6907</td><td style=\"text-align: right;\">     9</td></tr>\n",
       "<tr><td>train_tune_pbt_8d003_00001</td><td>TERMINATED</td><td>192.168.188.20:353519</td><td style=\"text-align: right;\">0.0547924</td><td style=\"text-align: right;\">    0.00596858</td><td style=\"text-align: right;\">82.625 </td><td style=\"text-align: right;\">    10</td><td style=\"text-align: right;\">         80.6176</td><td style=\"text-align: right;\">     9</td></tr>\n",
       "<tr><td>train_tune_pbt_8d003_00002</td><td>TERMINATED</td><td>192.168.188.20:353987</td><td style=\"text-align: right;\">0.0775817</td><td style=\"text-align: right;\">    0.00607886</td><td style=\"text-align: right;\">83.7667</td><td style=\"text-align: right;\">    10</td><td style=\"text-align: right;\">         79.51  </td><td style=\"text-align: right;\">     9</td></tr>\n",
       "<tr><td>train_tune_pbt_8d003_00003</td><td>TERMINATED</td><td>192.168.188.20:353571</td><td style=\"text-align: right;\">0.0983246</td><td style=\"text-align: right;\">    0.00706194</td><td style=\"text-align: right;\">83.6583</td><td style=\"text-align: right;\">    10</td><td style=\"text-align: right;\">         79.9454</td><td style=\"text-align: right;\">     9</td></tr>\n",
       "</tbody>\n",
       "</table>\n",
       "  </div>\n",
       "</div>\n",
       "<style>\n",
       ".tuneStatus {\n",
       "  color: var(--jp-ui-font-color1);\n",
       "}\n",
       ".tuneStatus .systemInfo {\n",
       "  display: flex;\n",
       "  flex-direction: column;\n",
       "}\n",
       ".tuneStatus td {\n",
       "  white-space: nowrap;\n",
       "}\n",
       ".tuneStatus .trialStatus {\n",
       "  display: flex;\n",
       "  flex-direction: column;\n",
       "}\n",
       ".tuneStatus h3 {\n",
       "  font-weight: bold;\n",
       "}\n",
       ".tuneStatus .hDivider {\n",
       "  border-bottom-width: var(--jp-border-width);\n",
       "  border-bottom-color: var(--jp-border-color0);\n",
       "  border-bottom-style: solid;\n",
       "}\n",
       ".tuneStatus .vDivider {\n",
       "  border-left-width: var(--jp-border-width);\n",
       "  border-left-color: var(--jp-border-color0);\n",
       "  border-left-style: solid;\n",
       "  margin: 0.5em 1em 0.5em 1em;\n",
       "}\n",
       "</style>\n"
      ],
      "text/plain": [
       "<IPython.core.display.HTML object>"
      ]
     },
     "metadata": {},
     "output_type": "display_data"
    },
    {
     "name": "stderr",
     "output_type": "stream",
     "text": [
      "2023-01-24 18:14:25,202\tWARNING trial_runner.py:1700 -- You are trying to access _search_alg interface of TrialRunner in TrialScheduler, which is being restricted. If you believe it is reasonable for your scheduler to access this TrialRunner API, please reach out to Ray team on GitHub. A more strict API access pattern would be enforced starting 1.12s.0\n",
      "2023-01-24 18:14:27,446\tWARNING worker.py:1851 -- Warning: The actor ImplicitFunc is very large (45 MiB). Check that its definition is not implicitly capturing a large array or other object in scope. Tip: use ray.put() to put large objects in the Ray object store.\n",
      "2023-01-24 18:14:27,598\tWARNING util.py:244 -- The `start_trial` operation took 0.937 s, which may be a performance bottleneck.\n"
     ]
    },
    {
     "data": {
      "text/html": [
       "<div class=\"trialProgress\">\n",
       "  <h3>Trial Progress</h3>\n",
       "  <table>\n",
       "<thead>\n",
       "<tr><th>Trial name                </th><th>date               </th><th>done  </th><th>episodes_total  </th><th>experiment_id                   </th><th>experiment_tag                                                          </th><th>hostname          </th><th style=\"text-align: right;\">  iterations_since_restore</th><th style=\"text-align: right;\">  mean_accuracy</th><th>node_ip       </th><th style=\"text-align: right;\">   pid</th><th>should_checkpoint  </th><th style=\"text-align: right;\">  step</th><th style=\"text-align: right;\">  time_since_restore</th><th style=\"text-align: right;\">  time_this_iter_s</th><th style=\"text-align: right;\">  time_total_s</th><th style=\"text-align: right;\">  timestamp</th><th style=\"text-align: right;\">  timesteps_since_restore</th><th>timesteps_total  </th><th style=\"text-align: right;\">  training_iteration</th><th>trial_id   </th><th style=\"text-align: right;\">  warmup_time</th></tr>\n",
       "</thead>\n",
       "<tbody>\n",
       "<tr><td>train_tune_pbt_8d003_00000</td><td>2023-01-24_18-15-50</td><td>True  </td><td>                </td><td>28d926c3762049078564a3ab3f12913a</td><td>0_lr=0.0647,weight_decay=0.0051                                         </td><td>raphael-20ujs00k00</td><td style=\"text-align: right;\">                        10</td><td style=\"text-align: right;\">        81.5833</td><td>192.168.188.20</td><td style=\"text-align: right;\">353430</td><td>True               </td><td style=\"text-align: right;\">     9</td><td style=\"text-align: right;\">             80.6907</td><td style=\"text-align: right;\">           8.10104</td><td style=\"text-align: right;\">       80.6907</td><td style=\"text-align: right;\"> 1674580550</td><td style=\"text-align: right;\">                        0</td><td>                 </td><td style=\"text-align: right;\">                  10</td><td>8d003_00000</td><td style=\"text-align: right;\">   0.00347352</td></tr>\n",
       "<tr><td>train_tune_pbt_8d003_00001</td><td>2023-01-24_18-15-54</td><td>True  </td><td>                </td><td>d2a94609996643f6b4f248fdef302bf4</td><td>1_lr=0.0548,weight_decay=0.0060                                         </td><td>raphael-20ujs00k00</td><td style=\"text-align: right;\">                        10</td><td style=\"text-align: right;\">        82.625 </td><td>192.168.188.20</td><td style=\"text-align: right;\">353519</td><td>True               </td><td style=\"text-align: right;\">     9</td><td style=\"text-align: right;\">             80.6176</td><td style=\"text-align: right;\">           7.77112</td><td style=\"text-align: right;\">       80.6176</td><td style=\"text-align: right;\"> 1674580554</td><td style=\"text-align: right;\">                        0</td><td>                 </td><td style=\"text-align: right;\">                  10</td><td>8d003_00001</td><td style=\"text-align: right;\">   0.00387049</td></tr>\n",
       "<tr><td>train_tune_pbt_8d003_00002</td><td>2023-01-24_18-15-56</td><td>True  </td><td>                </td><td>28d926c3762049078564a3ab3f12913a</td><td>2_lr=0.0538,weight_decay=0.0098@perturbed[lr=0.0776,weight_decay=0.0061]</td><td>raphael-20ujs00k00</td><td style=\"text-align: right;\">                         4</td><td style=\"text-align: right;\">        83.7667</td><td>192.168.188.20</td><td style=\"text-align: right;\">353987</td><td>True               </td><td style=\"text-align: right;\">     9</td><td style=\"text-align: right;\">             31.3033</td><td style=\"text-align: right;\">           7.32227</td><td style=\"text-align: right;\">       79.51  </td><td style=\"text-align: right;\"> 1674580556</td><td style=\"text-align: right;\">                        0</td><td>                 </td><td style=\"text-align: right;\">                  10</td><td>8d003_00002</td><td style=\"text-align: right;\">   0.0233889 </td></tr>\n",
       "<tr><td>train_tune_pbt_8d003_00003</td><td>2023-01-24_18-15-54</td><td>True  </td><td>                </td><td>5dde3ec1de7d43adae1a139b990800a1</td><td>3_lr=0.0983,weight_decay=0.0071                                         </td><td>raphael-20ujs00k00</td><td style=\"text-align: right;\">                        10</td><td style=\"text-align: right;\">        83.6583</td><td>192.168.188.20</td><td style=\"text-align: right;\">353571</td><td>True               </td><td style=\"text-align: right;\">     9</td><td style=\"text-align: right;\">             79.9454</td><td style=\"text-align: right;\">           7.73562</td><td style=\"text-align: right;\">       79.9454</td><td style=\"text-align: right;\"> 1674580554</td><td style=\"text-align: right;\">                        0</td><td>                 </td><td style=\"text-align: right;\">                  10</td><td>8d003_00003</td><td style=\"text-align: right;\">   0.00380182</td></tr>\n",
       "</tbody>\n",
       "</table>\n",
       "</div>\n",
       "<style>\n",
       ".trialProgress {\n",
       "  display: flex;\n",
       "  flex-direction: column;\n",
       "  color: var(--jp-ui-font-color1);\n",
       "}\n",
       ".trialProgress h3 {\n",
       "  font-weight: bold;\n",
       "}\n",
       ".trialProgress td {\n",
       "  white-space: nowrap;\n",
       "}\n",
       "</style>\n"
      ],
      "text/plain": [
       "<IPython.core.display.HTML object>"
      ]
     },
     "metadata": {},
     "output_type": "display_data"
    },
    {
     "name": "stderr",
     "output_type": "stream",
     "text": [
      "2023-01-24 18:14:49,499\tINFO pbt.py:646 -- [pbt]: no checkpoint for trial. Skip exploit for Trial train_tune_pbt_8d003_00001\n",
      "2023-01-24 18:14:49,597\tINFO pbt.py:646 -- [pbt]: no checkpoint for trial. Skip exploit for Trial train_tune_pbt_8d003_00002\n",
      "2023-01-24 18:15:21,175\tINFO pbt.py:804 -- \n",
      "\n",
      "[PopulationBasedTraining] [Exploit] Cloning trial 8d003_00000 (score = 82.950000) into trial 8d003_00002 (score = 79.975000)\n",
      "\n",
      "2023-01-24 18:15:21,176\tINFO pbt.py:831 -- \n",
      "\n",
      "[PopulationBasedTraining] [Explore] Perturbed the hyperparameter config of trial8d003_00002:\n",
      "lr : 0.06465145269777486 --- (* 1.2) --> 0.07758174323732983\n",
      "weight_decay : 0.005065717708978911 --- (* 1.2) --> 0.006078861250774693\n",
      "\n",
      "2023-01-24 18:15:56,389\tINFO tune.py:762 -- Total run time: 92.15 seconds (91.52 seconds for the tuning loop).\n"
     ]
    }
   ],
   "source": [
    "# Define resources for each trial\n",
    "resources = {\"cpu\":2, \"gpu\":1} if torch.cuda.is_available() else {\"cpu\":2}\n",
    "trainable = tune.with_resources(train_tune_pbt, resources=resources) \n",
    "\n",
    "# Define the PBT algorithm\n",
    "scheduler = PopulationBasedTraining(\n",
    "    time_attr = \"training_iteration\",\n",
    "    perturbation_interval = 2,\n",
    "    hyperparam_mutations = {\n",
    "        \"lr\": config[\"lr\"],\n",
    "        \"weight_decay\": config[\"weight_decay\"]\n",
    "    },\n",
    ")\n",
    "\n",
    "# Create the HPO tuner\n",
    "tuner = tune.Tuner(\n",
    "    trainable,\n",
    "    param_space = config,\n",
    "    tune_config = tune.TuneConfig(\n",
    "        metric = \"mean_accuracy\",\n",
    "        mode = \"max\",\n",
    "        num_samples = 4,\n",
    "        scheduler=scheduler,\n",
    "    )\n",
    ")\n",
    "\n",
    "# Run the tuner\n",
    "results_pbt = tuner.fit()"
   ]
  },
  {
   "cell_type": "code",
   "execution_count": 15,
   "metadata": {},
   "outputs": [
    {
     "name": "stdout",
     "output_type": "stream",
     "text": [
      "{'epochs': 10, 'lr': 0.07758174323732983, 'weight_decay': 0.006078861250774693}\n"
     ]
    },
    {
     "data": {
      "text/plain": [
       "Text(0, 0.5, 'Mean accuracy')"
      ]
     },
     "execution_count": 15,
     "metadata": {},
     "output_type": "execute_result"
    },
    {
     "data": {
      "image/png": "[encoded data removed]",
      "text/plain": [
       "<Figure size 432x288 with 1 Axes>"
      ]
     },
     "metadata": {
      "needs_background": "light"
     },
     "output_type": "display_data"
    }
   ],
   "source": [
    "print(results_pbt.get_best_result().config)\n",
    "\n",
    "ax = None\n",
    "dfs = {result.log_dir: result.metrics_dataframe for result in results_pbt}\n",
    "for d in dfs.values():\n",
    "    ax = d.plot(ax=ax, y=\"mean_accuracy\", x=\"step\", legend=False)\n",
    "ax.set_xlabel(\"Epochs\")\n",
    "ax.set_ylabel(\"Mean accuracy\")"
   ]
  }
 ],
 "metadata": {
  "kernelspec": {
   "display_name": "Ray_Tune",
   "language": "python",
   "name": "ray_tune"
  },
  "language_info": {
   "codemirror_mode": {
    "name": "ipython",
    "version": 3
   },
   "file_extension": ".py",
   "mimetype": "text/x-python",
   "name": "python",
   "nbconvert_exporter": "python",
   "pygments_lexer": "ipython3",
   "version": "3.10.8"
  },
  "vscode": {
   "interpreter": {
    "hash": "12b5708e47bcce2ed9c7c0871afac25011cce35a7f95a435508fd0065dc55843"
   }
  }
 },
 "nbformat": 4,
 "nbformat_minor": 0
}
