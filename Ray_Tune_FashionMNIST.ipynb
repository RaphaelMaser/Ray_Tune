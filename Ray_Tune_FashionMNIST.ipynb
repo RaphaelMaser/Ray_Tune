{
 "cells": [
  {
   "cell_type": "code",
   "execution_count": 1,
   "metadata": {
    "collapsed": true,
    "pycharm": {
     "is_executing": true
    }
   },
   "outputs": [],
   "source": [
    "!pip install -q ray[tune]==2.2.0\n",
    "!pip install -q torch==1.13.1 torchvision==0.14.1\n",
    "!pip install -q matplotlib"
   ]
  },
  {
   "cell_type": "code",
   "execution_count": 2,
   "metadata": {
    "collapsed": false
   },
   "outputs": [],
   "source": [
    "import torch\n",
    "from torch import nn\n",
    "from torch.utils.data import DataLoader\n",
    "from torchvision import datasets\n",
    "from torchvision.transforms import ToTensor\n",
    "from torchvision.datasets import FashionMNIST\n",
    "from torch.utils.data import random_split\n",
    "from matplotlib import pyplot as plt"
   ]
  },
  {
   "cell_type": "code",
   "execution_count": 21,
   "metadata": {
    "collapsed": false
   },
   "outputs": [],
   "source": [
    "# Download training data from open datasets.\n",
    "data = datasets.FashionMNIST(\n",
    "    root=\"data\",\n",
    "    train=True,\n",
    "    download=True,\n",
    "    transform=ToTensor(),\n",
    ")\n",
    "\n",
    "\n",
    "#train_data, val_data = random_split(data, [0.8, 0.2])\n",
    "\n",
    "batch_size = 64\n",
    "\n",
    "train_data, val_data = random_split(data, [0.8,0.2])\n",
    "train_dataloader = DataLoader(train_data, batch_size=batch_size, shuffle=True)\n",
    "val_dataloader = DataLoader(val_data, batch_size=batch_size)"
   ]
  },
  {
   "cell_type": "code",
   "execution_count": 4,
   "metadata": {},
   "outputs": [],
   "source": [
    "# Define model\n",
    "class NeuralNetwork(nn.Module):\n",
    "    def __init__(self):\n",
    "        super().__init__()\n",
    "        self.flatten = nn.Flatten()\n",
    "        self.linear_relu_stack = nn.Sequential(\n",
    "            nn.Linear(28*28, 512),\n",
    "            nn.ReLU(),\n",
    "            nn.Linear(512, 512),\n",
    "            nn.ReLU(),\n",
    "            nn.Linear(512, 10),\n",
    "        )\n",
    "\n",
    "    def forward(self, x):\n",
    "        x = self.flatten(x)\n",
    "        logits = self.linear_relu_stack(x)\n",
    "        return logits"
   ]
  },
  {
   "cell_type": "code",
   "execution_count": 5,
   "metadata": {},
   "outputs": [],
   "source": [
    "def train_epoch(dataloader, model, loss_fn, optimizer, device):\n",
    "    size = len(dataloader.dataset)\n",
    "    model.train()\n",
    "    for batch, (X, y) in enumerate(dataloader):\n",
    "        X, y = X.to(device), y.to(device)\n",
    "\n",
    "        # Compute prediction error\n",
    "        pred = model(X)\n",
    "        loss = loss_fn(pred, y)\n",
    "\n",
    "        # Backpropagation\n",
    "        optimizer.zero_grad()\n",
    "        loss.backward()\n",
    "        optimizer.step()\n",
    "\n",
    "def test(dataloader, model, loss_fn, device):\n",
    "    size = len(dataloader.dataset)\n",
    "    num_batches = len(dataloader)\n",
    "    model.eval()\n",
    "    test_loss, correct = 0, 0\n",
    "    with torch.no_grad():\n",
    "        for X, y in dataloader:\n",
    "            X, y = X.to(device), y.to(device)\n",
    "            pred = model(X)\n",
    "            test_loss += loss_fn(pred, y).item()\n",
    "            correct += (pred.argmax(1) == y).type(torch.float).sum().item()\n",
    "    test_loss /= num_batches\n",
    "    correct /= size\n",
    "    print(f\"Test Error: \\n Accuracy: {(100*correct):>0.1f}%, Avg loss: {test_loss:>8f} \\n\")\n",
    "    return correct*100\n"
   ]
  },
  {
   "cell_type": "code",
   "execution_count": 6,
   "metadata": {},
   "outputs": [
    {
     "name": "stdout",
     "output_type": "stream",
     "text": [
      "Epoch 1\n",
      "-------------------------------\n",
      "Test Error: \n",
      " Accuracy: 10.4%, Avg loss: 2.294160 \n",
      "\n",
      "Epoch 2\n",
      "-------------------------------\n",
      "Test Error: \n",
      " Accuracy: 11.2%, Avg loss: 2.280641 \n",
      "\n",
      "Epoch 3\n",
      "-------------------------------\n",
      "Test Error: \n",
      " Accuracy: 11.4%, Avg loss: 2.267130 \n",
      "\n",
      "Epoch 4\n",
      "-------------------------------\n",
      "Test Error: \n",
      " Accuracy: 11.6%, Avg loss: 2.253389 \n",
      "\n",
      "Epoch 5\n",
      "-------------------------------\n",
      "Test Error: \n",
      " Accuracy: 12.0%, Avg loss: 2.239271 \n",
      "\n",
      "Epoch 6\n",
      "-------------------------------\n",
      "Test Error: \n",
      " Accuracy: 12.3%, Avg loss: 2.224636 \n",
      "\n",
      "Epoch 7\n",
      "-------------------------------\n",
      "Test Error: \n",
      " Accuracy: 14.1%, Avg loss: 2.209350 \n",
      "\n",
      "Epoch 8\n",
      "-------------------------------\n",
      "Test Error: \n",
      " Accuracy: 19.1%, Avg loss: 2.193291 \n",
      "\n",
      "Epoch 9\n",
      "-------------------------------\n",
      "Test Error: \n",
      " Accuracy: 26.0%, Avg loss: 2.176320 \n",
      "\n",
      "Epoch 10\n",
      "-------------------------------\n",
      "Test Error: \n",
      " Accuracy: 32.7%, Avg loss: 2.158315 \n",
      "\n"
     ]
    }
   ],
   "source": [
    "def train():\n",
    "    device = \"cuda\" if torch.cuda.is_available() else \"cpu\"\n",
    "    model = NeuralNetwork().to(device)\n",
    "\n",
    "    loss_fn = nn.CrossEntropyLoss()\n",
    "    optimizer = torch.optim.SGD(model.parameters(), lr=1e-04, weight_decay=1e-05)\n",
    "\n",
    "    for t in range(10):\n",
    "        print(f\"Epoch {t+1}\\n-------------------------------\")\n",
    "        train_epoch(train_dataloader, model, loss_fn, optimizer, device)\n",
    "        test(val_dataloader, model, loss_fn, device)\n",
    "train()"
   ]
  },
  {
   "attachments": {},
   "cell_type": "markdown",
   "metadata": {},
   "source": [
    "## Hyperparameter optimization (Random Search)"
   ]
  },
  {
   "cell_type": "code",
   "execution_count": 7,
   "metadata": {},
   "outputs": [],
   "source": [
    "from ray import tune, air\n",
    "from ray.air import session\n",
    "import ray\n",
    "import os"
   ]
  },
  {
   "cell_type": "code",
   "execution_count": 9,
   "metadata": {},
   "outputs": [],
   "source": [
    "def train_tune(config):\n",
    "    epochs = config[\"epochs\"]\n",
    "    lr = config[\"lr\"]\n",
    "    weight_decay = config[\"weight_decay\"]\n",
    "\n",
    "    device = \"cuda\" if torch.cuda.is_available() else \"cpu\"\n",
    "    model = NeuralNetwork().to(device)\n",
    "\n",
    "    loss_fn = nn.CrossEntropyLoss()\n",
    "    optimizer = torch.optim.SGD(model.parameters(), lr=lr, weight_decay=weight_decay)\n",
    "\n",
    "    for t in range(epochs):\n",
    "        print(f\"Epoch {t+1}\\n-------------------------------\")\n",
    "        train_epoch(train_dataloader, model, loss_fn, optimizer, device)\n",
    "        accuracy = test(val_dataloader, model, loss_fn, device)\n",
    "        session.report(metrics={\"mean_accuracy\": accuracy})"
   ]
  },
  {
   "cell_type": "code",
   "execution_count": 11,
   "metadata": {},
   "outputs": [
    {
     "data": {
      "text/html": [
       "<div class=\"tuneStatus\">\n",
       "  <div style=\"display: flex;flex-direction: row\">\n",
       "    <div style=\"display: flex;flex-direction: column;\">\n",
       "      <h3>Tune Status</h3>\n",
       "      <table>\n",
       "<tbody>\n",
       "<tr><td>Current time:</td><td>2023-01-05 22:51:59</td></tr>\n",
       "<tr><td>Running for: </td><td>00:03:31.34        </td></tr>\n",
       "<tr><td>Memory:      </td><td>18.9/30.6 GiB      </td></tr>\n",
       "</tbody>\n",
       "</table>\n",
       "    </div>\n",
       "    <div class=\"vDivider\"></div>\n",
       "    <div class=\"systemInfo\">\n",
       "      <h3>System Info</h3>\n",
       "      Using FIFO scheduling algorithm.<br>Resources requested: 0/16 CPUs, 0/0 GPUs, 0.0/8.22 GiB heap, 0.0/4.11 GiB objects\n",
       "    </div>\n",
       "    \n",
       "  </div>\n",
       "  <div class=\"hDivider\"></div>\n",
       "  <div class=\"trialStatus\">\n",
       "    <h3>Trial Status</h3>\n",
       "    <table>\n",
       "<thead>\n",
       "<tr><th>Trial name            </th><th>status    </th><th>loc                  </th><th style=\"text-align: right;\">       lr</th><th style=\"text-align: right;\">  weight_decay</th><th style=\"text-align: right;\">    acc</th><th style=\"text-align: right;\">  iter</th><th style=\"text-align: right;\">  total time (s)</th></tr>\n",
       "</thead>\n",
       "<tbody>\n",
       "<tr><td>train_tune_b039f_00000</td><td>TERMINATED</td><td>192.168.188.20:663825</td><td style=\"text-align: right;\">0.0108235</td><td style=\"text-align: right;\">    0.00206881</td><td style=\"text-align: right;\">85.475 </td><td style=\"text-align: right;\">    10</td><td style=\"text-align: right;\">         201.05 </td></tr>\n",
       "<tr><td>train_tune_b039f_00001</td><td>TERMINATED</td><td>192.168.188.20:663917</td><td style=\"text-align: right;\">0.0928122</td><td style=\"text-align: right;\">    0.00864196</td><td style=\"text-align: right;\">83.4917</td><td style=\"text-align: right;\">    10</td><td style=\"text-align: right;\">         201.641</td></tr>\n",
       "<tr><td>train_tune_b039f_00002</td><td>TERMINATED</td><td>192.168.188.20:663934</td><td style=\"text-align: right;\">0.0888649</td><td style=\"text-align: right;\">    0.00976821</td><td style=\"text-align: right;\">84.7583</td><td style=\"text-align: right;\">    10</td><td style=\"text-align: right;\">         201.256</td></tr>\n",
       "<tr><td>train_tune_b039f_00003</td><td>TERMINATED</td><td>192.168.188.20:663966</td><td style=\"text-align: right;\">0.0371835</td><td style=\"text-align: right;\">    0.00331517</td><td style=\"text-align: right;\">85.15  </td><td style=\"text-align: right;\">    10</td><td style=\"text-align: right;\">         201.179</td></tr>\n",
       "</tbody>\n",
       "</table>\n",
       "  </div>\n",
       "</div>\n",
       "<style>\n",
       ".tuneStatus {\n",
       "  color: var(--jp-ui-font-color1);\n",
       "}\n",
       ".tuneStatus .systemInfo {\n",
       "  display: flex;\n",
       "  flex-direction: column;\n",
       "}\n",
       ".tuneStatus td {\n",
       "  white-space: nowrap;\n",
       "}\n",
       ".tuneStatus .trialStatus {\n",
       "  display: flex;\n",
       "  flex-direction: column;\n",
       "}\n",
       ".tuneStatus h3 {\n",
       "  font-weight: bold;\n",
       "}\n",
       ".tuneStatus .hDivider {\n",
       "  border-bottom-width: var(--jp-border-width);\n",
       "  border-bottom-color: var(--jp-border-color0);\n",
       "  border-bottom-style: solid;\n",
       "}\n",
       ".tuneStatus .vDivider {\n",
       "  border-left-width: var(--jp-border-width);\n",
       "  border-left-color: var(--jp-border-color0);\n",
       "  border-left-style: solid;\n",
       "  margin: 0.5em 1em 0.5em 1em;\n",
       "}\n",
       "</style>\n"
      ],
      "text/plain": [
       "<IPython.core.display.HTML object>"
      ]
     },
     "metadata": {},
     "output_type": "display_data"
    },
    {
     "name": "stderr",
     "output_type": "stream",
     "text": [
      "2023-01-05 22:48:31,942\tWARNING worker.py:1851 -- Warning: The actor ImplicitFunc is very large (45 MiB). Check that its definition is not implicitly capturing a large array or other object in scope. Tip: use ray.put() to put large objects in the Ray object store.\n"
     ]
    },
    {
     "data": {
      "text/html": [
       "<div class=\"trialProgress\">\n",
       "  <h3>Trial Progress</h3>\n",
       "  <table>\n",
       "<thead>\n",
       "<tr><th>Trial name            </th><th>date               </th><th>done  </th><th>episodes_total  </th><th>experiment_id                   </th><th>experiment_tag                 </th><th>hostname  </th><th style=\"text-align: right;\">  iterations_since_restore</th><th style=\"text-align: right;\">  mean_accuracy</th><th>node_ip       </th><th style=\"text-align: right;\">   pid</th><th style=\"text-align: right;\">  time_since_restore</th><th style=\"text-align: right;\">  time_this_iter_s</th><th style=\"text-align: right;\">  time_total_s</th><th style=\"text-align: right;\">  timestamp</th><th style=\"text-align: right;\">  timesteps_since_restore</th><th>timesteps_total  </th><th style=\"text-align: right;\">  training_iteration</th><th>trial_id   </th><th style=\"text-align: right;\">  warmup_time</th></tr>\n",
       "</thead>\n",
       "<tbody>\n",
       "<tr><td>train_tune_b039f_00000</td><td>2023-01-05_22-51-55</td><td>True  </td><td>                </td><td>000ae5d1d6fd485fb4c1491a6556c0dc</td><td>0_lr=0.0108,weight_decay=0.0021</td><td>fedora    </td><td style=\"text-align: right;\">                        10</td><td style=\"text-align: right;\">        85.475 </td><td>192.168.188.20</td><td style=\"text-align: right;\">663825</td><td style=\"text-align: right;\">             201.05 </td><td style=\"text-align: right;\">           21.1187</td><td style=\"text-align: right;\">       201.05 </td><td style=\"text-align: right;\"> 1672955515</td><td style=\"text-align: right;\">                        0</td><td>                 </td><td style=\"text-align: right;\">                  10</td><td>b039f_00000</td><td style=\"text-align: right;\">   0.00378203</td></tr>\n",
       "<tr><td>train_tune_b039f_00001</td><td>2023-01-05_22-51-59</td><td>True  </td><td>                </td><td>21e324225fe64f58be0d0992430559a4</td><td>1_lr=0.0928,weight_decay=0.0086</td><td>fedora    </td><td style=\"text-align: right;\">                        10</td><td style=\"text-align: right;\">        83.4917</td><td>192.168.188.20</td><td style=\"text-align: right;\">663917</td><td style=\"text-align: right;\">             201.641</td><td style=\"text-align: right;\">           20.2013</td><td style=\"text-align: right;\">       201.641</td><td style=\"text-align: right;\"> 1672955519</td><td style=\"text-align: right;\">                        0</td><td>                 </td><td style=\"text-align: right;\">                  10</td><td>b039f_00001</td><td style=\"text-align: right;\">   0.00486207</td></tr>\n",
       "<tr><td>train_tune_b039f_00002</td><td>2023-01-05_22-51-59</td><td>True  </td><td>                </td><td>d00c2de0681149b3a288105814af7462</td><td>2_lr=0.0889,weight_decay=0.0098</td><td>fedora    </td><td style=\"text-align: right;\">                        10</td><td style=\"text-align: right;\">        84.7583</td><td>192.168.188.20</td><td style=\"text-align: right;\">663934</td><td style=\"text-align: right;\">             201.256</td><td style=\"text-align: right;\">           20.2834</td><td style=\"text-align: right;\">       201.256</td><td style=\"text-align: right;\"> 1672955519</td><td style=\"text-align: right;\">                        0</td><td>                 </td><td style=\"text-align: right;\">                  10</td><td>b039f_00002</td><td style=\"text-align: right;\">   0.00417233</td></tr>\n",
       "<tr><td>train_tune_b039f_00003</td><td>2023-01-05_22-51-59</td><td>True  </td><td>                </td><td>9c47fb0065fe4fc1ac02b295843b4a76</td><td>3_lr=0.0372,weight_decay=0.0033</td><td>fedora    </td><td style=\"text-align: right;\">                        10</td><td style=\"text-align: right;\">        85.15  </td><td>192.168.188.20</td><td style=\"text-align: right;\">663966</td><td style=\"text-align: right;\">             201.179</td><td style=\"text-align: right;\">           20.2924</td><td style=\"text-align: right;\">       201.179</td><td style=\"text-align: right;\"> 1672955519</td><td style=\"text-align: right;\">                        0</td><td>                 </td><td style=\"text-align: right;\">                  10</td><td>b039f_00003</td><td style=\"text-align: right;\">   0.00476551</td></tr>\n",
       "</tbody>\n",
       "</table>\n",
       "</div>\n",
       "<style>\n",
       ".trialProgress {\n",
       "  display: flex;\n",
       "  flex-direction: column;\n",
       "  color: var(--jp-ui-font-color1);\n",
       "}\n",
       ".trialProgress h3 {\n",
       "  font-weight: bold;\n",
       "}\n",
       ".trialProgress td {\n",
       "  white-space: nowrap;\n",
       "}\n",
       "</style>\n"
      ],
      "text/plain": [
       "<IPython.core.display.HTML object>"
      ]
     },
     "metadata": {},
     "output_type": "display_data"
    },
    {
     "name": "stderr",
     "output_type": "stream",
     "text": [
      "2023-01-05 22:51:59,706\tINFO tune.py:762 -- Total run time: 212.24 seconds (211.33 seconds for the tuning loop).\n"
     ]
    }
   ],
   "source": [
    "ray.init(log_to_driver=False, ignore_reinit_error=True)\n",
    "\n",
    "resources = {\"cpu\":4, \"gpu\":1} if torch.cuda.is_available() else {\"cpu\":4}\n",
    "trainable = tune.with_resources(train_tune, resources=resources) \n",
    "\n",
    "config = {\n",
    "    \"epochs\": 10,\n",
    "    \"lr\": tune.uniform(1e-1,1e-5),\n",
    "    \"weight_decay\": tune.uniform(1e-2,1e-6)\n",
    "}\n",
    "\n",
    "tuner = tune.Tuner(\n",
    "    trainable,\n",
    "    param_space = config,\n",
    "    tune_config = tune.TuneConfig(\n",
    "        metric = \"mean_accuracy\",\n",
    "        mode = \"max\",\n",
    "        num_samples = 4,\n",
    "    )\n",
    ")\n",
    "\n",
    "results = tuner.fit()"
   ]
  },
  {
   "cell_type": "code",
   "execution_count": 12,
   "metadata": {},
   "outputs": [
    {
     "data": {
      "text/plain": [
       "Result(metrics={'mean_accuracy': 85.475, 'done': True, 'trial_id': 'b039f_00000', 'experiment_tag': '0_lr=0.0108,weight_decay=0.0021'}, error=None, log_dir=PosixPath('/home/raffi/ray_results/train_tune_2023-01-05_22-48-27/train_tune_b039f_00000_0_lr=0.0108,weight_decay=0.0021_2023-01-05_22-48-31'))"
      ]
     },
     "execution_count": 12,
     "metadata": {},
     "output_type": "execute_result"
    }
   ],
   "source": [
    "results.get_best_result()"
   ]
  },
  {
   "cell_type": "code",
   "execution_count": 13,
   "metadata": {},
   "outputs": [
    {
     "data": {
      "text/plain": [
       "Text(0, 0.5, 'Mean accuracy')"
      ]
     },
     "execution_count": 13,
     "metadata": {},
     "output_type": "execute_result"
    },
    {
     "data": {
      "image/png": "[encoded data removed]",
      "text/plain": [
       "<Figure size 432x288 with 1 Axes>"
      ]
     },
     "metadata": {
      "needs_background": "light"
     },
     "output_type": "display_data"
    }
   ],
   "source": [
    "ax = None\n",
    "dfs = {result.log_dir: result.metrics_dataframe for result in results}\n",
    "for d in dfs.values():\n",
    "    ax = d.mean_accuracy.plot(ax=ax, legend=False)\n",
    "ax.set_xlabel(\"Epochs\")\n",
    "ax.set_ylabel(\"Mean accuracy\")"
   ]
  },
  {
   "attachments": {},
   "cell_type": "markdown",
   "metadata": {},
   "source": [
    "## Hyperparameter optimization (ASAH Scheduler)"
   ]
  },
  {
   "cell_type": "code",
   "execution_count": 14,
   "metadata": {},
   "outputs": [
    {
     "data": {
      "text/html": [
       "<div class=\"tuneStatus\">\n",
       "  <div style=\"display: flex;flex-direction: row\">\n",
       "    <div style=\"display: flex;flex-direction: column;\">\n",
       "      <h3>Tune Status</h3>\n",
       "      <table>\n",
       "<tbody>\n",
       "<tr><td>Current time:</td><td>2023-01-05 22:55:51</td></tr>\n",
       "<tr><td>Running for: </td><td>00:03:50.76        </td></tr>\n",
       "<tr><td>Memory:      </td><td>19.2/30.6 GiB      </td></tr>\n",
       "</tbody>\n",
       "</table>\n",
       "    </div>\n",
       "    <div class=\"vDivider\"></div>\n",
       "    <div class=\"systemInfo\">\n",
       "      <h3>System Info</h3>\n",
       "      Using AsyncHyperBand: num_stopped=16<br>Bracket: Iter 4.000: 85.68333333333334 | Iter 1.000: 81.12291666666667<br>Resources requested: 0/16 CPUs, 0/0 GPUs, 0.0/8.22 GiB heap, 0.0/4.11 GiB objects\n",
       "    </div>\n",
       "    \n",
       "  </div>\n",
       "  <div class=\"hDivider\"></div>\n",
       "  <div class=\"trialStatus\">\n",
       "    <h3>Trial Status</h3>\n",
       "    <table>\n",
       "<thead>\n",
       "<tr><th>Trial name            </th><th>status    </th><th>loc                  </th><th style=\"text-align: right;\">        lr</th><th style=\"text-align: right;\">  weight_decay</th><th style=\"text-align: right;\">    acc</th><th style=\"text-align: right;\">  iter</th><th style=\"text-align: right;\">  total time (s)</th></tr>\n",
       "</thead>\n",
       "<tbody>\n",
       "<tr><td>train_tune_2ed79_00000</td><td>TERMINATED</td><td>192.168.188.20:665005</td><td style=\"text-align: right;\">0.0778668 </td><td style=\"text-align: right;\">   0.000744359</td><td style=\"text-align: right;\">90.0083</td><td style=\"text-align: right;\">    10</td><td style=\"text-align: right;\">        198.454 </td></tr>\n",
       "<tr><td>train_tune_2ed79_00001</td><td>TERMINATED</td><td>192.168.188.20:665085</td><td style=\"text-align: right;\">0.00896294</td><td style=\"text-align: right;\">   0.00976738 </td><td style=\"text-align: right;\">67.2333</td><td style=\"text-align: right;\">     1</td><td style=\"text-align: right;\">         20.707 </td></tr>\n",
       "<tr><td>train_tune_2ed79_00002</td><td>TERMINATED</td><td>192.168.188.20:665102</td><td style=\"text-align: right;\">0.0816981 </td><td style=\"text-align: right;\">   0.00859511 </td><td style=\"text-align: right;\">75.4917</td><td style=\"text-align: right;\">     1</td><td style=\"text-align: right;\">         20.5935</td></tr>\n",
       "<tr><td>train_tune_2ed79_00003</td><td>TERMINATED</td><td>192.168.188.20:665134</td><td style=\"text-align: right;\">0.0773884 </td><td style=\"text-align: right;\">   0.00790464 </td><td style=\"text-align: right;\">72     </td><td style=\"text-align: right;\">     1</td><td style=\"text-align: right;\">         20.4659</td></tr>\n",
       "<tr><td>train_tune_2ed79_00004</td><td>TERMINATED</td><td>192.168.188.20:665085</td><td style=\"text-align: right;\">0.0422171 </td><td style=\"text-align: right;\">   0.00034483 </td><td style=\"text-align: right;\">85.25  </td><td style=\"text-align: right;\">     4</td><td style=\"text-align: right;\">         83.5145</td></tr>\n",
       "<tr><td>train_tune_2ed79_00005</td><td>TERMINATED</td><td>192.168.188.20:665102</td><td style=\"text-align: right;\">0.0727078 </td><td style=\"text-align: right;\">   0.00417152 </td><td style=\"text-align: right;\">85.6833</td><td style=\"text-align: right;\">     4</td><td style=\"text-align: right;\">         83.682 </td></tr>\n",
       "<tr><td>train_tune_2ed79_00006</td><td>TERMINATED</td><td>192.168.188.20:665134</td><td style=\"text-align: right;\">0.0515174 </td><td style=\"text-align: right;\">   0.00685832 </td><td style=\"text-align: right;\">76.2083</td><td style=\"text-align: right;\">     1</td><td style=\"text-align: right;\">         20.8088</td></tr>\n",
       "<tr><td>train_tune_2ed79_00007</td><td>TERMINATED</td><td>192.168.188.20:665134</td><td style=\"text-align: right;\">0.0907024 </td><td style=\"text-align: right;\">   0.00604001 </td><td style=\"text-align: right;\">80.45  </td><td style=\"text-align: right;\">     1</td><td style=\"text-align: right;\">         20.8609</td></tr>\n",
       "<tr><td>train_tune_2ed79_00008</td><td>TERMINATED</td><td>192.168.188.20:665134</td><td style=\"text-align: right;\">0.0583405 </td><td style=\"text-align: right;\">   0.00286381 </td><td style=\"text-align: right;\">85.2   </td><td style=\"text-align: right;\">     4</td><td style=\"text-align: right;\">         83.5106</td></tr>\n",
       "<tr><td>train_tune_2ed79_00009</td><td>TERMINATED</td><td>192.168.188.20:665085</td><td style=\"text-align: right;\">0.0630597 </td><td style=\"text-align: right;\">   0.00777117 </td><td style=\"text-align: right;\">77.925 </td><td style=\"text-align: right;\">     1</td><td style=\"text-align: right;\">         20.3995</td></tr>\n",
       "<tr><td>train_tune_2ed79_00010</td><td>TERMINATED</td><td>192.168.188.20:665102</td><td style=\"text-align: right;\">0.0366172 </td><td style=\"text-align: right;\">   0.00294067 </td><td style=\"text-align: right;\">77.725 </td><td style=\"text-align: right;\">     1</td><td style=\"text-align: right;\">         20.2555</td></tr>\n",
       "<tr><td>train_tune_2ed79_00011</td><td>TERMINATED</td><td>192.168.188.20:665085</td><td style=\"text-align: right;\">0.0155174 </td><td style=\"text-align: right;\">   0.00391982 </td><td style=\"text-align: right;\">76.5583</td><td style=\"text-align: right;\">     1</td><td style=\"text-align: right;\">         20.6621</td></tr>\n",
       "<tr><td>train_tune_2ed79_00012</td><td>TERMINATED</td><td>192.168.188.20:665102</td><td style=\"text-align: right;\">0.0164214 </td><td style=\"text-align: right;\">   0.00940965 </td><td style=\"text-align: right;\">75.3583</td><td style=\"text-align: right;\">     1</td><td style=\"text-align: right;\">         20.525 </td></tr>\n",
       "<tr><td>train_tune_2ed79_00013</td><td>TERMINATED</td><td>192.168.188.20:665085</td><td style=\"text-align: right;\">0.0577576 </td><td style=\"text-align: right;\">   0.00321561 </td><td style=\"text-align: right;\">76.8417</td><td style=\"text-align: right;\">     1</td><td style=\"text-align: right;\">         20.718 </td></tr>\n",
       "<tr><td>train_tune_2ed79_00014</td><td>TERMINATED</td><td>192.168.188.20:665102</td><td style=\"text-align: right;\">0.0700357 </td><td style=\"text-align: right;\">   0.00991145 </td><td style=\"text-align: right;\">79.7083</td><td style=\"text-align: right;\">     1</td><td style=\"text-align: right;\">         20.5049</td></tr>\n",
       "<tr><td>train_tune_2ed79_00015</td><td>TERMINATED</td><td>192.168.188.20:665134</td><td style=\"text-align: right;\">0.0692255 </td><td style=\"text-align: right;\">   0.00845822 </td><td style=\"text-align: right;\">82.6167</td><td style=\"text-align: right;\">     4</td><td style=\"text-align: right;\">         68.9475</td></tr>\n",
       "</tbody>\n",
       "</table>\n",
       "  </div>\n",
       "</div>\n",
       "<style>\n",
       ".tuneStatus {\n",
       "  color: var(--jp-ui-font-color1);\n",
       "}\n",
       ".tuneStatus .systemInfo {\n",
       "  display: flex;\n",
       "  flex-direction: column;\n",
       "}\n",
       ".tuneStatus td {\n",
       "  white-space: nowrap;\n",
       "}\n",
       ".tuneStatus .trialStatus {\n",
       "  display: flex;\n",
       "  flex-direction: column;\n",
       "}\n",
       ".tuneStatus h3 {\n",
       "  font-weight: bold;\n",
       "}\n",
       ".tuneStatus .hDivider {\n",
       "  border-bottom-width: var(--jp-border-width);\n",
       "  border-bottom-color: var(--jp-border-color0);\n",
       "  border-bottom-style: solid;\n",
       "}\n",
       ".tuneStatus .vDivider {\n",
       "  border-left-width: var(--jp-border-width);\n",
       "  border-left-color: var(--jp-border-color0);\n",
       "  border-left-style: solid;\n",
       "  margin: 0.5em 1em 0.5em 1em;\n",
       "}\n",
       "</style>\n"
      ],
      "text/plain": [
       "<IPython.core.display.HTML object>"
      ]
     },
     "metadata": {},
     "output_type": "display_data"
    },
    {
     "name": "stderr",
     "output_type": "stream",
     "text": [
      "2023-01-05 22:52:09,861\tWARNING worker.py:1851 -- Warning: The actor ImplicitFunc is very large (45 MiB). Check that its definition is not implicitly capturing a large array or other object in scope. Tip: use ray.put() to put large objects in the Ray object store.\n",
      "2023-01-05 22:52:10,023\tWARNING util.py:244 -- The `start_trial` operation took 0.938 s, which may be a performance bottleneck.\n"
     ]
    },
    {
     "data": {
      "text/html": [
       "<div class=\"trialProgress\">\n",
       "  <h3>Trial Progress</h3>\n",
       "  <table>\n",
       "<thead>\n",
       "<tr><th>Trial name            </th><th>date               </th><th>done  </th><th>episodes_total  </th><th>experiment_id                   </th><th>hostname  </th><th style=\"text-align: right;\">  iterations_since_restore</th><th style=\"text-align: right;\">  mean_accuracy</th><th>node_ip       </th><th style=\"text-align: right;\">   pid</th><th style=\"text-align: right;\">  time_since_restore</th><th style=\"text-align: right;\">  time_this_iter_s</th><th style=\"text-align: right;\">  time_total_s</th><th style=\"text-align: right;\">  timestamp</th><th style=\"text-align: right;\">  timesteps_since_restore</th><th>timesteps_total  </th><th style=\"text-align: right;\">  training_iteration</th><th>trial_id   </th><th style=\"text-align: right;\">  warmup_time</th></tr>\n",
       "</thead>\n",
       "<tbody>\n",
       "<tr><td>train_tune_2ed79_00000</td><td>2023-01-05_22-55-30</td><td>True  </td><td>                </td><td>6432eba6f67f4143b250f8ffec05750c</td><td>fedora    </td><td style=\"text-align: right;\">                        10</td><td style=\"text-align: right;\">        90.0083</td><td>192.168.188.20</td><td style=\"text-align: right;\">665005</td><td style=\"text-align: right;\">            198.454 </td><td style=\"text-align: right;\">           17.1302</td><td style=\"text-align: right;\">      198.454 </td><td style=\"text-align: right;\"> 1672955730</td><td style=\"text-align: right;\">                        0</td><td>                 </td><td style=\"text-align: right;\">                  10</td><td>2ed79_00000</td><td style=\"text-align: right;\">   0.00344133</td></tr>\n",
       "<tr><td>train_tune_2ed79_00001</td><td>2023-01-05_22-52-36</td><td>True  </td><td>                </td><td>9f0484ca456e4a49b55d084e1d3b8182</td><td>fedora    </td><td style=\"text-align: right;\">                         1</td><td style=\"text-align: right;\">        67.2333</td><td>192.168.188.20</td><td style=\"text-align: right;\">665085</td><td style=\"text-align: right;\">             20.707 </td><td style=\"text-align: right;\">           20.707 </td><td style=\"text-align: right;\">       20.707 </td><td style=\"text-align: right;\"> 1672955556</td><td style=\"text-align: right;\">                        0</td><td>                 </td><td style=\"text-align: right;\">                   1</td><td>2ed79_00001</td><td style=\"text-align: right;\">   0.00464678</td></tr>\n",
       "<tr><td>train_tune_2ed79_00002</td><td>2023-01-05_22-52-37</td><td>True  </td><td>                </td><td>2ee784c1e21147d4922742dcd6994df7</td><td>fedora    </td><td style=\"text-align: right;\">                         1</td><td style=\"text-align: right;\">        75.4917</td><td>192.168.188.20</td><td style=\"text-align: right;\">665102</td><td style=\"text-align: right;\">             20.5935</td><td style=\"text-align: right;\">           20.5935</td><td style=\"text-align: right;\">       20.5935</td><td style=\"text-align: right;\"> 1672955557</td><td style=\"text-align: right;\">                        0</td><td>                 </td><td style=\"text-align: right;\">                   1</td><td>2ed79_00002</td><td style=\"text-align: right;\">   0.00467539</td></tr>\n",
       "<tr><td>train_tune_2ed79_00003</td><td>2023-01-05_22-52-37</td><td>True  </td><td>                </td><td>2c90b73e16fe415d8aad2cf7b15cc0a2</td><td>fedora    </td><td style=\"text-align: right;\">                         1</td><td style=\"text-align: right;\">        72     </td><td>192.168.188.20</td><td style=\"text-align: right;\">665134</td><td style=\"text-align: right;\">             20.4659</td><td style=\"text-align: right;\">           20.4659</td><td style=\"text-align: right;\">       20.4659</td><td style=\"text-align: right;\"> 1672955557</td><td style=\"text-align: right;\">                        0</td><td>                 </td><td style=\"text-align: right;\">                   1</td><td>2ed79_00003</td><td style=\"text-align: right;\">   0.0043819 </td></tr>\n",
       "<tr><td>train_tune_2ed79_00004</td><td>2023-01-05_22-54-00</td><td>True  </td><td>                </td><td>9f0484ca456e4a49b55d084e1d3b8182</td><td>fedora    </td><td style=\"text-align: right;\">                         4</td><td style=\"text-align: right;\">        85.25  </td><td>192.168.188.20</td><td style=\"text-align: right;\">665085</td><td style=\"text-align: right;\">             83.5145</td><td style=\"text-align: right;\">           20.9458</td><td style=\"text-align: right;\">       83.5145</td><td style=\"text-align: right;\"> 1672955640</td><td style=\"text-align: right;\">                        0</td><td>                 </td><td style=\"text-align: right;\">                   4</td><td>2ed79_00004</td><td style=\"text-align: right;\">   0.00464678</td></tr>\n",
       "<tr><td>train_tune_2ed79_00005</td><td>2023-01-05_22-54-00</td><td>True  </td><td>                </td><td>2ee784c1e21147d4922742dcd6994df7</td><td>fedora    </td><td style=\"text-align: right;\">                         4</td><td style=\"text-align: right;\">        85.6833</td><td>192.168.188.20</td><td style=\"text-align: right;\">665102</td><td style=\"text-align: right;\">             83.682 </td><td style=\"text-align: right;\">           20.9106</td><td style=\"text-align: right;\">       83.682 </td><td style=\"text-align: right;\"> 1672955640</td><td style=\"text-align: right;\">                        0</td><td>                 </td><td style=\"text-align: right;\">                   4</td><td>2ed79_00005</td><td style=\"text-align: right;\">   0.00467539</td></tr>\n",
       "<tr><td>train_tune_2ed79_00006</td><td>2023-01-05_22-52-58</td><td>True  </td><td>                </td><td>2c90b73e16fe415d8aad2cf7b15cc0a2</td><td>fedora    </td><td style=\"text-align: right;\">                         1</td><td style=\"text-align: right;\">        76.2083</td><td>192.168.188.20</td><td style=\"text-align: right;\">665134</td><td style=\"text-align: right;\">             20.8088</td><td style=\"text-align: right;\">           20.8088</td><td style=\"text-align: right;\">       20.8088</td><td style=\"text-align: right;\"> 1672955578</td><td style=\"text-align: right;\">                        0</td><td>                 </td><td style=\"text-align: right;\">                   1</td><td>2ed79_00006</td><td style=\"text-align: right;\">   0.0043819 </td></tr>\n",
       "<tr><td>train_tune_2ed79_00007</td><td>2023-01-05_22-53-18</td><td>True  </td><td>                </td><td>2c90b73e16fe415d8aad2cf7b15cc0a2</td><td>fedora    </td><td style=\"text-align: right;\">                         1</td><td style=\"text-align: right;\">        80.45  </td><td>192.168.188.20</td><td style=\"text-align: right;\">665134</td><td style=\"text-align: right;\">             20.8609</td><td style=\"text-align: right;\">           20.8609</td><td style=\"text-align: right;\">       20.8609</td><td style=\"text-align: right;\"> 1672955598</td><td style=\"text-align: right;\">                        0</td><td>                 </td><td style=\"text-align: right;\">                   1</td><td>2ed79_00007</td><td style=\"text-align: right;\">   0.0043819 </td></tr>\n",
       "<tr><td>train_tune_2ed79_00008</td><td>2023-01-05_22-54-42</td><td>True  </td><td>                </td><td>2c90b73e16fe415d8aad2cf7b15cc0a2</td><td>fedora    </td><td style=\"text-align: right;\">                         4</td><td style=\"text-align: right;\">        85.2   </td><td>192.168.188.20</td><td style=\"text-align: right;\">665134</td><td style=\"text-align: right;\">             83.5106</td><td style=\"text-align: right;\">           21.0212</td><td style=\"text-align: right;\">       83.5106</td><td style=\"text-align: right;\"> 1672955682</td><td style=\"text-align: right;\">                        0</td><td>                 </td><td style=\"text-align: right;\">                   4</td><td>2ed79_00008</td><td style=\"text-align: right;\">   0.0043819 </td></tr>\n",
       "<tr><td>train_tune_2ed79_00009</td><td>2023-01-05_22-54-20</td><td>True  </td><td>                </td><td>9f0484ca456e4a49b55d084e1d3b8182</td><td>fedora    </td><td style=\"text-align: right;\">                         1</td><td style=\"text-align: right;\">        77.925 </td><td>192.168.188.20</td><td style=\"text-align: right;\">665085</td><td style=\"text-align: right;\">             20.3995</td><td style=\"text-align: right;\">           20.3995</td><td style=\"text-align: right;\">       20.3995</td><td style=\"text-align: right;\"> 1672955660</td><td style=\"text-align: right;\">                        0</td><td>                 </td><td style=\"text-align: right;\">                   1</td><td>2ed79_00009</td><td style=\"text-align: right;\">   0.00464678</td></tr>\n",
       "<tr><td>train_tune_2ed79_00010</td><td>2023-01-05_22-54-21</td><td>True  </td><td>                </td><td>2ee784c1e21147d4922742dcd6994df7</td><td>fedora    </td><td style=\"text-align: right;\">                         1</td><td style=\"text-align: right;\">        77.725 </td><td>192.168.188.20</td><td style=\"text-align: right;\">665102</td><td style=\"text-align: right;\">             20.2555</td><td style=\"text-align: right;\">           20.2555</td><td style=\"text-align: right;\">       20.2555</td><td style=\"text-align: right;\"> 1672955661</td><td style=\"text-align: right;\">                        0</td><td>                 </td><td style=\"text-align: right;\">                   1</td><td>2ed79_00010</td><td style=\"text-align: right;\">   0.00467539</td></tr>\n",
       "<tr><td>train_tune_2ed79_00011</td><td>2023-01-05_22-54-41</td><td>True  </td><td>                </td><td>9f0484ca456e4a49b55d084e1d3b8182</td><td>fedora    </td><td style=\"text-align: right;\">                         1</td><td style=\"text-align: right;\">        76.5583</td><td>192.168.188.20</td><td style=\"text-align: right;\">665085</td><td style=\"text-align: right;\">             20.6621</td><td style=\"text-align: right;\">           20.6621</td><td style=\"text-align: right;\">       20.6621</td><td style=\"text-align: right;\"> 1672955681</td><td style=\"text-align: right;\">                        0</td><td>                 </td><td style=\"text-align: right;\">                   1</td><td>2ed79_00011</td><td style=\"text-align: right;\">   0.00464678</td></tr>\n",
       "<tr><td>train_tune_2ed79_00012</td><td>2023-01-05_22-54-41</td><td>True  </td><td>                </td><td>2ee784c1e21147d4922742dcd6994df7</td><td>fedora    </td><td style=\"text-align: right;\">                         1</td><td style=\"text-align: right;\">        75.3583</td><td>192.168.188.20</td><td style=\"text-align: right;\">665102</td><td style=\"text-align: right;\">             20.525 </td><td style=\"text-align: right;\">           20.525 </td><td style=\"text-align: right;\">       20.525 </td><td style=\"text-align: right;\"> 1672955681</td><td style=\"text-align: right;\">                        0</td><td>                 </td><td style=\"text-align: right;\">                   1</td><td>2ed79_00012</td><td style=\"text-align: right;\">   0.00467539</td></tr>\n",
       "<tr><td>train_tune_2ed79_00013</td><td>2023-01-05_22-55-02</td><td>True  </td><td>                </td><td>9f0484ca456e4a49b55d084e1d3b8182</td><td>fedora    </td><td style=\"text-align: right;\">                         1</td><td style=\"text-align: right;\">        76.8417</td><td>192.168.188.20</td><td style=\"text-align: right;\">665085</td><td style=\"text-align: right;\">             20.718 </td><td style=\"text-align: right;\">           20.718 </td><td style=\"text-align: right;\">       20.718 </td><td style=\"text-align: right;\"> 1672955702</td><td style=\"text-align: right;\">                        0</td><td>                 </td><td style=\"text-align: right;\">                   1</td><td>2ed79_00013</td><td style=\"text-align: right;\">   0.00464678</td></tr>\n",
       "<tr><td>train_tune_2ed79_00014</td><td>2023-01-05_22-55-02</td><td>True  </td><td>                </td><td>2ee784c1e21147d4922742dcd6994df7</td><td>fedora    </td><td style=\"text-align: right;\">                         1</td><td style=\"text-align: right;\">        79.7083</td><td>192.168.188.20</td><td style=\"text-align: right;\">665102</td><td style=\"text-align: right;\">             20.5049</td><td style=\"text-align: right;\">           20.5049</td><td style=\"text-align: right;\">       20.5049</td><td style=\"text-align: right;\"> 1672955702</td><td style=\"text-align: right;\">                        0</td><td>                 </td><td style=\"text-align: right;\">                   1</td><td>2ed79_00014</td><td style=\"text-align: right;\">   0.00467539</td></tr>\n",
       "<tr><td>train_tune_2ed79_00015</td><td>2023-01-05_22-55-51</td><td>True  </td><td>                </td><td>2c90b73e16fe415d8aad2cf7b15cc0a2</td><td>fedora    </td><td style=\"text-align: right;\">                         4</td><td style=\"text-align: right;\">        82.6167</td><td>192.168.188.20</td><td style=\"text-align: right;\">665134</td><td style=\"text-align: right;\">             68.9475</td><td style=\"text-align: right;\">           15.115 </td><td style=\"text-align: right;\">       68.9475</td><td style=\"text-align: right;\"> 1672955751</td><td style=\"text-align: right;\">                        0</td><td>                 </td><td style=\"text-align: right;\">                   4</td><td>2ed79_00015</td><td style=\"text-align: right;\">   0.0043819 </td></tr>\n",
       "</tbody>\n",
       "</table>\n",
       "</div>\n",
       "<style>\n",
       ".trialProgress {\n",
       "  display: flex;\n",
       "  flex-direction: column;\n",
       "  color: var(--jp-ui-font-color1);\n",
       "}\n",
       ".trialProgress h3 {\n",
       "  font-weight: bold;\n",
       "}\n",
       ".trialProgress td {\n",
       "  white-space: nowrap;\n",
       "}\n",
       "</style>\n"
      ],
      "text/plain": [
       "<IPython.core.display.HTML object>"
      ]
     },
     "metadata": {},
     "output_type": "display_data"
    },
    {
     "name": "stderr",
     "output_type": "stream",
     "text": [
      "2023-01-05 22:55:51,534\tINFO tune.py:762 -- Total run time: 231.41 seconds (230.75 seconds for the tuning loop).\n"
     ]
    }
   ],
   "source": [
    "from ray.tune.schedulers import ASHAScheduler\n",
    "\n",
    "scheduler = ASHAScheduler(\n",
    "    max_t=config[\"epochs\"], \n",
    "    time_attr=\"training_iteration\",\n",
    "    )\n",
    "\n",
    "tuner = tune.Tuner(\n",
    "    trainable,\n",
    "    param_space = config,\n",
    "    tune_config = tune.TuneConfig(\n",
    "        metric = \"mean_accuracy\",\n",
    "        mode = \"max\",\n",
    "        num_samples = 16,\n",
    "        scheduler=scheduler,\n",
    "    )\n",
    ")\n",
    "\n",
    "results = tuner.fit()"
   ]
  },
  {
   "cell_type": "code",
   "execution_count": 15,
   "metadata": {},
   "outputs": [
    {
     "data": {
      "text/plain": [
       "Result(metrics={'mean_accuracy': 90.00833333333334, 'done': True, 'trial_id': '2ed79_00000', 'experiment_tag': '0_lr=0.0779,weight_decay=0.0007'}, error=None, log_dir=PosixPath('/home/raffi/ray_results/train_tune_2023-01-05_22-52-00/train_tune_2ed79_00000_0_lr=0.0779,weight_decay=0.0007_2023-01-05_22-52-09'))"
      ]
     },
     "execution_count": 15,
     "metadata": {},
     "output_type": "execute_result"
    }
   ],
   "source": [
    "results.get_best_result()"
   ]
  },
  {
   "cell_type": "code",
   "execution_count": 22,
   "metadata": {},
   "outputs": [
    {
     "data": {
      "text/plain": [
       "Text(0, 0.5, 'Mean accuracy')"
      ]
     },
     "execution_count": 22,
     "metadata": {},
     "output_type": "execute_result"
    },
    {
     "data": {
      "image/png": "[encoded data removed]",
      "text/plain": [
       "<Figure size 432x288 with 1 Axes>"
      ]
     },
     "metadata": {
      "needs_background": "light"
     },
     "output_type": "display_data"
    }
   ],
   "source": [
    "ax = None\n",
    "dfs = {result.log_dir: result.metrics_dataframe for result in results}\n",
    "for d in dfs.values():\n",
    "    ax = d.mean_accuracy.plot(ax=ax, legend=False)\n",
    "ax.set_xlabel(\"Epochs\")\n",
    "ax.set_ylabel(\"Mean accuracy\")"
   ]
  },
  {
   "attachments": {},
   "cell_type": "markdown",
   "metadata": {},
   "source": [
    "## Hyperparameter optimization (PBT)"
   ]
  },
  {
   "cell_type": "code",
   "execution_count": 28,
   "metadata": {},
   "outputs": [],
   "source": [
    "from ray.air import Checkpoint\n",
    "\n",
    "def train_tune_pbt(config):\n",
    "    step = 0\n",
    "    epochs = config[\"epochs\"]\n",
    "    lr = config[\"lr\"]\n",
    "    weight_decay = config[\"weight_decay\"]\n",
    "\n",
    "    device = \"cuda\" if torch.cuda.is_available() else \"cpu\"\n",
    "    model = NeuralNetwork().to(device)\n",
    "\n",
    "    loss_fn = nn.CrossEntropyLoss()\n",
    "    optimizer = torch.optim.SGD(model.parameters(), lr=lr, weight_decay=weight_decay)\n",
    "\n",
    "    if session.get_checkpoint():\n",
    "        loaded_checkpoint = session.get_checkpoint()\n",
    "        with loaded_checkpoint.as_directory() as loaded_checkpoint_dir:\n",
    "            path = os.path.join(loaded_checkpoint_dir, \"checkpoint.pt\")\n",
    "            checkpoint = torch.load(path)\n",
    "            model.load_state_dict(checkpoint[\"model_state\"])\n",
    "            step = checkpoint[\"epoch\"] \n",
    "\n",
    "    for t in range(step, epochs):\n",
    "        print(f\"Epoch {t+1}\\n-------------------------------\")\n",
    "        train_epoch(train_dataloader, model, loss_fn, optimizer, device)\n",
    "        accuracy = test(val_dataloader, model, loss_fn, device)\n",
    "\n",
    "        os.makedirs(\"model\", exist_ok=True)\n",
    "        torch.save(\n",
    "            {\n",
    "                \"epoch\": t,\n",
    "                \"model_state\": model.state_dict(),\n",
    "            },\n",
    "            \"model/checkpoint.pt\"\n",
    "        )\n",
    "        checkpoint = Checkpoint.from_directory(\"model\")\n",
    "        session.report(metrics={\"mean_accuracy\": accuracy}, checkpoint=checkpoint)\n"
   ]
  },
  {
   "cell_type": "code",
   "execution_count": 29,
   "metadata": {},
   "outputs": [
    {
     "data": {
      "text/html": [
       "<div class=\"tuneStatus\">\n",
       "  <div style=\"display: flex;flex-direction: row\">\n",
       "    <div style=\"display: flex;flex-direction: column;\">\n",
       "      <h3>Tune Status</h3>\n",
       "      <table>\n",
       "<tbody>\n",
       "<tr><td>Current time:</td><td>2023-01-05 23:13:09</td></tr>\n",
       "<tr><td>Running for: </td><td>00:03:01.37        </td></tr>\n",
       "<tr><td>Memory:      </td><td>20.0/30.6 GiB      </td></tr>\n",
       "</tbody>\n",
       "</table>\n",
       "    </div>\n",
       "    <div class=\"vDivider\"></div>\n",
       "    <div class=\"systemInfo\">\n",
       "      <h3>System Info</h3>\n",
       "      PopulationBasedTraining: 6 checkpoints, 3 perturbs<br>Resources requested: 0/16 CPUs, 0/0 GPUs, 0.0/8.22 GiB heap, 0.0/4.11 GiB objects\n",
       "    </div>\n",
       "    \n",
       "  </div>\n",
       "  <div class=\"hDivider\"></div>\n",
       "  <div class=\"trialStatus\">\n",
       "    <h3>Trial Status</h3>\n",
       "    <table>\n",
       "<thead>\n",
       "<tr><th>Trial name                </th><th>status    </th><th>loc                  </th><th style=\"text-align: right;\">        lr</th><th style=\"text-align: right;\">  weight_decay</th><th style=\"text-align: right;\">    acc</th><th style=\"text-align: right;\">  iter</th><th style=\"text-align: right;\">  total time (s)</th><th style=\"text-align: right;\">  epoch</th></tr>\n",
       "</thead>\n",
       "<tbody>\n",
       "<tr><td>train_tune_pbt_b6bc8_00000</td><td>TERMINATED</td><td>192.168.188.20:671936</td><td style=\"text-align: right;\">0.00795522</td><td style=\"text-align: right;\">    0.00374259</td><td style=\"text-align: right;\">87.025 </td><td style=\"text-align: right;\">    10</td><td style=\"text-align: right;\">         165.286</td><td style=\"text-align: right;\">      9</td></tr>\n",
       "<tr><td>train_tune_pbt_b6bc8_00001</td><td>TERMINATED</td><td>192.168.188.20:670912</td><td style=\"text-align: right;\">0.0753736 </td><td style=\"text-align: right;\">    0.00467823</td><td style=\"text-align: right;\">85.1167</td><td style=\"text-align: right;\">    10</td><td style=\"text-align: right;\">         166.35 </td><td style=\"text-align: right;\">      9</td></tr>\n",
       "<tr><td>train_tune_pbt_b6bc8_00002</td><td>TERMINATED</td><td>192.168.188.20:671358</td><td style=\"text-align: right;\">0.0602989 </td><td style=\"text-align: right;\">    0.00384908</td><td style=\"text-align: right;\">84.8083</td><td style=\"text-align: right;\">    10</td><td style=\"text-align: right;\">         164.855</td><td style=\"text-align: right;\">      9</td></tr>\n",
       "<tr><td>train_tune_pbt_b6bc8_00003</td><td>TERMINATED</td><td>192.168.188.20:670965</td><td style=\"text-align: right;\">0.0407961 </td><td style=\"text-align: right;\">    0.00396056</td><td style=\"text-align: right;\">86.3   </td><td style=\"text-align: right;\">    10</td><td style=\"text-align: right;\">         165.744</td><td style=\"text-align: right;\">      9</td></tr>\n",
       "</tbody>\n",
       "</table>\n",
       "  </div>\n",
       "</div>\n",
       "<style>\n",
       ".tuneStatus {\n",
       "  color: var(--jp-ui-font-color1);\n",
       "}\n",
       ".tuneStatus .systemInfo {\n",
       "  display: flex;\n",
       "  flex-direction: column;\n",
       "}\n",
       ".tuneStatus td {\n",
       "  white-space: nowrap;\n",
       "}\n",
       ".tuneStatus .trialStatus {\n",
       "  display: flex;\n",
       "  flex-direction: column;\n",
       "}\n",
       ".tuneStatus h3 {\n",
       "  font-weight: bold;\n",
       "}\n",
       ".tuneStatus .hDivider {\n",
       "  border-bottom-width: var(--jp-border-width);\n",
       "  border-bottom-color: var(--jp-border-color0);\n",
       "  border-bottom-style: solid;\n",
       "}\n",
       ".tuneStatus .vDivider {\n",
       "  border-left-width: var(--jp-border-width);\n",
       "  border-left-color: var(--jp-border-color0);\n",
       "  border-left-style: solid;\n",
       "  margin: 0.5em 1em 0.5em 1em;\n",
       "}\n",
       "</style>\n"
      ],
      "text/plain": [
       "<IPython.core.display.HTML object>"
      ]
     },
     "metadata": {},
     "output_type": "display_data"
    },
    {
     "name": "stderr",
     "output_type": "stream",
     "text": [
      "2023-01-05 23:10:11,829\tWARNING worker.py:1851 -- Warning: The actor ImplicitFunc is very large (45 MiB). Check that its definition is not implicitly capturing a large array or other object in scope. Tip: use ray.put() to put large objects in the Ray object store.\n",
      "2023-01-05 23:10:12,059\tWARNING util.py:244 -- The `start_trial` operation took 1.391 s, which may be a performance bottleneck.\n"
     ]
    },
    {
     "data": {
      "text/html": [
       "<div class=\"trialProgress\">\n",
       "  <h3>Trial Progress</h3>\n",
       "  <table>\n",
       "<thead>\n",
       "<tr><th>Trial name                </th><th>date               </th><th>done  </th><th>episodes_total  </th><th style=\"text-align: right;\">  epoch</th><th>experiment_id                   </th><th>experiment_tag                                                          </th><th>hostname  </th><th style=\"text-align: right;\">  iterations_since_restore</th><th style=\"text-align: right;\">  mean_accuracy</th><th>node_ip       </th><th style=\"text-align: right;\">   pid</th><th>should_checkpoint  </th><th style=\"text-align: right;\">  time_since_restore</th><th style=\"text-align: right;\">  time_this_iter_s</th><th style=\"text-align: right;\">  time_total_s</th><th style=\"text-align: right;\">  timestamp</th><th style=\"text-align: right;\">  timesteps_since_restore</th><th>timesteps_total  </th><th style=\"text-align: right;\">  training_iteration</th><th>trial_id   </th><th style=\"text-align: right;\">  warmup_time</th></tr>\n",
       "</thead>\n",
       "<tbody>\n",
       "<tr><td>train_tune_pbt_b6bc8_00000</td><td>2023-01-05_23-13-08</td><td>True  </td><td>                </td><td style=\"text-align: right;\">      9</td><td>d74f617a54294122ab34fd296c56dd7c</td><td>0_lr=0.0675,weight_decay=0.0093@perturbed[lr=0.0080,weight_decay=0.0037]</td><td>fedora    </td><td style=\"text-align: right;\">                         1</td><td style=\"text-align: right;\">        87.025 </td><td>192.168.188.20</td><td style=\"text-align: right;\">671936</td><td>True               </td><td style=\"text-align: right;\">             16.1841</td><td style=\"text-align: right;\">           16.1841</td><td style=\"text-align: right;\">       165.286</td><td style=\"text-align: right;\"> 1672956788</td><td style=\"text-align: right;\">                        0</td><td>                 </td><td style=\"text-align: right;\">                  10</td><td>b6bc8_00000</td><td style=\"text-align: right;\">   0.017839  </td></tr>\n",
       "<tr><td>train_tune_pbt_b6bc8_00001</td><td>2023-01-05_23-13-04</td><td>True  </td><td>                </td><td style=\"text-align: right;\">      9</td><td>d74f617a54294122ab34fd296c56dd7c</td><td>1_lr=0.0754,weight_decay=0.0047                                         </td><td>fedora    </td><td style=\"text-align: right;\">                        10</td><td style=\"text-align: right;\">        85.1167</td><td>192.168.188.20</td><td style=\"text-align: right;\">670912</td><td>True               </td><td style=\"text-align: right;\">            166.35  </td><td style=\"text-align: right;\">           17.2475</td><td style=\"text-align: right;\">       166.35 </td><td style=\"text-align: right;\"> 1672956784</td><td style=\"text-align: right;\">                        0</td><td>                 </td><td style=\"text-align: right;\">                  10</td><td>b6bc8_00001</td><td style=\"text-align: right;\">   0.00546169</td></tr>\n",
       "<tr><td>train_tune_pbt_b6bc8_00002</td><td>2023-01-05_23-13-08</td><td>True  </td><td>                </td><td style=\"text-align: right;\">      9</td><td>d74f617a54294122ab34fd296c56dd7c</td><td>2_lr=0.0104,weight_decay=0.0084@perturbed[lr=0.0603,weight_decay=0.0038]</td><td>fedora    </td><td style=\"text-align: right;\">                         7</td><td style=\"text-align: right;\">        84.8083</td><td>192.168.188.20</td><td style=\"text-align: right;\">671358</td><td>True               </td><td style=\"text-align: right;\">            115.397 </td><td style=\"text-align: right;\">           16.2376</td><td style=\"text-align: right;\">       164.855</td><td style=\"text-align: right;\"> 1672956788</td><td style=\"text-align: right;\">                        0</td><td>                 </td><td style=\"text-align: right;\">                  10</td><td>b6bc8_00002</td><td style=\"text-align: right;\">   0.0181437 </td></tr>\n",
       "<tr><td>train_tune_pbt_b6bc8_00003</td><td>2023-01-05_23-13-05</td><td>True  </td><td>                </td><td style=\"text-align: right;\">      9</td><td>8ff17f32684d4c92b9ad545d26e4c0bd</td><td>3_lr=0.0408,weight_decay=0.0040                                         </td><td>fedora    </td><td style=\"text-align: right;\">                        10</td><td style=\"text-align: right;\">        86.3   </td><td>192.168.188.20</td><td style=\"text-align: right;\">670965</td><td>True               </td><td style=\"text-align: right;\">            165.744 </td><td style=\"text-align: right;\">           17.1978</td><td style=\"text-align: right;\">       165.744</td><td style=\"text-align: right;\"> 1672956785</td><td style=\"text-align: right;\">                        0</td><td>                 </td><td style=\"text-align: right;\">                  10</td><td>b6bc8_00003</td><td style=\"text-align: right;\">   0.0056715 </td></tr>\n",
       "</tbody>\n",
       "</table>\n",
       "</div>\n",
       "<style>\n",
       ".trialProgress {\n",
       "  display: flex;\n",
       "  flex-direction: column;\n",
       "  color: var(--jp-ui-font-color1);\n",
       "}\n",
       ".trialProgress h3 {\n",
       "  font-weight: bold;\n",
       "}\n",
       ".trialProgress td {\n",
       "  white-space: nowrap;\n",
       "}\n",
       "</style>\n"
      ],
      "text/plain": [
       "<IPython.core.display.HTML object>"
      ]
     },
     "metadata": {},
     "output_type": "display_data"
    },
    {
     "name": "stderr",
     "output_type": "stream",
     "text": [
      "2023-01-05 23:11:08,819\tINFO pbt.py:804 -- \n",
      "\n",
      "[PopulationBasedTraining] [Exploit] Cloning trial b6bc8_00001 (score = 84.358333) into trial b6bc8_00002 (score = 79.700000)\n",
      "\n",
      "2023-01-05 23:11:08,820\tINFO pbt.py:831 -- \n",
      "\n",
      "[PopulationBasedTraining] [Explore] Perturbed the hyperparameter config of trialb6bc8_00002:\n",
      "lr : 0.07537357756919381 --- (* 0.8) --> 0.060298862055355056\n",
      "weight_decay : 0.004678232814140662 --- (resample) --> 0.0038490775857180715\n",
      "\n",
      "2023-01-05 23:11:10,254\tWARNING util.py:244 -- The `start_trial` operation took 0.515 s, which may be a performance bottleneck.\n",
      "2023-01-05 23:12:09,939\tINFO pbt.py:804 -- \n",
      "\n",
      "[PopulationBasedTraining] [Exploit] Cloning trial b6bc8_00003 (score = 85.291667) into trial b6bc8_00000 (score = 84.325000)\n",
      "\n",
      "2023-01-05 23:12:09,940\tINFO pbt.py:831 -- \n",
      "\n",
      "[PopulationBasedTraining] [Explore] Perturbed the hyperparameter config of trialb6bc8_00000:\n",
      "lr : 0.04079606362146034 --- (* 1.2) --> 0.04895527634575241\n",
      "weight_decay : 0.003960555544705935 --- (* 1.2) --> 0.004752666653647122\n",
      "\n",
      "2023-01-05 23:12:11,245\tWARNING util.py:244 -- The `start_trial` operation took 0.500 s, which may be a performance bottleneck.\n",
      "2023-01-05 23:12:48,206\tINFO pbt.py:804 -- \n",
      "\n",
      "[PopulationBasedTraining] [Exploit] Cloning trial b6bc8_00001 (score = 86.425000) into trial b6bc8_00000 (score = 85.475000)\n",
      "\n",
      "2023-01-05 23:12:48,208\tINFO pbt.py:831 -- \n",
      "\n",
      "[PopulationBasedTraining] [Explore] Perturbed the hyperparameter config of trialb6bc8_00000:\n",
      "lr : 0.07537357756919381 --- (resample) --> 0.007955221304984023\n",
      "weight_decay : 0.004678232814140662 --- (* 0.8) --> 0.00374258625131253\n",
      "\n",
      "2023-01-05 23:12:49,255\tWARNING util.py:244 -- The `start_trial` operation took 0.506 s, which may be a performance bottleneck.\n",
      "2023-01-05 23:13:09,124\tINFO tune.py:762 -- Total run time: 182.27 seconds (181.35 seconds for the tuning loop).\n"
     ]
    }
   ],
   "source": [
    "from ray.tune.schedulers import PopulationBasedTraining\n",
    "\n",
    "resources = {\"cpu\":4, \"gpu\":1} if torch.cuda.is_available() else {\"cpu\":4}\n",
    "trainable = tune.with_resources(train_tune_pbt, resources=resources) \n",
    "\n",
    "scheduler = PopulationBasedTraining(\n",
    "    time_attr = \"epoch\",\n",
    "    perturbation_interval = 2,\n",
    "    hyperparam_mutations = {\n",
    "        \"lr\": tune.uniform(1e-1,1e-5),\n",
    "        \"weight_decay\": tune.uniform(1e-2,1e-6)\n",
    "    },\n",
    ")\n",
    "\n",
    "tuner = tune.Tuner(\n",
    "    trainable,\n",
    "    param_space = config,\n",
    "    tune_config = tune.TuneConfig(\n",
    "        metric = \"mean_accuracy\",\n",
    "        mode = \"max\",\n",
    "        num_samples = 4,\n",
    "        scheduler=scheduler,\n",
    "    )\n",
    ")\n",
    "\n",
    "results = tuner.fit()"
   ]
  },
  {
   "cell_type": "code",
   "execution_count": 30,
   "metadata": {},
   "outputs": [
    {
     "data": {
      "text/plain": [
       "Result(metrics={'mean_accuracy': 87.02499999999999, 'epoch': 9, 'should_checkpoint': True, 'done': True, 'trial_id': 'b6bc8_00000', 'experiment_tag': '0_lr=0.0675,weight_decay=0.0093@perturbed[lr=0.0080,weight_decay=0.0037]'}, error=None, log_dir=PosixPath('/home/raffi/ray_results/train_tune_pbt_2023-01-05_23-10-06/train_tune_pbt_b6bc8_00000_0_lr=0.0675,weight_decay=0.0093_2023-01-05_23-10-10'))"
      ]
     },
     "execution_count": 30,
     "metadata": {},
     "output_type": "execute_result"
    }
   ],
   "source": [
    "results.get_best_result()"
   ]
  },
  {
   "cell_type": "code",
   "execution_count": 31,
   "metadata": {},
   "outputs": [
    {
     "data": {
      "text/plain": [
       "Text(0, 0.5, 'Mean accuracy')"
      ]
     },
     "execution_count": 31,
     "metadata": {},
     "output_type": "execute_result"
    },
    {
     "data": {
      "image/png": "[encoded data removed]",
      "text/plain": [
       "<Figure size 432x288 with 1 Axes>"
      ]
     },
     "metadata": {
      "needs_background": "light"
     },
     "output_type": "display_data"
    }
   ],
   "source": [
    "ax = None\n",
    "dfs = {result.log_dir: result.metrics_dataframe for result in results}\n",
    "for d in dfs.values():\n",
    "    ax = d.mean_accuracy.plot(ax=ax, legend=False)\n",
    "ax.set_xlabel(\"Epochs\")\n",
    "ax.set_ylabel(\"Mean accuracy\")"
   ]
  }
 ],
 "metadata": {
  "kernelspec": {
   "display_name": "Ray_Tune",
   "language": "python",
   "name": "python3"
  },
  "language_info": {
   "codemirror_mode": {
    "name": "ipython",
    "version": 3
   },
   "file_extension": ".py",
   "mimetype": "text/x-python",
   "name": "python",
   "nbconvert_exporter": "python",
   "pygments_lexer": "ipython3",
   "version": "3.10.8"
  },
  "vscode": {
   "interpreter": {
    "hash": "12b5708e47bcce2ed9c7c0871afac25011cce35a7f95a435508fd0065dc55843"
   }
  }
 },
 "nbformat": 4,
 "nbformat_minor": 0
}
