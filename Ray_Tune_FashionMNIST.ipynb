{
 "cells": [
  {
   "cell_type": "code",
   "execution_count": 5,
   "metadata": {
    "collapsed": true
   },
   "outputs": [
    {
     "name": "stdout",
     "output_type": "stream",
     "text": [
      "Requirement already satisfied: ray==2.2.0 in /home/raffi/miniconda/envs/MONAI-BRATS/lib/python3.10/site-packages (2.2.0)\r\n",
      "Requirement already satisfied: jsonschema in /home/raffi/miniconda/envs/MONAI-BRATS/lib/python3.10/site-packages (from ray==2.2.0) (4.17.3)\r\n",
      "Requirement already satisfied: requests in /home/raffi/miniconda/envs/MONAI-BRATS/lib/python3.10/site-packages (from ray==2.2.0) (2.28.1)\r\n",
      "Requirement already satisfied: click>=7.0 in /home/raffi/miniconda/envs/MONAI-BRATS/lib/python3.10/site-packages (from ray==2.2.0) (8.1.3)\r\n",
      "Requirement already satisfied: protobuf!=3.19.5,>=3.15.3 in /home/raffi/miniconda/envs/MONAI-BRATS/lib/python3.10/site-packages (from ray==2.2.0) (4.21.12)\r\n",
      "Requirement already satisfied: virtualenv>=20.0.24 in /home/raffi/miniconda/envs/MONAI-BRATS/lib/python3.10/site-packages (from ray==2.2.0) (20.17.1)\r\n",
      "Requirement already satisfied: grpcio>=1.42.0 in /home/raffi/miniconda/envs/MONAI-BRATS/lib/python3.10/site-packages (from ray==2.2.0) (1.51.1)\r\n",
      "Requirement already satisfied: packaging in /home/raffi/miniconda/envs/MONAI-BRATS/lib/python3.10/site-packages (from ray==2.2.0) (22.0)\r\n",
      "Requirement already satisfied: pyyaml in /home/raffi/miniconda/envs/MONAI-BRATS/lib/python3.10/site-packages (from ray==2.2.0) (6.0)\r\n",
      "Requirement already satisfied: numpy>=1.19.3 in /home/raffi/miniconda/envs/MONAI-BRATS/lib/python3.10/site-packages (from ray==2.2.0) (1.23.5)\r\n",
      "Requirement already satisfied: msgpack<2.0.0,>=1.0.0 in /home/raffi/miniconda/envs/MONAI-BRATS/lib/python3.10/site-packages (from ray==2.2.0) (1.0.4)\r\n",
      "Requirement already satisfied: attrs in /home/raffi/miniconda/envs/MONAI-BRATS/lib/python3.10/site-packages (from ray==2.2.0) (22.1.0)\r\n",
      "Requirement already satisfied: aiosignal in /home/raffi/miniconda/envs/MONAI-BRATS/lib/python3.10/site-packages (from ray==2.2.0) (1.3.1)\r\n",
      "Requirement already satisfied: frozenlist in /home/raffi/miniconda/envs/MONAI-BRATS/lib/python3.10/site-packages (from ray==2.2.0) (1.3.3)\r\n",
      "Requirement already satisfied: filelock in /home/raffi/miniconda/envs/MONAI-BRATS/lib/python3.10/site-packages (from ray==2.2.0) (3.9.0)\r\n",
      "Requirement already satisfied: distlib<1,>=0.3.6 in /home/raffi/miniconda/envs/MONAI-BRATS/lib/python3.10/site-packages (from virtualenv>=20.0.24->ray==2.2.0) (0.3.6)\r\n",
      "Requirement already satisfied: platformdirs<3,>=2.4 in /home/raffi/miniconda/envs/MONAI-BRATS/lib/python3.10/site-packages (from virtualenv>=20.0.24->ray==2.2.0) (2.6.0)\r\n",
      "Requirement already satisfied: pyrsistent!=0.17.0,!=0.17.1,!=0.17.2,>=0.14.0 in /home/raffi/miniconda/envs/MONAI-BRATS/lib/python3.10/site-packages (from jsonschema->ray==2.2.0) (0.19.2)\r\n",
      "Requirement already satisfied: urllib3<1.27,>=1.21.1 in /home/raffi/miniconda/envs/MONAI-BRATS/lib/python3.10/site-packages (from requests->ray==2.2.0) (1.26.13)\r\n",
      "Requirement already satisfied: charset-normalizer<3,>=2 in /home/raffi/miniconda/envs/MONAI-BRATS/lib/python3.10/site-packages (from requests->ray==2.2.0) (2.1.1)\r\n",
      "Requirement already satisfied: idna<4,>=2.5 in /home/raffi/miniconda/envs/MONAI-BRATS/lib/python3.10/site-packages (from requests->ray==2.2.0) (3.4)\r\n",
      "Requirement already satisfied: certifi>=2017.4.17 in /home/raffi/miniconda/envs/MONAI-BRATS/lib/python3.10/site-packages (from requests->ray==2.2.0) (2022.12.7)\r\n",
      "Requirement already satisfied: torch==1.13.1 in /home/raffi/miniconda/envs/MONAI-BRATS/lib/python3.10/site-packages (1.13.1)\r\n",
      "Requirement already satisfied: nvidia-cublas-cu11==11.10.3.66 in /home/raffi/miniconda/envs/MONAI-BRATS/lib/python3.10/site-packages (from torch==1.13.1) (11.10.3.66)\r\n",
      "Requirement already satisfied: nvidia-cudnn-cu11==8.5.0.96 in /home/raffi/miniconda/envs/MONAI-BRATS/lib/python3.10/site-packages (from torch==1.13.1) (8.5.0.96)\r\n",
      "Requirement already satisfied: nvidia-cuda-nvrtc-cu11==11.7.99 in /home/raffi/miniconda/envs/MONAI-BRATS/lib/python3.10/site-packages (from torch==1.13.1) (11.7.99)\r\n",
      "Requirement already satisfied: typing-extensions in /home/raffi/miniconda/envs/MONAI-BRATS/lib/python3.10/site-packages (from torch==1.13.1) (4.4.0)\r\n",
      "Requirement already satisfied: nvidia-cuda-runtime-cu11==11.7.99 in /home/raffi/miniconda/envs/MONAI-BRATS/lib/python3.10/site-packages (from torch==1.13.1) (11.7.99)\r\n",
      "Requirement already satisfied: wheel in /home/raffi/miniconda/envs/MONAI-BRATS/lib/python3.10/site-packages (from nvidia-cublas-cu11==11.10.3.66->torch==1.13.1) (0.38.4)\r\n",
      "Requirement already satisfied: setuptools in /home/raffi/miniconda/envs/MONAI-BRATS/lib/python3.10/site-packages (from nvidia-cublas-cu11==11.10.3.66->torch==1.13.1) (65.5.1)\r\n"
     ]
    }
   ],
   "source": [
    "!pip install ray==2.2.0\n",
    "!pip install torch==1.13.1"
   ]
  },
  {
   "cell_type": "code",
   "execution_count": 6,
   "outputs": [
    {
     "ename": "ModuleNotFoundError",
     "evalue": "No module named 'torch'",
     "output_type": "error",
     "traceback": [
      "\u001B[0;31m---------------------------------------------------------------------------\u001B[0m",
      "\u001B[0;31mModuleNotFoundError\u001B[0m                       Traceback (most recent call last)",
      "Input \u001B[0;32mIn [6]\u001B[0m, in \u001B[0;36m<cell line: 1>\u001B[0;34m()\u001B[0m\n\u001B[0;32m----> 1\u001B[0m \u001B[38;5;28;01mimport\u001B[39;00m \u001B[38;5;21;01mtorch\u001B[39;00m\n\u001B[1;32m      2\u001B[0m \u001B[38;5;28;01mfrom\u001B[39;00m \u001B[38;5;21;01mtorch\u001B[39;00m \u001B[38;5;28;01mimport\u001B[39;00m nn\n\u001B[1;32m      3\u001B[0m \u001B[38;5;28;01mfrom\u001B[39;00m \u001B[38;5;21;01mtorch\u001B[39;00m\u001B[38;5;21;01m.\u001B[39;00m\u001B[38;5;21;01mutils\u001B[39;00m\u001B[38;5;21;01m.\u001B[39;00m\u001B[38;5;21;01mdata\u001B[39;00m \u001B[38;5;28;01mimport\u001B[39;00m DataLoader\n",
      "\u001B[0;31mModuleNotFoundError\u001B[0m: No module named 'torch'"
     ]
    }
   ],
   "source": [
    "import torch\n",
    "from torch import nn\n",
    "from torch.utils.data import DataLoader\n",
    "from torchvision import datasets\n",
    "from torchvision.datasets import FashionMNIST"
   ],
   "metadata": {
    "collapsed": false
   }
  },
  {
   "cell_type": "code",
   "execution_count": null,
   "outputs": [],
   "source": [],
   "metadata": {
    "collapsed": false
   }
  }
 ],
 "metadata": {
  "kernelspec": {
   "name": "ray_tune",
   "language": "python",
   "display_name": "Ray_Tune"
  },
  "language_info": {
   "codemirror_mode": {
    "name": "ipython",
    "version": 2
   },
   "file_extension": ".py",
   "mimetype": "text/x-python",
   "name": "python",
   "nbconvert_exporter": "python",
   "pygments_lexer": "ipython2",
   "version": "2.7.6"
  }
 },
 "nbformat": 4,
 "nbformat_minor": 0
}
