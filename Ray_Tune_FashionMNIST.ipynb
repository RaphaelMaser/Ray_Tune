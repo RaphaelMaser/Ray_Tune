{
 "cells": [
  {
   "attachments": {},
   "cell_type": "markdown",
   "metadata": {},
   "source": [
    "<a target=\"_blank\" href=\"https://colab.research.google.com/github/RaphaelMaser/Ray_Tune/blob/main/Ray_Tune_FashionMNIST.ipynb\">\n",
    "  <img src=\"https://colab.research.google.com/assets/colab-badge.svg\" alt=\"Open In Colab\"/>\n",
    "</a>"
   ]
  },
  {
   "attachments": {},
   "cell_type": "markdown",
   "metadata": {},
   "source": [
    "## Defining a simple Neural Network for the FashionMNIST Dataset in PyTorch"
   ]
  },
  {
   "attachments": {},
   "cell_type": "markdown",
   "metadata": {},
   "source": [
    "Here the usage of HPO using Ray Tune is demonstrated on the FashionMNIST dataset with a simple NN. First we need to install the required dependencies and import all required classes."
   ]
  },
  {
   "cell_type": "code",
   "execution_count": 1,
   "metadata": {
    "collapsed": true
   },
   "outputs": [],
   "source": [
    "%%capture\n",
    "%pip install -q ray[tune]==2.2.0\n",
    "%pip install -q torch==1.13.1 torchvision==0.14.1\n",
    "%pip install -q matplotlib==3.6.3"
   ]
  },
  {
   "cell_type": "code",
   "execution_count": 2,
   "metadata": {
    "collapsed": false
   },
   "outputs": [],
   "source": [
    "import torch\n",
    "from torch import nn\n",
    "from torch.utils.data import DataLoader\n",
    "from torchvision import datasets\n",
    "from torchvision.transforms import ToTensor\n",
    "from torchvision.datasets import FashionMNIST\n",
    "from torch.utils.data import random_split\n",
    "from matplotlib import pyplot as plt\n",
    "\n",
    "from ray import tune, air\n",
    "from ray.air import session\n",
    "import ray\n",
    "import os\n",
    "from ray.tune.schedulers import ASHAScheduler\n",
    "from ray.air import Checkpoint\n",
    "from ray.tune.schedulers import PopulationBasedTraining"
   ]
  },
  {
   "attachments": {},
   "cell_type": "markdown",
   "metadata": {},
   "source": [
    "Afterwards we need to download the FashionMNIST dataset and create a PyTorch dataset from that. Luckily PyTorch can automatically download the dataset if it is not found in the directory. Afterwards we create two dataloaders, one for training and one for validation. In this example we split the official train set from FashionMNIST in a two parts for that purpose. The validation set will be used to search for good hyperparameter combinations and validate the model during training. The test dataset from FashionMNIST could be used afterwards to compare the network with the standard parameters and the models optimized with HPO. "
   ]
  },
  {
   "cell_type": "code",
   "execution_count": 3,
   "metadata": {
    "collapsed": false
   },
   "outputs": [],
   "source": [
    "%%capture\n",
    "# Download training data from open datasets.\n",
    "data = datasets.FashionMNIST(\n",
    "    root=\"data\",\n",
    "    train=True,\n",
    "    download=True,\n",
    "    transform=ToTensor(),\n",
    ")\n",
    "\n",
    "batch_size = 256\n",
    "\n",
    "# Split the train set and create data loaders\n",
    "train_data, val_data = random_split(data, [0.8,0.2])\n",
    "train_dataloader = DataLoader(train_data, batch_size=batch_size, shuffle=True)\n",
    "val_dataloader = DataLoader(val_data, batch_size=batch_size)"
   ]
  },
  {
   "attachments": {},
   "cell_type": "markdown",
   "metadata": {},
   "source": [
    "The model used for the demonstration is a very simple fully connected network with 3 layers."
   ]
  },
  {
   "cell_type": "code",
   "execution_count": 4,
   "metadata": {},
   "outputs": [],
   "source": [
    "# Define model\n",
    "class NeuralNetwork(nn.Module):\n",
    "    def __init__(self):\n",
    "        super().__init__()\n",
    "        self.flatten = nn.Flatten()\n",
    "        self.linear_relu_stack = nn.Sequential(\n",
    "            nn.Linear(28*28, 256),\n",
    "            nn.ReLU(),\n",
    "            nn.Linear(256, 128),\n",
    "            nn.ReLU(),\n",
    "            nn.Linear(128, 10),\n",
    "        )\n",
    "\n",
    "    def forward(self, x):\n",
    "        x = self.flatten(x)\n",
    "        logits = self.linear_relu_stack(x)\n",
    "        return logits"
   ]
  },
  {
   "attachments": {},
   "cell_type": "markdown",
   "metadata": {},
   "source": [
    "We use a standard PyTorch training routine for the model. It would also be possible to use PyTorch Ignite or Lightning to avoid boilerplate code or use even other machine learning frameworks like Tensorflow or Keras."
   ]
  },
  {
   "cell_type": "code",
   "execution_count": 5,
   "metadata": {},
   "outputs": [],
   "source": [
    "# Standard PyTorch training routine\n",
    "def train_epoch(dataloader, model, loss_fn, optimizer, device):\n",
    "    size = len(dataloader.dataset)\n",
    "    model.train()\n",
    "    for batch, (X, y) in enumerate(dataloader):\n",
    "        X, y = X.to(device), y.to(device)\n",
    "\n",
    "        # Compute prediction error\n",
    "        pred = model(X)\n",
    "        loss = loss_fn(pred, y)\n",
    "\n",
    "        # Backpropagation\n",
    "        optimizer.zero_grad()\n",
    "        loss.backward()\n",
    "        optimizer.step()\n",
    "\n",
    "def test(dataloader, model, loss_fn, device):\n",
    "    size = len(dataloader.dataset)\n",
    "    num_batches = len(dataloader)\n",
    "    model.eval()\n",
    "    test_loss, correct = 0, 0\n",
    "\n",
    "    with torch.no_grad():\n",
    "        for X, y in dataloader:\n",
    "            X, y = X.to(device), y.to(device)\n",
    "            pred = model(X)\n",
    "            test_loss += loss_fn(pred, y).item()\n",
    "            correct += (pred.argmax(1) == y).type(torch.float).sum().item()\n",
    "            \n",
    "    test_loss /= num_batches\n",
    "    correct /= size\n",
    "\n",
    "    print(f\"Test Error: \\n Accuracy: {(100*correct):>0.1f}%, Avg loss: {test_loss:>8f} \\n\")\n",
    "    return correct*100\n"
   ]
  },
  {
   "attachments": {},
   "cell_type": "markdown",
   "metadata": {},
   "source": [
    "The train() function iterates through the epochs and executes the train_epoch() function in every step. Furthermore it uses the test() function to test the model with the data in val_dataloader and show the current accuracy. For the training we use SGD with a learning rate of 1e-4 and a weight decay of 1e-5."
   ]
  },
  {
   "cell_type": "code",
   "execution_count": 6,
   "metadata": {},
   "outputs": [
    {
     "name": "stdout",
     "output_type": "stream",
     "text": [
      "Epoch 1\n",
      "-------------------------------\n",
      "Test Error: \n",
      " Accuracy: 16.2%, Avg loss: 2.281536 \n",
      "\n",
      "Epoch 2\n",
      "-------------------------------\n",
      "Test Error: \n",
      " Accuracy: 19.1%, Avg loss: 2.262089 \n",
      "\n",
      "Epoch 3\n",
      "-------------------------------\n",
      "Test Error: \n",
      " Accuracy: 24.6%, Avg loss: 2.240741 \n",
      "\n",
      "Epoch 4\n",
      "-------------------------------\n",
      "Test Error: \n",
      " Accuracy: 29.9%, Avg loss: 2.215882 \n",
      "\n",
      "Epoch 5\n",
      "-------------------------------\n",
      "Test Error: \n",
      " Accuracy: 32.2%, Avg loss: 2.187398 \n",
      "\n",
      "Epoch 6\n",
      "-------------------------------\n",
      "Test Error: \n",
      " Accuracy: 34.0%, Avg loss: 2.154260 \n",
      "\n",
      "Epoch 7\n",
      "-------------------------------\n",
      "Test Error: \n",
      " Accuracy: 37.1%, Avg loss: 2.115401 \n",
      "\n",
      "Epoch 8\n",
      "-------------------------------\n",
      "Test Error: \n",
      " Accuracy: 39.2%, Avg loss: 2.069889 \n",
      "\n",
      "Epoch 9\n",
      "-------------------------------\n",
      "Test Error: \n",
      " Accuracy: 40.6%, Avg loss: 2.017805 \n",
      "\n",
      "Epoch 10\n",
      "-------------------------------\n",
      "Test Error: \n",
      " Accuracy: 41.6%, Avg loss: 1.959499 \n",
      "\n"
     ]
    }
   ],
   "source": [
    "# Small function which iterates through the epochs\n",
    "def train(epochs):\n",
    "    device = \"cuda\" if torch.cuda.is_available() else \"cpu\"\n",
    "    model = NeuralNetwork().to(device)\n",
    "\n",
    "    loss_fn = nn.CrossEntropyLoss()\n",
    "    optimizer = torch.optim.SGD(model.parameters(), lr=1e-03, weight_decay=1e-05)\n",
    "\n",
    "    for t in range(epochs):\n",
    "        print(f\"Epoch {t+1}\\n-------------------------------\")\n",
    "        train_epoch(train_dataloader, model, loss_fn, optimizer, device)\n",
    "        test(val_dataloader, model, loss_fn, device)\n",
    "\n",
    "# Start the training\n",
    "train(10)"
   ]
  },
  {
   "attachments": {},
   "cell_type": "markdown",
   "metadata": {},
   "source": [
    "## Hyperparameter optimization (Random Search)"
   ]
  },
  {
   "attachments": {},
   "cell_type": "markdown",
   "metadata": {},
   "source": [
    "Now we are going to use Ray to do a small random hyperparameter search. \n",
    "\n",
    "The following line is not mandatory, normally Ray initializes itself if it was not initialized before, but in this case I want to set the log_to_driver argument to \"False\" to suppress the output of the trials. Otherwise the output of the different trails will be mixed in no special order because of the concurrent execution."
   ]
  },
  {
   "cell_type": "code",
   "execution_count": 7,
   "metadata": {},
   "outputs": [
    {
     "name": "stderr",
     "output_type": "stream",
     "text": [
      "2023-01-24 18:07:34,998\tINFO worker.py:1538 -- Started a local Ray instance.\n"
     ]
    },
    {
     "data": {
      "text/plain": "RayContext(dashboard_url='', python_version='3.10.8', ray_version='2.2.0', ray_commit='b6af0887ee5f2e460202133791ad941a41f15beb', address_info={'node_ip_address': '192.168.188.20', 'raylet_ip_address': '192.168.188.20', 'redis_address': None, 'object_store_address': '/tmp/ray/session_2023-01-24_18-07-33_085533_320549/sockets/plasma_store', 'raylet_socket_name': '/tmp/ray/session_2023-01-24_18-07-33_085533_320549/sockets/raylet', 'webui_url': '', 'session_dir': '/tmp/ray/session_2023-01-24_18-07-33_085533_320549', 'metrics_export_port': 43209, 'gcs_address': '192.168.188.20:49134', 'address': '192.168.188.20:49134', 'dashboard_agent_listen_port': 52365, 'node_id': '0f5da64135884d78719993e25b66fe5d2046f31edf5b59d54fba1eb1'})",
      "text/html": "<div>\n    <div style=\"margin-left: 50px;display: flex;flex-direction: row;align-items: center\">\n        <h3 style=\"color: var(--jp-ui-font-color0)\">Ray</h3>\n        <svg version=\"1.1\" id=\"ray\" width=\"3em\" viewBox=\"0 0 144.5 144.6\" style=\"margin-left: 3em;margin-right: 3em\">\n            <g id=\"layer-1\">\n                <path fill=\"#00a2e9\" class=\"st0\" d=\"M97.3,77.2c-3.8-1.1-6.2,0.9-8.3,5.1c-3.5,6.8-9.9,9.9-17.4,9.6S58,88.1,54.8,81.2c-1.4-3-3-4-6.3-4.1\n                    c-5.6-0.1-9.9,0.1-13.1,6.4c-3.8,7.6-13.6,10.2-21.8,7.6C5.2,88.4-0.4,80.5,0,71.7c0.1-8.4,5.7-15.8,13.8-18.2\n                    c8.4-2.6,17.5,0.7,22.3,8c1.3,1.9,1.3,5.2,3.6,5.6c3.9,0.6,8,0.2,12,0.2c1.8,0,1.9-1.6,2.4-2.8c3.5-7.8,9.7-11.8,18-11.9\n                    c8.2-0.1,14.4,3.9,17.8,11.4c1.3,2.8,2.9,3.6,5.7,3.3c1-0.1,2,0.1,3,0c2.8-0.5,6.4,1.7,8.1-2.7s-2.3-5.5-4.1-7.5\n                    c-5.1-5.7-10.9-10.8-16.1-16.3C84,38,81.9,37.1,78,38.3C66.7,42,56.2,35.7,53,24.1C50.3,14,57.3,2.8,67.7,0.5\n                    C78.4-2,89,4.7,91.5,15.3c0.1,0.3,0.1,0.5,0.2,0.8c0.7,3.4,0.7,6.9-0.8,9.8c-1.7,3.2-0.8,5,1.5,7.2c6.7,6.5,13.3,13,19.8,19.7\n                    c1.8,1.8,3,2.1,5.5,1.2c9.1-3.4,17.9-0.6,23.4,7c4.8,6.9,4.6,16.1-0.4,22.9c-5.4,7.2-14.2,9.9-23.1,6.5c-2.3-0.9-3.5-0.6-5.1,1.1\n                    c-6.7,6.9-13.6,13.7-20.5,20.4c-1.8,1.8-2.5,3.2-1.4,5.9c3.5,8.7,0.3,18.6-7.7,23.6c-7.9,5-18.2,3.8-24.8-2.9\n                    c-6.4-6.4-7.4-16.2-2.5-24.3c4.9-7.8,14.5-11,23.1-7.8c3,1.1,4.7,0.5,6.9-1.7C91.7,98.4,98,92.3,104.2,86c1.6-1.6,4.1-2.7,2.6-6.2\n                    c-1.4-3.3-3.8-2.5-6.2-2.6C99.8,77.2,98.9,77.2,97.3,77.2z M72.1,29.7c5.5,0.1,9.9-4.3,10-9.8c0-0.1,0-0.2,0-0.3\n                    C81.8,14,77,9.8,71.5,10.2c-5,0.3-9,4.2-9.3,9.2c-0.2,5.5,4,10.1,9.5,10.3C71.8,29.7,72,29.7,72.1,29.7z M72.3,62.3\n                    c-5.4-0.1-9.9,4.2-10.1,9.7c0,0.2,0,0.3,0,0.5c0.2,5.4,4.5,9.7,9.9,10c5.1,0.1,9.9-4.7,10.1-9.8c0.2-5.5-4-10-9.5-10.3\n                    C72.6,62.3,72.4,62.3,72.3,62.3z M115,72.5c0.1,5.4,4.5,9.7,9.8,9.9c5.6-0.2,10-4.8,10-10.4c-0.2-5.4-4.6-9.7-10-9.7\n                    c-5.3-0.1-9.8,4.2-9.9,9.5C115,72.1,115,72.3,115,72.5z M19.5,62.3c-5.4,0.1-9.8,4.4-10,9.8c-0.1,5.1,5.2,10.4,10.2,10.3\n                    c5.6-0.2,10-4.9,9.8-10.5c-0.1-5.4-4.5-9.7-9.9-9.6C19.6,62.3,19.5,62.3,19.5,62.3z M71.8,134.6c5.9,0.2,10.3-3.9,10.4-9.6\n                    c0.5-5.5-3.6-10.4-9.1-10.8c-5.5-0.5-10.4,3.6-10.8,9.1c0,0.5,0,0.9,0,1.4c-0.2,5.3,4,9.8,9.3,10\n                    C71.6,134.6,71.7,134.6,71.8,134.6z\"/>\n            </g>\n        </svg>\n        <table>\n            <tr>\n                <td style=\"text-align: left\"><b>Python version:</b></td>\n                <td style=\"text-align: left\"><b>3.10.8</b></td>\n            </tr>\n            <tr>\n                <td style=\"text-align: left\"><b>Ray version:</b></td>\n                <td style=\"text-align: left\"><b> 2.2.0</b></td>\n            </tr>\n            \n        </table>\n    </div>\n</div>\n"
     },
     "execution_count": 7,
     "metadata": {},
     "output_type": "execute_result"
    }
   ],
   "source": [
    "ray.init(log_to_driver=False, ignore_reinit_error=True)"
   ]
  },
  {
   "attachments": {},
   "cell_type": "markdown",
   "metadata": {},
   "source": [
    "If we want to use Ray Tune we need to slightly change the definition of the train() function. Since Ray does not have any knowledge about the progress of the trial we need to report the training progress to Tune. For that purpose we can use the session.report() function. Furthermore the train function needs to accept a dictionary as input which contains the chosen hyperparameters. "
   ]
  },
  {
   "cell_type": "code",
   "execution_count": 8,
   "metadata": {},
   "outputs": [],
   "source": [
    "def train_tune(config):\n",
    "    epochs = config[\"epochs\"]\n",
    "    lr = config[\"lr\"]\n",
    "    weight_decay = config[\"weight_decay\"]\n",
    "\n",
    "    device = \"cuda\" if torch.cuda.is_available() else \"cpu\"\n",
    "    model = NeuralNetwork().to(device)\n",
    "\n",
    "    loss_fn = nn.CrossEntropyLoss()\n",
    "    optimizer = torch.optim.SGD(model.parameters(), lr=lr, weight_decay=weight_decay)\n",
    "\n",
    "    for t in range(epochs):\n",
    "        print(f\"Epoch {t+1}\\n-------------------------------\")\n",
    "        train_epoch(train_dataloader, model, loss_fn, optimizer, device)\n",
    "        accuracy = test(val_dataloader, model, loss_fn, device)\n",
    "        session.report(metrics={\"mean_accuracy\": accuracy, \"epoch\": t + 1})"
   ]
  },
  {
   "attachments": {},
   "cell_type": "markdown",
   "metadata": {},
   "source": [
    "Now that we have a compatible function for training We are almost ready to create a tuner. A tuner is used in Ray to construct and execute an HPO search. \n",
    "\n",
    "Before we define the resources which are vailable for each trial. In the standard configuration Ray assigns 1 cpu core to each trial. In our case we will assign 2 cpu cores and 1 gpu core for the trial if available. Otherwise only the cpu cores will be used. On my machine with 16 threads available this will lead to 8 concurrent trails. With tune.with_ressources() we take the train_tune() function and create a new function which respects the resource assignments.\n",
    "\n",
    "Afterwards we need to define the search space of the parameters. We are going to do HPO for the parameters \"learning rate\" and \"weight decay\". The variable \"epochs\" is also defined in the config dictionary but it is a fixed value and will therefore not be altered by Ray. The other two are defined as distributions and therefore the algorithm will sample combinations from these distributions.\n",
    "\n",
    "Now that we have defined the resources each trial can use and the search space (parameter space) which should be exploited we can define the tuner. The tuner takes the trainable function, the parameter space and a TuneConfig. TuneConfig defines how the HPO should be executed, e.g. which metric to optimize for (and whether it should be minimized or maximized) and the number of samples.\n",
    "\n",
    "Now we can start the HPO. Ray will show in real time the state of the trials and usage of resources."
   ]
  },
  {
   "cell_type": "code",
   "execution_count": 9,
   "metadata": {},
   "outputs": [
    {
     "data": {
      "text/plain": "<IPython.core.display.HTML object>",
      "text/html": ""
     },
     "metadata": {},
     "output_type": "display_data"
    },
    {
     "name": "stderr",
     "output_type": "stream",
     "text": [
      "2023-01-24 18:07:39,492\tWARNING worker.py:1851 -- Warning: The actor ImplicitFunc is very large (45 MiB). Check that its definition is not implicitly capturing a large array or other object in scope. Tip: use ray.put() to put large objects in the Ray object store.\n",
      "2023-01-24 18:07:39,606\tWARNING util.py:244 -- The `start_trial` operation took 0.857 s, which may be a performance bottleneck.\n"
     ]
    },
    {
     "data": {
      "text/plain": "<IPython.core.display.HTML object>",
      "text/html": "<div class=\"trialProgress\">\n  <h3>Trial Progress</h3>\n  <table>\n<thead>\n<tr><th>Trial name            </th><th>date               </th><th>done  </th><th>episodes_total  </th><th style=\"text-align: right;\">  epoch</th><th>experiment_id                   </th><th>hostname          </th><th style=\"text-align: right;\">  iterations_since_restore</th><th style=\"text-align: right;\">  mean_accuracy</th><th>node_ip       </th><th style=\"text-align: right;\">   pid</th><th style=\"text-align: right;\">  time_since_restore</th><th style=\"text-align: right;\">  time_this_iter_s</th><th style=\"text-align: right;\">  time_total_s</th><th style=\"text-align: right;\">  timestamp</th><th style=\"text-align: right;\">  timesteps_since_restore</th><th>timesteps_total  </th><th style=\"text-align: right;\">  training_iteration</th><th>trial_id   </th><th style=\"text-align: right;\">  warmup_time</th></tr>\n</thead>\n<tbody>\n<tr><td>train_tune_99ea7_00000</td><td>2023-01-24_18-07-50</td><td>False </td><td>                </td><td style=\"text-align: right;\">      1</td><td>cda1e43b4c994c1b9647742057697900</td><td>raphael-20ujs00k00</td><td style=\"text-align: right;\">                         1</td><td style=\"text-align: right;\">        40.7833</td><td>192.168.188.20</td><td style=\"text-align: right;\">322422</td><td style=\"text-align: right;\">             8.41687</td><td style=\"text-align: right;\">           8.41687</td><td style=\"text-align: right;\">       8.41687</td><td style=\"text-align: right;\"> 1674580070</td><td style=\"text-align: right;\">                        0</td><td>                 </td><td style=\"text-align: right;\">                   1</td><td>99ea7_00000</td><td style=\"text-align: right;\">   0.00360537</td></tr>\n</tbody>\n</table>\n</div>\n<style>\n.trialProgress {\n  display: flex;\n  flex-direction: column;\n  color: var(--jp-ui-font-color1);\n}\n.trialProgress h3 {\n  font-weight: bold;\n}\n.trialProgress td {\n  white-space: nowrap;\n}\n</style>\n"
     },
     "metadata": {},
     "output_type": "display_data"
    },
    {
     "name": "stderr",
     "output_type": "stream",
     "text": [
      "2023-01-24 18:09:06,827\tINFO tune.py:762 -- Total run time: 90.43 seconds (89.76 seconds for the tuning loop).\n"
     ]
    }
   ],
   "source": [
    "# Define ressources for each trial\n",
    "resources = {\"cpu\":2, \"gpu\":1} if torch.cuda.is_available() else {\"cpu\":2}\n",
    "trainable = tune.with_resources(train_tune, resources=resources) \n",
    "\n",
    "# Define the properties of the search space\n",
    "config = {\n",
    "    \"epochs\": 10,\n",
    "    \"lr\": tune.uniform(1e-1,1e-5),\n",
    "    \"weight_decay\": tune.uniform(1e-2,1e-6)\n",
    "}\n",
    "\n",
    "# Create the HPO tuner\n",
    "tuner = tune.Tuner(\n",
    "    trainable,\n",
    "    param_space = config,\n",
    "    tune_config = tune.TuneConfig(\n",
    "        metric = \"mean_accuracy\",\n",
    "        mode = \"max\",\n",
    "        num_samples = 4,\n",
    "    )\n",
    ")\n",
    "\n",
    "# Start the tuner\n",
    "results = tuner.fit()"
   ]
  },
  {
   "cell_type": "code",
   "execution_count": 10,
   "metadata": {},
   "outputs": [
    {
     "name": "stdout",
     "output_type": "stream",
     "text": [
      "{'epochs': 10, 'lr': 0.05452556839975276, 'weight_decay': 0.0014984087014014574}\n"
     ]
    },
    {
     "data": {
      "text/plain": "Text(0, 0.5, 'Mean accuracy')"
     },
     "execution_count": 10,
     "metadata": {},
     "output_type": "execute_result"
    },
    {
     "data": {
      "text/plain": "<Figure size 432x288 with 1 Axes>",
      "image/png": "[encoded data removed]"
     },
     "metadata": {
      "needs_background": "light"
     },
     "output_type": "display_data"
    }
   ],
   "source": [
    "print(results.get_best_result().config)\n",
    "\n",
    "ax = None\n",
    "dfs = {result.log_dir: result.metrics_dataframe for result in results}\n",
    "for d in dfs.values():\n",
    "    ax = d.plot(ax=ax, y=\"mean_accuracy\", x=\"epoch\", legend=False)\n",
    "ax.set_xlabel(\"Epochs\")\n",
    "ax.set_ylabel(\"Mean accuracy\")"
   ]
  },
  {
   "attachments": {},
   "cell_type": "markdown",
   "metadata": {},
   "source": [
    "## Hyperparameter optimization (ASAH Scheduler)"
   ]
  },
  {
   "attachments": {},
   "cell_type": "markdown",
   "metadata": {},
   "source": [
    "Now we are going to make the example slightly harder by integrating the ASAH scheduler. This scheduler will try to stop non-promising trials in order to save ressources. This allows us to choose a higher number of samples without increasing the training time. \n",
    "\n",
    "We can reuse the train_tune() function and the config from before. Afterwards we need to define the scheduler with the correct arguments. \n",
    "\n",
    "Now we only need to add the scheduler to the TuneConfig and afterwards we can start the HPO.\n",
    "\n",
    "**HINT**: The ASAH scheduler can also take \"metric\" and \"mode\" as input. If you already defined this in the TuneConfig do **NOT** redefine it."
   ]
  },
  {
   "cell_type": "code",
   "execution_count": 11,
   "metadata": {},
   "outputs": [
    {
     "data": {
      "text/plain": "<IPython.core.display.HTML object>",
      "text/html": ""
     },
     "metadata": {},
     "output_type": "display_data"
    },
    {
     "name": "stderr",
     "output_type": "stream",
     "text": [
      "2023-01-24 18:09:12,195\tWARNING worker.py:1851 -- Warning: The actor ImplicitFunc is very large (45 MiB). Check that its definition is not implicitly capturing a large array or other object in scope. Tip: use ray.put() to put large objects in the Ray object store.\n",
      "2023-01-24 18:09:12,335\tWARNING util.py:244 -- The `start_trial` operation took 0.890 s, which may be a performance bottleneck.\n",
      "2023-01-24 18:09:17,382\tWARNING util.py:244 -- The `start_trial` operation took 0.514 s, which may be a performance bottleneck.\n"
     ]
    },
    {
     "data": {
      "text/plain": "<IPython.core.display.HTML object>",
      "text/html": "<div class=\"trialProgress\">\n  <h3>Trial Progress</h3>\n  <table>\n<thead>\n<tr><th>Trial name            </th><th>date               </th><th>done  </th><th>episodes_total  </th><th style=\"text-align: right;\">  epoch</th><th>experiment_id                   </th><th>hostname          </th><th style=\"text-align: right;\">  iterations_since_restore</th><th style=\"text-align: right;\">  mean_accuracy</th><th>node_ip       </th><th style=\"text-align: right;\">   pid</th><th style=\"text-align: right;\">  time_since_restore</th><th style=\"text-align: right;\">  time_this_iter_s</th><th style=\"text-align: right;\">  time_total_s</th><th style=\"text-align: right;\">  timestamp</th><th style=\"text-align: right;\">  timesteps_since_restore</th><th>timesteps_total  </th><th style=\"text-align: right;\">  training_iteration</th><th>trial_id   </th><th style=\"text-align: right;\">  warmup_time</th></tr>\n</thead>\n<tbody>\n<tr><td>train_tune_d0083_00000</td><td>2023-01-24_18-09-25</td><td>False </td><td>                </td><td style=\"text-align: right;\">      1</td><td>275040c86b2b4b2b904404ecb2651124</td><td>raphael-20ujs00k00</td><td style=\"text-align: right;\">                         1</td><td style=\"text-align: right;\">        65.8333</td><td>192.168.188.20</td><td style=\"text-align: right;\">323289</td><td style=\"text-align: right;\">             10.9536</td><td style=\"text-align: right;\">           10.9536</td><td style=\"text-align: right;\">       10.9536</td><td style=\"text-align: right;\"> 1674580165</td><td style=\"text-align: right;\">                        0</td><td>                 </td><td style=\"text-align: right;\">                   1</td><td>d0083_00000</td><td style=\"text-align: right;\">   0.00317645</td></tr>\n</tbody>\n</table>\n</div>\n<style>\n.trialProgress {\n  display: flex;\n  flex-direction: column;\n  color: var(--jp-ui-font-color1);\n}\n.trialProgress h3 {\n  font-weight: bold;\n}\n.trialProgress td {\n  white-space: nowrap;\n}\n</style>\n"
     },
     "metadata": {},
     "output_type": "display_data"
    },
    {
     "name": "stderr",
     "output_type": "stream",
     "text": [
      "2023-01-24 18:09:30,452\tWARNING tune.py:690 -- Stop signal received (e.g. via SIGINT/Ctrl+C), ending Ray Tune run. This will try to checkpoint the experiment state one last time. Press CTRL+C (or send SIGINT/SIGKILL/SIGTERM) to skip. \n",
      "2023-01-24 18:09:30,750\tERROR tune.py:758 -- Trials did not complete: [train_tune_d0083_00000, train_tune_d0083_00001, train_tune_d0083_00002, train_tune_d0083_00003, train_tune_d0083_00004, train_tune_d0083_00005, train_tune_d0083_00006, train_tune_d0083_00007]\n",
      "2023-01-24 18:09:30,751\tINFO tune.py:762 -- Total run time: 23.60 seconds (22.74 seconds for the tuning loop).\n",
      "2023-01-24 18:09:30,752\tWARNING tune.py:768 -- Experiment has been interrupted, but the most recent state was saved. You can continue running this experiment by passing `resume=True` to `tune.run()`\n"
     ]
    }
   ],
   "source": [
    "# Define the ASAH scheduler\n",
    "scheduler = ASHAScheduler(\n",
    "    max_t=config[\"epochs\"], # Max time per trial\n",
    "    time_attr=\"training_iteration\", # Which metric is used as measurement for \"time\"\n",
    "    grace_period=3\n",
    "    )\n",
    "\n",
    "# Create the HPO tuner\n",
    "tuner = tune.Tuner(\n",
    "    trainable,\n",
    "    param_space = config,\n",
    "    tune_config = tune.TuneConfig(\n",
    "        metric = \"mean_accuracy\",\n",
    "        mode = \"max\",\n",
    "        num_samples = 8,\n",
    "        scheduler=scheduler,\n",
    "    )\n",
    ")\n",
    "\n",
    "# Start the tuner\n",
    "results_asah = tuner.fit()"
   ]
  },
  {
   "cell_type": "code",
   "execution_count": 12,
   "metadata": {},
   "outputs": [
    {
     "name": "stdout",
     "output_type": "stream",
     "text": [
      "{'epochs': 10, 'lr': 0.03038005155333598, 'weight_decay': 0.004473015432021882}\n"
     ]
    },
    {
     "ename": "AttributeError",
     "evalue": "'NoneType' object has no attribute 'plot'",
     "output_type": "error",
     "traceback": [
      "\u001B[0;31m---------------------------------------------------------------------------\u001B[0m",
      "\u001B[0;31mAttributeError\u001B[0m                            Traceback (most recent call last)",
      "Input \u001B[0;32mIn [12]\u001B[0m, in \u001B[0;36m<cell line: 5>\u001B[0;34m()\u001B[0m\n\u001B[1;32m      4\u001B[0m dfs \u001B[38;5;241m=\u001B[39m {result\u001B[38;5;241m.\u001B[39mlog_dir: result\u001B[38;5;241m.\u001B[39mmetrics_dataframe \u001B[38;5;28;01mfor\u001B[39;00m result \u001B[38;5;129;01min\u001B[39;00m results_asah}\n\u001B[1;32m      5\u001B[0m \u001B[38;5;28;01mfor\u001B[39;00m d \u001B[38;5;129;01min\u001B[39;00m dfs\u001B[38;5;241m.\u001B[39mvalues():\n\u001B[0;32m----> 6\u001B[0m     ax \u001B[38;5;241m=\u001B[39m \u001B[43md\u001B[49m\u001B[38;5;241;43m.\u001B[39;49m\u001B[43mplot\u001B[49m(ax\u001B[38;5;241m=\u001B[39max, y\u001B[38;5;241m=\u001B[39m\u001B[38;5;124m\"\u001B[39m\u001B[38;5;124mmean_accuracy\u001B[39m\u001B[38;5;124m\"\u001B[39m, x\u001B[38;5;241m=\u001B[39m\u001B[38;5;124m\"\u001B[39m\u001B[38;5;124mepoch\u001B[39m\u001B[38;5;124m\"\u001B[39m, legend\u001B[38;5;241m=\u001B[39m\u001B[38;5;28;01mFalse\u001B[39;00m)\n\u001B[1;32m      7\u001B[0m ax\u001B[38;5;241m.\u001B[39mset_xlabel(\u001B[38;5;124m\"\u001B[39m\u001B[38;5;124mEpochs\u001B[39m\u001B[38;5;124m\"\u001B[39m)\n\u001B[1;32m      8\u001B[0m ax\u001B[38;5;241m.\u001B[39mset_ylabel(\u001B[38;5;124m\"\u001B[39m\u001B[38;5;124mMean accuracy\u001B[39m\u001B[38;5;124m\"\u001B[39m)\n",
      "\u001B[0;31mAttributeError\u001B[0m: 'NoneType' object has no attribute 'plot'"
     ]
    },
    {
     "data": {
      "text/plain": "<Figure size 432x288 with 1 Axes>",
      "image/png": "[encoded data removed]"
     },
     "metadata": {
      "needs_background": "light"
     },
     "output_type": "display_data"
    }
   ],
   "source": [
    "print(results_asah.get_best_result().config)\n",
    "\n",
    "ax = None\n",
    "dfs = {result.log_dir: result.metrics_dataframe for result in results_asah}\n",
    "for d in dfs.values():\n",
    "    ax = d.plot(ax=ax, y=\"mean_accuracy\", x=\"epoch\", legend=False)\n",
    "ax.set_xlabel(\"Epochs\")\n",
    "ax.set_ylabel(\"Mean accuracy\")"
   ]
  },
  {
   "attachments": {},
   "cell_type": "markdown",
   "metadata": {},
   "source": [
    "In the graph we can see that indeed trials were stopped by ASAH."
   ]
  },
  {
   "attachments": {},
   "cell_type": "markdown",
   "metadata": {},
   "source": [
    "## Hyperparameter optimization (PBT)"
   ]
  },
  {
   "attachments": {},
   "cell_type": "markdown",
   "metadata": {},
   "source": [
    "![tune_pbt_600px.png](images/tune_pbt_600px.png)\n",
    "\n",
    "*Ray Framework Overview (https://docs.ray.io/en/latest/index.html)*"
   ]
  },
  {
   "attachments": {},
   "cell_type": "markdown",
   "metadata": {},
   "source": [
    "One of the most interesting HPO algorithms in Ray Tune is the Population Based Training (PBT). In PBT we do not see each trial as independent but we rather try to increase the performance of the whole population of trials. After some epochs PBT will replace bad performing trials with good performing ones and perturb their parameters. Similar to the ASAH scheduler this will ensure that non-promising trials are stopped early on and that the search focuses on the promising parts in the search space. \n",
    "\n",
    "Ray Tune contains a distributed implementation of this algorithm. Since PBT will replace the bad with the good trials we need to somehow store the state of the good trials. This can be achieved by using checkpoints in Ray. The code below shows the modified train_tune() function.\n",
    "\n",
    "Let's first look at the added lines in the training loop. We can directly create a checkpoint from a dictionary (storing the models parameters and the epochs) by using the Checkpoint.from_dict() function. This checkpoint can be added to session.report(). Now a checkpoint containing the model's state will be created in each iteration. For large epoch number the checkpoint frequency should be lower to avoid unnecessary overhead.\n",
    "\n",
    "If a bad trial is stopped Tune will create a new trial and run the training function with the perturbed hyperparameters. It will furthermore copy the checkpoint of the better performing trial. Therefore we need to check whether a checkpoint is available at the beginning of the training. If there is no checkpoint available we now that this trial is new and was not replace. If there is a checkpoint available then the trial was replaced and we need to load the state of the model. Furthermore we need to set the current epoch to the correct value."
   ]
  },
  {
   "cell_type": "code",
   "execution_count": null,
   "metadata": {},
   "outputs": [],
   "source": [
    "def train_tune_pbt(config):\n",
    "    step = 0\n",
    "    epochs = config[\"epochs\"]\n",
    "    lr = config[\"lr\"]\n",
    "    weight_decay = config[\"weight_decay\"]\n",
    "\n",
    "    device = \"cuda\" if torch.cuda.is_available() else \"cpu\"\n",
    "    model = NeuralNetwork().to(device)\n",
    "\n",
    "    loss_fn = nn.CrossEntropyLoss()\n",
    "    optimizer = torch.optim.SGD(model.parameters(), lr=lr, weight_decay=weight_decay)\n",
    "\n",
    "    if session.get_checkpoint():\n",
    "        loaded_checkpoint = session.get_checkpoint()\n",
    "        checkpoint = loaded_checkpoint.to_dict()\n",
    "        model.load_state_dict(checkpoint[\"model_state\"])\n",
    "        step = checkpoint[\"last_step\"] + 1\n",
    "\n",
    "    for t in range(step, epochs):\n",
    "        print(f\"Epoch {t+1}\\n-------------------------------\")\n",
    "        train_epoch(train_dataloader, model, loss_fn, optimizer, device)\n",
    "        accuracy = test(val_dataloader, model, loss_fn, device)\n",
    "\n",
    "        checkpoint = Checkpoint.from_dict(\n",
    "            {\n",
    "                \"last_step\": t,\n",
    "                \"model_state\": model.state_dict(),\n",
    "            }\n",
    "        )\n",
    "        session.report(metrics={\"mean_accuracy\": accuracy, \"step\": t}, checkpoint=checkpoint)"
   ]
  },
  {
   "attachments": {},
   "cell_type": "markdown",
   "metadata": {},
   "source": [
    "Now the process is similar to the examples before. We create a trainable function and assign the needed ressources. Instead of defining the ASAH scheduler as before we define the PBT scheduler and the tuner is created and started as done before.\n",
    "\n",
    "**HINT**: The PBT scheduler can also take \"metric\" and \"mode\" as input. If you already defined this in the TuneConfig do **NOT** redefine it."
   ]
  },
  {
   "cell_type": "code",
   "execution_count": null,
   "metadata": {},
   "outputs": [],
   "source": [
    "# Define resources for each trial\n",
    "resources = {\"cpu\":2, \"gpu\":1} if torch.cuda.is_available() else {\"cpu\":2}\n",
    "trainable = tune.with_resources(train_tune_pbt, resources=resources) \n",
    "\n",
    "# Define the PBT algorithm\n",
    "scheduler = PopulationBasedTraining(\n",
    "    time_attr = \"training_iteration\",\n",
    "    perturbation_interval = 2,\n",
    "    hyperparam_mutations = {\n",
    "        \"lr\": config[\"lr\"],\n",
    "        \"weight_decay\": config[\"weight_decay\"]\n",
    "    },\n",
    ")\n",
    "\n",
    "# Create the HPO tuner\n",
    "tuner = tune.Tuner(\n",
    "    trainable,\n",
    "    param_space = config,\n",
    "    tune_config = tune.TuneConfig(\n",
    "        metric = \"mean_accuracy\",\n",
    "        mode = \"max\",\n",
    "        num_samples = 4,\n",
    "        scheduler=scheduler,\n",
    "    )\n",
    ")\n",
    "\n",
    "# Run the tuner\n",
    "results_pbt = tuner.fit()"
   ]
  },
  {
   "cell_type": "code",
   "execution_count": null,
   "metadata": {},
   "outputs": [],
   "source": [
    "print(results_pbt.get_best_result().config)\n",
    "\n",
    "ax = None\n",
    "dfs = {result.log_dir: result.metrics_dataframe for result in results_pbt}\n",
    "for d in dfs.values():\n",
    "    ax = d.plot(ax=ax, y=\"mean_accuracy\", x=\"step\", legend=False)\n",
    "ax.set_xlabel(\"Epochs\")\n",
    "ax.set_ylabel(\"Mean accuracy\")"
   ]
  }
 ],
 "metadata": {
  "kernelspec": {
   "name": "ray_tune",
   "language": "python",
   "display_name": "Ray_Tune"
  },
  "language_info": {
   "codemirror_mode": {
    "name": "ipython",
    "version": 3
   },
   "file_extension": ".py",
   "mimetype": "text/x-python",
   "name": "python",
   "nbconvert_exporter": "python",
   "pygments_lexer": "ipython3",
   "version": "3.10.8"
  },
  "vscode": {
   "interpreter": {
    "hash": "12b5708e47bcce2ed9c7c0871afac25011cce35a7f95a435508fd0065dc55843"
   }
  }
 },
 "nbformat": 4,
 "nbformat_minor": 0
}
